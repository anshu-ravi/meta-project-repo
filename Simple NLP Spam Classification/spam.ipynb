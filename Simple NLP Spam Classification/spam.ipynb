{
 "cells": [
  {
   "cell_type": "markdown",
   "metadata": {},
   "source": [
    "# Spam Classification Using NLP "
   ]
  },
  {
   "cell_type": "code",
   "execution_count": null,
   "metadata": {},
   "outputs": [],
   "source": [
    "# Importing the Libaries \n",
    "\n",
    "# Data Loading \n",
    "import pandas as pd\n",
    "\n",
    "#Text Cleaning \n",
    "import re \n",
    "\n",
    "# Text Preprocessing \n",
    "import nltk \n",
    "from nltk.corpus import stopwords\n",
    "from nltk.stem.porter import PorterStemmer\n",
    "from nltk.stem import WordNetLemmatizer\n",
    "\n",
    "# Vectorizers \n",
    "from sklearn.feature_extraction.text import TfidfVectorizer\n",
    "from sklearn.feature_extraction.text import CountVectorizer\n",
    "\n",
    "# Train - test split \n",
    "from sklearn.model_selection import train_test_split\n",
    "\n",
    "# Model buidling \n",
    "from lazypredict.Supervised import LazyClassifier\n",
    "from sklearn.naive_bayes import GaussianNB, MultinomialNB\n",
    "from sklearn.metrics import accuracy_score, confusion_matrix\n",
    "from sklearn.ensemble import RandomForestClassifier\n",
    "\n",
    "#Visualization \n",
    "import seaborn as sns \n"
   ]
  },
  {
   "cell_type": "code",
   "execution_count": null,
   "metadata": {},
   "outputs": [],
   "source": [
    "# Loading the dataset \n",
    "data = pd.read_csv('Data/SMSSpamCollection', sep='\\t', names=['labels', 'message'])\n",
    "data.head()"
   ]
  },
  {
   "cell_type": "markdown",
   "metadata": {},
   "source": [
    "The labels are Spam and ham (not spam) "
   ]
  },
  {
   "cell_type": "code",
   "execution_count": null,
   "metadata": {},
   "outputs": [],
   "source": [
    "# Visualizing the number of spams and hams in the dataset using a countplot \n",
    "sns.countplot(x = 'labels', data = data);\n",
    "data['labels'].value_counts()"
   ]
  },
  {
   "cell_type": "markdown",
   "metadata": {},
   "source": [
    "## Stemmer + Bag of Words Combination"
   ]
  },
  {
   "cell_type": "markdown",
   "metadata": {},
   "source": [
    "Next Step - \n",
    "- Remove all characters that aren't alphabets such as punctuation marks, numbers etc. \n",
    "- Convert the text to lower case \n",
    "- Create word tokens aka split the messages into words \n",
    "- Remove all stopwords by using the stopwords() in nltk \n",
    "- Carry out on stemming on these words \n",
    "- Join the stemmed words back to create sentences \n",
    "- Add these sentences to the corpus. \n",
    "\n",
    "Note - the corpus is a list containing all the sentences in the dataset and will be used later to create the vector using TFIDF"
   ]
  },
  {
   "cell_type": "code",
   "execution_count": null,
   "metadata": {},
   "outputs": [],
   "source": [
    "# Text Cleaning and preprocessing \n",
    "\n",
    "stemmer = PorterStemmer()\n",
    "corpus = []\n",
    "for i in range(len(data)): \n",
    "    processed_data = re.sub('[^a-zA-Z]', ' ', data['message'][i])\n",
    "    processed_data = processed_data.lower().split()\n",
    "\n",
    "    processed_data = [stemmer.stem(word) for word in processed_data if not word in stopwords.words('english')]\n",
    "    processed_data = ' '.join(processed_data)\n",
    "    corpus.append(processed_data)\n"
   ]
  },
  {
   "cell_type": "code",
   "execution_count": null,
   "metadata": {},
   "outputs": [],
   "source": [
    "# Creating dummies for the variable - label with 1 for spam and 0 for ham \n",
    "y = pd.get_dummies(data['labels'])\n",
    "y = y.iloc[:,1].values\n",
    "\n",
    "\n",
    "# Splitting my data into train and test before creating Bag of Words \n",
    "X_train, X_test, y_train, y_test = train_test_split(corpus, y, test_size = 0.2, random_state = 0)"
   ]
  },
  {
   "cell_type": "code",
   "execution_count": null,
   "metadata": {},
   "outputs": [],
   "source": [
    "# Creating Bag of Words \n",
    "vectorizer = CountVectorizer(max_features=2500)\n",
    "X_train = vectorizer.fit_transform(X_train).toarray()\n",
    "X_test = vectorizer.fit_transform(X_test).toarray()\n",
    "\n",
    "# Model buidling \n",
    "clf = GaussianNB().fit(X_train,y_train)\n",
    "y_predicted = clf.predict(X_test)\n",
    "\n",
    "confusion_mat = confusion_matrix(y_predicted, y_test)\n",
    "accuracy = accuracy_score(y_predicted, y_test)\n",
    "\n",
    "print(f'Confusion Matrix \\n {confusion_mat}')\n",
    "print(f'Accuracy Score is = {accuracy}')"
   ]
  },
  {
   "cell_type": "code",
   "execution_count": null,
   "metadata": {},
   "outputs": [],
   "source": [
    "clf = LazyClassifier(verbose=0,ignore_warnings=True, custom_metric=None)\n",
    "models,predictions = clf.fit(X_train, X_test, y_train, y_test)"
   ]
  },
  {
   "cell_type": "code",
   "execution_count": null,
   "metadata": {},
   "outputs": [],
   "source": [
    "models"
   ]
  },
  {
   "cell_type": "markdown",
   "metadata": {},
   "source": [
    "## Lemmatization + TFIDF Vectorizer "
   ]
  },
  {
   "cell_type": "code",
   "execution_count": null,
   "metadata": {},
   "outputs": [],
   "source": [
    "# Text Cleaning and preprocessing \n",
    "\n",
    "lemmatizer = WordNetLemmatizer()\n",
    "corpus = []\n",
    "for i in range(len(data)): \n",
    "    processed_data = re.sub('[^a-zA-Z]', ' ', data['message'][i])\n",
    "    processed_data = processed_data.lower().split()\n",
    "\n",
    "    processed_data = [lemmatizer.lemmatize(word) for word in processed_data if not word in stopwords.words('english')]\n",
    "    processed_data = ' '.join(processed_data)\n",
    "    corpus.append(processed_data)\n"
   ]
  },
  {
   "cell_type": "code",
   "execution_count": null,
   "metadata": {},
   "outputs": [],
   "source": [
    "# Creating dummies for the variable - label with 1 for spam and 0 for ham \n",
    "y = pd.get_dummies(data['labels'])\n",
    "y = y.iloc[:,1].values\n",
    "\n",
    "\n",
    "# Splitting my data into train and test before creating TFIDF\n",
    "X_train, X_test, y_train, y_test = train_test_split(corpus, y, test_size = 0.2, random_state = 0)"
   ]
  },
  {
   "cell_type": "code",
   "execution_count": null,
   "metadata": {},
   "outputs": [],
   "source": [
    "# Creating Bag of Words \n",
    "vectorizer = TfidfVectorizer()\n",
    "X_train = vectorizer.fit_transform(X_train).toarray()\n",
    "X_test = vectorizer.transform(X_test).toarray()\n",
    "\n",
    "# Model buidling \n",
    "clf = RandomForestClassifier().fit(X_train,y_train)\n",
    "y_predicted = clf.predict(X_test)\n",
    "\n",
    "confusion_mat = confusion_matrix(y_predicted, y_test)\n",
    "accuracy = accuracy_score(y_predicted, y_test)\n",
    "\n",
    "print(f'Confusion Matrix \\n {confusion_mat}')\n",
    "print(f'Accuracy Score is = {accuracy}')"
   ]
  },
  {
   "cell_type": "code",
   "execution_count": null,
   "metadata": {},
   "outputs": [],
   "source": [
    "clf = LazyClassifier(verbose=0,ignore_warnings=True, custom_metric=None)\n",
    "models,predictions = clf.fit(X_train, X_test, y_train, y_test)"
   ]
  },
  {
   "cell_type": "code",
   "execution_count": null,
   "metadata": {},
   "outputs": [],
   "source": [
    "models"
   ]
  }
 ],
 "metadata": {
  "interpreter": {
   "hash": "a6389916ed26bdc384cf54cacf4f7b174e5663c0b62e71fedb6db6aca8bd7630"
  },
  "kernelspec": {
   "display_name": "Python 3 (ipykernel)",
   "language": "python",
   "name": "python3"
  },
  "language_info": {
   "codemirror_mode": {
    "name": "ipython",
    "version": 3
   },
   "file_extension": ".py",
   "mimetype": "text/x-python",
   "name": "python",
   "nbconvert_exporter": "python",
   "pygments_lexer": "ipython3",
   "version": "3.9.7"
  }
 },
 "nbformat": 4,
 "nbformat_minor": 2
}

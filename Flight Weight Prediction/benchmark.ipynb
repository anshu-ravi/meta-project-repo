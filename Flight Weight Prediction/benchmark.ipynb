{
 "cells": [
  {
   "cell_type": "code",
   "execution_count": 147,
   "metadata": {},
   "outputs": [],
   "source": [
    "import numpy as np\n",
    "import pandas as pd\n",
    "import matplotlib.pyplot as plt\n",
    "import seaborn as sns\n",
    "from sklearn.linear_model import LinearRegression\n",
    "from sklearn.preprocessing import PowerTransformer"
   ]
  },
  {
   "cell_type": "code",
   "execution_count": 134,
   "metadata": {},
   "outputs": [],
   "source": [
    "train = pd.read_csv('data/train.csv')\n",
    "test = pd.read_csv('data/test.csv')\n",
    "submission = pd.read_csv('data/sample_submission.csv').drop('TeledyneRampWeight',axis=1)\n",
    "\n",
    "vars_to_drop = ['FlightID','FlightNumber','AircraftRegistration','ScheduledRoute','DepartureScheduled','ArrivalScheduled',\n",
    "'AircraftTypeGroup','AOCDescription','ServiceDescription','Carrier','Infants']\n",
    "\n",
    "def basic_preprocess(data, vars_to_drop):\n",
    "    data = data.drop(vars_to_drop,axis=1)\n",
    "    return data\n",
    "\n",
    "def power_transform(train_data, test_data):\n",
    "    to_transform = ['BlockTimeScheduled','Adults','Children','Freight','Bags']\n",
    "    pt = PowerTransformer(method='yeo-johnson',standardize=False)\n",
    "    pt_fit = pt.fit_transform(train_data[to_transform])\n",
    "    pt_fit_t = pt.transform(test_data[to_transform])\n",
    "    pt_train = pd.DataFrame(pt_fit,columns=to_transform)\n",
    "    pt_test = pd.DataFrame(pt_fit_t,columns=to_transform)\n",
    "    train_data = pd.concat([train_data[['AircraftCapacity','TeledyneRampWeight']],pt_train],axis=1)\n",
    "    test_data = pd.concat([test_data['AircraftCapacity'],pt_test],axis=1)\n",
    "    return train_data, test_data\n",
    "\n",
    "train = basic_preprocess(train, vars_to_drop)\n",
    "test = basic_preprocess(test, vars_to_drop)\n",
    "\n",
    "train, test = power_transform(train, test)"
   ]
  },
  {
   "cell_type": "code",
   "execution_count": 135,
   "metadata": {},
   "outputs": [],
   "source": [
    "train = train[(train.TeledyneRampWeight > 45000)&(train.TeledyneRampWeight < 100000)]"
   ]
  },
  {
   "cell_type": "code",
   "execution_count": 137,
   "metadata": {},
   "outputs": [
    {
     "data": {
      "image/png": "[encoded data removed]",
      "text/plain": [
       "<Figure size 432x288 with 1 Axes>"
      ]
     },
     "metadata": {
      "needs_background": "light"
     },
     "output_type": "display_data"
    }
   ],
   "source": [
    "train.TeledyneRampWeight.hist();"
   ]
  },
  {
   "cell_type": "code",
   "execution_count": 148,
   "metadata": {},
   "outputs": [],
   "source": [
    "train_df = pd.get_dummies(train,columns=['AircraftCapacity'],drop_first=True)\n",
    "test_df = pd.get_dummies(test,columns=['AircraftCapacity'],drop_first=True)\n",
    "\n",
    "X_train = train_df.drop('TeledyneRampWeight',axis=1)\n",
    "y_train = train_df['TeledyneRampWeight']\n",
    "X_test = test_df"
   ]
  },
  {
   "cell_type": "code",
   "execution_count": 150,
   "metadata": {},
   "outputs": [],
   "source": [
    "lr = LinearRegression()\n",
    "lr.fit(X_train, y_train)\n",
    "y_pred = lr.predict(X_test)"
   ]
  },
  {
   "cell_type": "code",
   "execution_count": 152,
   "metadata": {},
   "outputs": [],
   "source": [
    "submission['TeledyneRampWeight'] = y_pred\n",
    "submission.to_csv('benchmark.csv',index=False)"
   ]
  }
 ],
 "metadata": {
  "kernelspec": {
   "display_name": "Python 3.8.12 ('datathon')",
   "language": "python",
   "name": "python3"
  },
  "language_info": {
   "codemirror_mode": {
    "name": "ipython",
    "version": 3
   },
   "file_extension": ".py",
   "mimetype": "text/x-python",
   "name": "python",
   "nbconvert_exporter": "python",
   "pygments_lexer": "ipython3",
   "version": "3.8.12"
  },
  "orig_nbformat": 4,
  "vscode": {
   "interpreter": {
    "hash": "c0db51375e559fd86932c5e4fdcfe915ff815bea5a0318274fa6ebda06205aad"
   }
  }
 },
 "nbformat": 4,
 "nbformat_minor": 2
}

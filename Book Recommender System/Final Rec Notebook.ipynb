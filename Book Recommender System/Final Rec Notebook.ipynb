{
 "cells": [
  {
   "cell_type": "code",
   "execution_count": 3,
   "id": "b655df7e",
   "metadata": {},
   "outputs": [],
   "source": [
    "import pandas as pd\n",
    "import numpy as np\n",
    "import time\n",
    "from sklearn.metrics import mean_squared_error, mean_absolute_error\n",
    "from surprise import Dataset, Reader, accuracy\n",
    "from surprise.prediction_algorithms import knns, matrix_factorization, slope_one, co_clustering\n",
    "from surprise.model_selection import train_test_split, split, cross_validate, search"
   ]
  },
  {
   "cell_type": "code",
   "execution_count": 4,
   "id": "f7648a8b",
   "metadata": {},
   "outputs": [
    {
     "name": "stderr",
     "output_type": "stream",
     "text": [
      "/tmp/ipykernel_211/3257263380.py:6: DtypeWarning: Columns (3) have mixed types. Specify dtype option on import or set low_memory=False.\n",
      "  books = pd.read_csv('data/BX-Books.csv', sep=';', encoding='latin-1', names = books_cols, skiprows=1, on_bad_lines='skip')\n"
     ]
    }
   ],
   "source": [
    "user_cols = ['user_id', 'location', 'age']\n",
    "books_cols = ['isbn', 'book_title' ,'book_author','year_of_publication', 'publisher', 'img_s ', 'img_m', 'img_l']\n",
    "ratings_cols = ['user_id', 'isbn', 'rating']\n",
    "\n",
    "users = pd.read_csv('data/BX-Users.csv', sep=';', encoding='latin-1', names = user_cols, skiprows=1)\n",
    "books = pd.read_csv('data/BX-Books.csv', sep=';', encoding='latin-1', names = books_cols, skiprows=1, on_bad_lines='skip')\n",
    "ratings = pd.read_csv('data/BX-Book-Ratings.csv', sep=';', encoding='latin-1', names = ratings_cols, skiprows=1)"
   ]
  },
  {
   "cell_type": "code",
   "execution_count": 5,
   "id": "7f8301bb",
   "metadata": {},
   "outputs": [
    {
     "name": "stderr",
     "output_type": "stream",
     "text": [
      "/tmp/ipykernel_211/1914740957.py:3: FutureWarning: Using a non-tuple sequence for multidimensional indexing is deprecated; use `arr[tuple(seq)]` instead of `arr[seq]`. In the future this will be interpreted as an array index, `arr[np.array(seq)]`, which will result either in an error or a different result.\n",
      "  books_threshold = book_ids[[np.where(book_counts >= 5)[0]]]\n"
     ]
    }
   ],
   "source": [
    "# Filtering books with at least 5 ratings\n",
    "book_ids, book_counts = np.unique(ratings.isbn, return_counts=True)\n",
    "books_threshold = book_ids[[np.where(book_counts >= 5)[0]]]\n",
    "new_ratings = ratings[ratings.isbn.isin(books_threshold)]"
   ]
  },
  {
   "cell_type": "code",
   "execution_count": 6,
   "id": "250c838a",
   "metadata": {},
   "outputs": [
    {
     "name": "stderr",
     "output_type": "stream",
     "text": [
      "/tmp/ipykernel_211/2536173515.py:3: FutureWarning: Using a non-tuple sequence for multidimensional indexing is deprecated; use `arr[tuple(seq)]` instead of `arr[seq]`. In the future this will be interpreted as an array index, `arr[np.array(seq)]`, which will result either in an error or a different result.\n",
      "  users_threshold = user_ids[[np.where(user_counts >= 5)[0]]]\n"
     ]
    }
   ],
   "source": [
    "# Filtering users with at least 5 ratings\n",
    "user_ids, user_counts = np.unique(new_ratings.user_id, return_counts=True)\n",
    "users_threshold = user_ids[[np.where(user_counts >= 5)[0]]]\n",
    "new_ratings = new_ratings[new_ratings.user_id.isin(users_threshold)]"
   ]
  },
  {
   "cell_type": "code",
   "execution_count": 8,
   "id": "6d891fe1",
   "metadata": {},
   "outputs": [],
   "source": [
    "# Filtering books with at most 15 zero ratings\n",
    "zero_ratings = new_ratings.iloc[np.where(new_ratings.rating == 0)[0], :]\n",
    "zero_book_ids, zero_book_counts = np.unique(zero_ratings.isbn, return_counts=True)\n",
    "new_book_ids = zero_book_ids[np.where(zero_book_counts <= 15)[0]]\n",
    "new_rates = new_ratings[new_ratings.isbn.isin(new_book_ids)]"
   ]
  },
  {
   "cell_type": "code",
   "execution_count": 9,
   "id": "7b78abd0",
   "metadata": {},
   "outputs": [],
   "source": [
    "user_ids = np.random.choice(user_ids, size=6000, replace=False)\n",
    "book_ids = np.unique(new_rates.isbn)\n",
    "new_users = users[users.user_id.isin(user_ids)]\n",
    "new_rates = new_rates[new_rates.user_id.isin(user_ids)]\n",
    "new_books = books[books.isbn.isin(book_ids)]"
   ]
  },
  {
   "cell_type": "code",
   "execution_count": 30,
   "id": "e3b4a7cf",
   "metadata": {},
   "outputs": [],
   "source": [
    "new_rates.to_csv('Book_ratings.csv', index=False)\n",
    "new_books.to_csv('Books.csv', index=False)\n",
    "new_users.to_csv('Users.csv', index=False)"
   ]
  },
  {
   "cell_type": "code",
   "execution_count": 31,
   "id": "15a21b87",
   "metadata": {},
   "outputs": [
    {
     "data": {
      "text/plain": [
       "(35443, 8)"
      ]
     },
     "execution_count": 31,
     "metadata": {},
     "output_type": "execute_result"
    }
   ],
   "source": [
    "new_books.shape"
   ]
  },
  {
   "cell_type": "code",
   "execution_count": 7,
   "id": "4b2d64f6",
   "metadata": {},
   "outputs": [
    {
     "name": "stdout",
     "output_type": "stream",
     "text": [
      "Original length: 1149780,\n",
      "At least 5 ratings books & users length: 607651,\n",
      "At least 5 ratings books & users and at most 15 zero ratings length: 21661\n"
     ]
    }
   ],
   "source": [
    "print(f'Original length: {len(ratings)},\\nAt least 5 ratings books & users length: {len(new_ratings)},\\nAt least 5 ratings books & users and at most 15 zero ratings length: {len(new_rates)}')"
   ]
  },
  {
   "cell_type": "code",
   "execution_count": 8,
   "id": "6b14ac4d",
   "metadata": {},
   "outputs": [
    {
     "data": {
      "text/plain": [
       "(array([ 0,  1,  2,  3,  4,  5,  6,  7,  8,  9, 10]),\n",
       " array([14298,    23,    43,    91,   139,   660,   687,  1436,  1833,\n",
       "         1215,  1236]))"
      ]
     },
     "execution_count": 8,
     "metadata": {},
     "output_type": "execute_result"
    }
   ],
   "source": [
    "np.unique(new_rates.rating, return_counts=True)"
   ]
  },
  {
   "cell_type": "markdown",
   "id": "f080bdc8",
   "metadata": {},
   "source": [
    "# Final CF Model"
   ]
  },
  {
   "cell_type": "code",
   "execution_count": 10,
   "id": "887d1ff1",
   "metadata": {},
   "outputs": [],
   "source": [
    "# Transforming the data into surprise library format\n",
    "reader = Reader(rating_scale=(0,10))\n",
    "data = Dataset.load_from_df(new_rates, reader)\n",
    "train, test = train_test_split(data, test_size=.3, random_state=42)"
   ]
  },
  {
   "cell_type": "code",
   "execution_count": 11,
   "id": "28757c7b",
   "metadata": {
    "scrolled": true
   },
   "outputs": [
    {
     "name": "stdout",
     "output_type": "stream",
     "text": [
      "Execution time: 0.8772296905517578 seconds\n"
     ]
    },
    {
     "data": {
      "text/html": [
       "<div>\n",
       "<style scoped>\n",
       "    .dataframe tbody tr th:only-of-type {\n",
       "        vertical-align: middle;\n",
       "    }\n",
       "\n",
       "    .dataframe tbody tr th {\n",
       "        vertical-align: top;\n",
       "    }\n",
       "\n",
       "    .dataframe thead th {\n",
       "        text-align: right;\n",
       "    }\n",
       "</style>\n",
       "<table border=\"1\" class=\"dataframe\">\n",
       "  <thead>\n",
       "    <tr style=\"text-align: right;\">\n",
       "      <th></th>\n",
       "      <th>userId</th>\n",
       "      <th>movieId</th>\n",
       "      <th>actual</th>\n",
       "      <th>cf_predictions</th>\n",
       "    </tr>\n",
       "  </thead>\n",
       "  <tbody>\n",
       "    <tr>\n",
       "      <th>0</th>\n",
       "      <td>238120</td>\n",
       "      <td>0345277600</td>\n",
       "      <td>0.0</td>\n",
       "      <td>0.569685</td>\n",
       "    </tr>\n",
       "    <tr>\n",
       "      <th>1</th>\n",
       "      <td>250407</td>\n",
       "      <td>0618150730</td>\n",
       "      <td>7.0</td>\n",
       "      <td>2.364364</td>\n",
       "    </tr>\n",
       "    <tr>\n",
       "      <th>2</th>\n",
       "      <td>17247</td>\n",
       "      <td>0671780689</td>\n",
       "      <td>3.0</td>\n",
       "      <td>3.885848</td>\n",
       "    </tr>\n",
       "    <tr>\n",
       "      <th>3</th>\n",
       "      <td>78834</td>\n",
       "      <td>0345386663</td>\n",
       "      <td>0.0</td>\n",
       "      <td>1.563082</td>\n",
       "    </tr>\n",
       "    <tr>\n",
       "      <th>4</th>\n",
       "      <td>238120</td>\n",
       "      <td>0316540838</td>\n",
       "      <td>0.0</td>\n",
       "      <td>0.696585</td>\n",
       "    </tr>\n",
       "  </tbody>\n",
       "</table>\n",
       "</div>"
      ],
      "text/plain": [
       "   userId     movieId  actual  cf_predictions\n",
       "0  238120  0345277600     0.0        0.569685\n",
       "1  250407  0618150730     7.0        2.364364\n",
       "2   17247  0671780689     3.0        3.885848\n",
       "3   78834  0345386663     0.0        1.563082\n",
       "4  238120  0316540838     0.0        0.696585"
      ]
     },
     "execution_count": 11,
     "metadata": {},
     "output_type": "execute_result"
    }
   ],
   "source": [
    "# Training SVD model\n",
    "start = time.time()\n",
    "model = matrix_factorization.SVD()\n",
    "model.fit(train)\n",
    "predictions = model.test(test)\n",
    "print(f'Execution time: {time.time() - start} seconds')\n",
    "predictions = pd.DataFrame(predictions)\n",
    "predictions.drop(\"details\", inplace=True, axis=1)\n",
    "predictions.columns = ['userId', 'movieId', 'actual', 'cf_predictions']\n",
    "predictions.head()"
   ]
  },
  {
   "cell_type": "code",
   "execution_count": 12,
   "id": "ffe34be2",
   "metadata": {
    "scrolled": false
   },
   "outputs": [
    {
     "name": "stdout",
     "output_type": "stream",
     "text": [
      "MSE:  10.991525727272462\n",
      "RMSE:  3.315346999526967\n"
     ]
    }
   ],
   "source": [
    "import recmetrics\n",
    "print(\"MSE: \", recmetrics.mse(predictions.actual, predictions.cf_predictions))\n",
    "print(\"RMSE: \", recmetrics.rmse(predictions.actual, predictions.cf_predictions))"
   ]
  },
  {
   "cell_type": "code",
   "execution_count": 13,
   "id": "cd50733b",
   "metadata": {},
   "outputs": [],
   "source": [
    "#create model (matrix of predicted values)\n",
    "cf_model = predictions.pivot_table(index='userId', columns='movieId', values='cf_predictions').fillna(0)"
   ]
  },
  {
   "cell_type": "code",
   "execution_count": 15,
   "id": "8234620d",
   "metadata": {
    "scrolled": true
   },
   "outputs": [
    {
     "data": {
      "text/plain": [
       "['067102437X',\n",
       " '0590457837',\n",
       " '014027166X',\n",
       " '0786004509',\n",
       " '0786808772',\n",
       " '0743211189',\n",
       " '0552149020',\n",
       " '0553207830',\n",
       " '0380731398',\n",
       " '0375726012']"
      ]
     },
     "execution_count": 15,
     "metadata": {},
     "output_type": "execute_result"
    }
   ],
   "source": [
    "def get_users_predictions(user_id, n, model):\n",
    "    recommended_items = pd.DataFrame(model.loc[user_id])\n",
    "    recommended_items.columns = [\"predicted_rating\"]\n",
    "    recommended_items = recommended_items.sort_values('predicted_rating', ascending=False)    \n",
    "    recommended_items = recommended_items.head(n)\n",
    "    return recommended_items.index.tolist()\n",
    "\n",
    "#get example prediction\n",
    "get_users_predictions(78834, 10, cf_model)"
   ]
  },
  {
   "cell_type": "code",
   "execution_count": 16,
   "id": "04b0c3da",
   "metadata": {},
   "outputs": [],
   "source": [
    "isbn_list = get_users_predictions(78834, 10, cf_model)"
   ]
  },
  {
   "cell_type": "code",
   "execution_count": 21,
   "id": "73a96a59",
   "metadata": {},
   "outputs": [
    {
     "data": {
      "text/html": [
       "<div>\n",
       "<style scoped>\n",
       "    .dataframe tbody tr th:only-of-type {\n",
       "        vertical-align: middle;\n",
       "    }\n",
       "\n",
       "    .dataframe tbody tr th {\n",
       "        vertical-align: top;\n",
       "    }\n",
       "\n",
       "    .dataframe thead th {\n",
       "        text-align: right;\n",
       "    }\n",
       "</style>\n",
       "<table border=\"1\" class=\"dataframe\">\n",
       "  <thead>\n",
       "    <tr style=\"text-align: right;\">\n",
       "      <th></th>\n",
       "      <th>isbn</th>\n",
       "      <th>book_title</th>\n",
       "      <th>book_author</th>\n",
       "      <th>year_of_publication</th>\n",
       "      <th>publisher</th>\n",
       "    </tr>\n",
       "  </thead>\n",
       "  <tbody>\n",
       "    <tr>\n",
       "      <th>1949</th>\n",
       "      <td>0786808772</td>\n",
       "      <td>Summerland</td>\n",
       "      <td>Michael Chabon</td>\n",
       "      <td>2002</td>\n",
       "      <td>Miramax Kids</td>\n",
       "    </tr>\n",
       "    <tr>\n",
       "      <th>17944</th>\n",
       "      <td>0375726012</td>\n",
       "      <td>The Whore's Child: And Other Stories (Vintage ...</td>\n",
       "      <td>Richard Russo</td>\n",
       "      <td>2003</td>\n",
       "      <td>Vintage Books USA</td>\n",
       "    </tr>\n",
       "    <tr>\n",
       "      <th>18850</th>\n",
       "      <td>0380731398</td>\n",
       "      <td>Blu's Hanging</td>\n",
       "      <td>Lois-Ann Yamanaka</td>\n",
       "      <td>1998</td>\n",
       "      <td>William Morrow</td>\n",
       "    </tr>\n",
       "    <tr>\n",
       "      <th>22597</th>\n",
       "      <td>0786004509</td>\n",
       "      <td>All Fall Down</td>\n",
       "      <td>Zachary Fox</td>\n",
       "      <td>1997</td>\n",
       "      <td>Pinnacle Books</td>\n",
       "    </tr>\n",
       "    <tr>\n",
       "      <th>32452</th>\n",
       "      <td>0743211189</td>\n",
       "      <td>Electric God</td>\n",
       "      <td>Catherine Ryan Hyde</td>\n",
       "      <td>2000</td>\n",
       "      <td>Simon &amp;amp; Schuster</td>\n",
       "    </tr>\n",
       "    <tr>\n",
       "      <th>57710</th>\n",
       "      <td>014027166X</td>\n",
       "      <td>Riven Rock</td>\n",
       "      <td>T. Coraghessan Boyle</td>\n",
       "      <td>1999</td>\n",
       "      <td>Penguin Books</td>\n",
       "    </tr>\n",
       "    <tr>\n",
       "      <th>69575</th>\n",
       "      <td>0590457837</td>\n",
       "      <td>More Spaghetti, I Say! (Hello Reader, Level 2)</td>\n",
       "      <td>Rita Golden Gelman</td>\n",
       "      <td>1993</td>\n",
       "      <td>Scholastic</td>\n",
       "    </tr>\n",
       "    <tr>\n",
       "      <th>85809</th>\n",
       "      <td>0553207830</td>\n",
       "      <td>Holcroft Covenant</td>\n",
       "      <td>Robert Ludlum</td>\n",
       "      <td>1981</td>\n",
       "      <td>Bantam Doubleday Dell</td>\n",
       "    </tr>\n",
       "    <tr>\n",
       "      <th>112074</th>\n",
       "      <td>067102437X</td>\n",
       "      <td>JUST CHECKING</td>\n",
       "      <td>Emily Colas</td>\n",
       "      <td>1998</td>\n",
       "      <td>Atria</td>\n",
       "    </tr>\n",
       "  </tbody>\n",
       "</table>\n",
       "</div>"
      ],
      "text/plain": [
       "              isbn                                         book_title  \\\n",
       "1949    0786808772                                         Summerland   \n",
       "17944   0375726012  The Whore's Child: And Other Stories (Vintage ...   \n",
       "18850   0380731398                                      Blu's Hanging   \n",
       "22597   0786004509                                      All Fall Down   \n",
       "32452   0743211189                                       Electric God   \n",
       "57710   014027166X                                         Riven Rock   \n",
       "69575   0590457837     More Spaghetti, I Say! (Hello Reader, Level 2)   \n",
       "85809   0553207830                                  Holcroft Covenant   \n",
       "112074  067102437X                                      JUST CHECKING   \n",
       "\n",
       "                 book_author year_of_publication              publisher  \n",
       "1949          Michael Chabon                2002           Miramax Kids  \n",
       "17944          Richard Russo                2003      Vintage Books USA  \n",
       "18850      Lois-Ann Yamanaka                1998         William Morrow  \n",
       "22597            Zachary Fox                1997         Pinnacle Books  \n",
       "32452    Catherine Ryan Hyde                2000   Simon &amp; Schuster  \n",
       "57710   T. Coraghessan Boyle                1999          Penguin Books  \n",
       "69575     Rita Golden Gelman                1993             Scholastic  \n",
       "85809          Robert Ludlum                1981  Bantam Doubleday Dell  \n",
       "112074           Emily Colas                1998                  Atria  "
      ]
     },
     "execution_count": 21,
     "metadata": {},
     "output_type": "execute_result"
    }
   ],
   "source": [
    "new_books[new_books.isbn.isin(isbn_list)].drop(['img_s ', 'img_m', 'img_l'], axis=1)"
   ]
  },
  {
   "cell_type": "code",
   "execution_count": 22,
   "id": "8baf5ebc",
   "metadata": {},
   "outputs": [
    {
     "data": {
      "text/html": [
       "<div>\n",
       "<style scoped>\n",
       "    .dataframe tbody tr th:only-of-type {\n",
       "        vertical-align: middle;\n",
       "    }\n",
       "\n",
       "    .dataframe tbody tr th {\n",
       "        vertical-align: top;\n",
       "    }\n",
       "\n",
       "    .dataframe thead th {\n",
       "        text-align: right;\n",
       "    }\n",
       "</style>\n",
       "<table border=\"1\" class=\"dataframe\">\n",
       "  <thead>\n",
       "    <tr style=\"text-align: right;\">\n",
       "      <th></th>\n",
       "      <th>actual</th>\n",
       "    </tr>\n",
       "    <tr>\n",
       "      <th>userId</th>\n",
       "      <th></th>\n",
       "    </tr>\n",
       "  </thead>\n",
       "  <tbody>\n",
       "    <tr>\n",
       "      <th>408</th>\n",
       "      <td>[1561561428]</td>\n",
       "    </tr>\n",
       "    <tr>\n",
       "      <th>929</th>\n",
       "      <td>[0445202718, 0880384514, 0345301870, 0440154731]</td>\n",
       "    </tr>\n",
       "    <tr>\n",
       "      <th>1733</th>\n",
       "      <td>[0373079621, 0743246918, 0373835426, 037370654...</td>\n",
       "    </tr>\n",
       "    <tr>\n",
       "      <th>2288</th>\n",
       "      <td>[1551666685, 0812589831]</td>\n",
       "    </tr>\n",
       "    <tr>\n",
       "      <th>2326</th>\n",
       "      <td>[0807281948, 0786905239, 0786918055]</td>\n",
       "    </tr>\n",
       "    <tr>\n",
       "      <th>2855</th>\n",
       "      <td>[0375704906]</td>\n",
       "    </tr>\n",
       "    <tr>\n",
       "      <th>3167</th>\n",
       "      <td>[0553574353, 0345290240, 0345257170, 067172175...</td>\n",
       "    </tr>\n",
       "    <tr>\n",
       "      <th>3346</th>\n",
       "      <td>[0345319656, 0836218256, 042507448X, 088677782...</td>\n",
       "    </tr>\n",
       "    <tr>\n",
       "      <th>3437</th>\n",
       "      <td>[0380820870]</td>\n",
       "    </tr>\n",
       "    <tr>\n",
       "      <th>3814</th>\n",
       "      <td>[0684829975]</td>\n",
       "    </tr>\n",
       "  </tbody>\n",
       "</table>\n",
       "</div>"
      ],
      "text/plain": [
       "                                                   actual\n",
       "userId                                                   \n",
       "408                                          [1561561428]\n",
       "929      [0445202718, 0880384514, 0345301870, 0440154731]\n",
       "1733    [0373079621, 0743246918, 0373835426, 037370654...\n",
       "2288                             [1551666685, 0812589831]\n",
       "2326                 [0807281948, 0786905239, 0786918055]\n",
       "2855                                         [0375704906]\n",
       "3167    [0553574353, 0345290240, 0345257170, 067172175...\n",
       "3346    [0345319656, 0836218256, 042507448X, 088677782...\n",
       "3437                                         [0380820870]\n",
       "3814                                         [0684829975]"
      ]
     },
     "execution_count": 22,
     "metadata": {},
     "output_type": "execute_result"
    }
   ],
   "source": [
    "predictions = predictions.copy().groupby('userId', as_index=False)['movieId'].agg({'actual': (lambda x: list(set(x)))})\n",
    "predictions = predictions.set_index(\"userId\")\n",
    "predictions.head(10)"
   ]
  },
  {
   "cell_type": "code",
   "execution_count": 23,
   "id": "e9aa920c",
   "metadata": {},
   "outputs": [
    {
     "data": {
      "text/html": [
       "<div>\n",
       "<style scoped>\n",
       "    .dataframe tbody tr th:only-of-type {\n",
       "        vertical-align: middle;\n",
       "    }\n",
       "\n",
       "    .dataframe tbody tr th {\n",
       "        vertical-align: top;\n",
       "    }\n",
       "\n",
       "    .dataframe thead th {\n",
       "        text-align: right;\n",
       "    }\n",
       "</style>\n",
       "<table border=\"1\" class=\"dataframe\">\n",
       "  <thead>\n",
       "    <tr style=\"text-align: right;\">\n",
       "      <th></th>\n",
       "      <th>actual</th>\n",
       "      <th>cf_predictions</th>\n",
       "    </tr>\n",
       "    <tr>\n",
       "      <th>userId</th>\n",
       "      <th></th>\n",
       "      <th></th>\n",
       "    </tr>\n",
       "  </thead>\n",
       "  <tbody>\n",
       "    <tr>\n",
       "      <th>408</th>\n",
       "      <td>[1561561428]</td>\n",
       "      <td>[1561561428, 0002239213, 0671024809, 067103656...</td>\n",
       "    </tr>\n",
       "    <tr>\n",
       "      <th>929</th>\n",
       "      <td>[0445202718, 0880384514, 0345301870, 0440154731]</td>\n",
       "      <td>[0345301870, 0445202718, 0880384514, 044015473...</td>\n",
       "    </tr>\n",
       "    <tr>\n",
       "      <th>1733</th>\n",
       "      <td>[0373079621, 0743246918, 0373835426, 037370654...</td>\n",
       "      <td>[1551666030, 0373168438, 0886777755, 037370654...</td>\n",
       "    </tr>\n",
       "    <tr>\n",
       "      <th>2288</th>\n",
       "      <td>[1551666685, 0812589831]</td>\n",
       "      <td>[1551666685, 0812589831, 0002239213, 067103494...</td>\n",
       "    </tr>\n",
       "    <tr>\n",
       "      <th>2326</th>\n",
       "      <td>[0807281948, 0786905239, 0786918055]</td>\n",
       "      <td>[0786905239, 0786918055, 0807281948, 067103946...</td>\n",
       "    </tr>\n",
       "  </tbody>\n",
       "</table>\n",
       "</div>"
      ],
      "text/plain": [
       "                                                   actual  \\\n",
       "userId                                                      \n",
       "408                                          [1561561428]   \n",
       "929      [0445202718, 0880384514, 0345301870, 0440154731]   \n",
       "1733    [0373079621, 0743246918, 0373835426, 037370654...   \n",
       "2288                             [1551666685, 0812589831]   \n",
       "2326                 [0807281948, 0786905239, 0786918055]   \n",
       "\n",
       "                                           cf_predictions  \n",
       "userId                                                     \n",
       "408     [1561561428, 0002239213, 0671024809, 067103656...  \n",
       "929     [0345301870, 0445202718, 0880384514, 044015473...  \n",
       "1733    [1551666030, 0373168438, 0886777755, 037370654...  \n",
       "2288    [1551666685, 0812589831, 0002239213, 067103494...  \n",
       "2326    [0786905239, 0786918055, 0807281948, 067103946...  "
      ]
     },
     "execution_count": 23,
     "metadata": {},
     "output_type": "execute_result"
    }
   ],
   "source": [
    "# make recommendations for all members in the test data\n",
    "cf_recs = [] = []\n",
    "for user in predictions.index:\n",
    "    cf_predictions = get_users_predictions(user, 10, cf_model)\n",
    "    cf_recs.append(cf_predictions)\n",
    "        \n",
    "predictions['cf_predictions'] = cf_recs\n",
    "predictions.head()\n"
   ]
  },
  {
   "cell_type": "markdown",
   "id": "a237d05f",
   "metadata": {},
   "source": [
    "# Popularity Based Recommender System"
   ]
  },
  {
   "cell_type": "code",
   "execution_count": 18,
   "id": "b843c735",
   "metadata": {},
   "outputs": [
    {
     "data": {
      "text/html": [
       "<div>\n",
       "<style scoped>\n",
       "    .dataframe tbody tr th:only-of-type {\n",
       "        vertical-align: middle;\n",
       "    }\n",
       "\n",
       "    .dataframe tbody tr th {\n",
       "        vertical-align: top;\n",
       "    }\n",
       "\n",
       "    .dataframe thead th {\n",
       "        text-align: right;\n",
       "    }\n",
       "</style>\n",
       "<table border=\"1\" class=\"dataframe\">\n",
       "  <thead>\n",
       "    <tr style=\"text-align: right;\">\n",
       "      <th></th>\n",
       "      <th>user_id</th>\n",
       "      <th>isbn</th>\n",
       "      <th>book_title</th>\n",
       "      <th>book_author</th>\n",
       "      <th>year_of_publication</th>\n",
       "      <th>publisher</th>\n",
       "      <th>rating</th>\n",
       "    </tr>\n",
       "  </thead>\n",
       "  <tbody>\n",
       "    <tr>\n",
       "      <th>0</th>\n",
       "      <td>276746</td>\n",
       "      <td>0786013990</td>\n",
       "      <td>At the Edge</td>\n",
       "      <td>David Dun</td>\n",
       "      <td>2002</td>\n",
       "      <td>Pinnacle Books</td>\n",
       "      <td>0</td>\n",
       "    </tr>\n",
       "    <tr>\n",
       "      <th>1</th>\n",
       "      <td>98391</td>\n",
       "      <td>0786013990</td>\n",
       "      <td>At the Edge</td>\n",
       "      <td>David Dun</td>\n",
       "      <td>2002</td>\n",
       "      <td>Pinnacle Books</td>\n",
       "      <td>8</td>\n",
       "    </tr>\n",
       "    <tr>\n",
       "      <th>2</th>\n",
       "      <td>152835</td>\n",
       "      <td>0786013990</td>\n",
       "      <td>At the Edge</td>\n",
       "      <td>David Dun</td>\n",
       "      <td>2002</td>\n",
       "      <td>Pinnacle Books</td>\n",
       "      <td>7</td>\n",
       "    </tr>\n",
       "    <tr>\n",
       "      <th>3</th>\n",
       "      <td>159033</td>\n",
       "      <td>0786013990</td>\n",
       "      <td>At the Edge</td>\n",
       "      <td>David Dun</td>\n",
       "      <td>2002</td>\n",
       "      <td>Pinnacle Books</td>\n",
       "      <td>0</td>\n",
       "    </tr>\n",
       "    <tr>\n",
       "      <th>4</th>\n",
       "      <td>265115</td>\n",
       "      <td>0786013990</td>\n",
       "      <td>At the Edge</td>\n",
       "      <td>David Dun</td>\n",
       "      <td>2002</td>\n",
       "      <td>Pinnacle Books</td>\n",
       "      <td>0</td>\n",
       "    </tr>\n",
       "  </tbody>\n",
       "</table>\n",
       "</div>"
      ],
      "text/plain": [
       "   user_id        isbn   book_title book_author year_of_publication  \\\n",
       "0   276746  0786013990  At the Edge   David Dun                2002   \n",
       "1    98391  0786013990  At the Edge   David Dun                2002   \n",
       "2   152835  0786013990  At the Edge   David Dun                2002   \n",
       "3   159033  0786013990  At the Edge   David Dun                2002   \n",
       "4   265115  0786013990  At the Edge   David Dun                2002   \n",
       "\n",
       "        publisher  rating  \n",
       "0  Pinnacle Books       0  \n",
       "1  Pinnacle Books       8  \n",
       "2  Pinnacle Books       7  \n",
       "3  Pinnacle Books       0  \n",
       "4  Pinnacle Books       0  "
      ]
     },
     "execution_count": 18,
     "metadata": {},
     "output_type": "execute_result"
    }
   ],
   "source": [
    "users = new_users\n",
    "books = new_books\n",
    "ratings = new_ratings\n",
    "\n",
    "# Cleaning the dataset \n",
    "books = books.drop(['img_s ', 'img_m', 'img_l'], axis=1)\n",
    "books.head()\n",
    "\n",
    "# Merge the ratings dataset with the books dataset so that we can get access to the names and authors\n",
    "combined_df = pd.merge(ratings, books, on='isbn')\n",
    "all_cols = [col for col in combined_df.columns]\n",
    "all_cols.remove('rating')\n",
    "all_cols.append('rating') # So that we have ratings has the last column in the dataframe\n",
    "combined_df = combined_df[all_cols]\n",
    "combined_df.head()"
   ]
  },
  {
   "cell_type": "code",
   "execution_count": 19,
   "id": "a630a43f",
   "metadata": {},
   "outputs": [
    {
     "data": {
      "text/html": [
       "<div>\n",
       "<style scoped>\n",
       "    .dataframe tbody tr th:only-of-type {\n",
       "        vertical-align: middle;\n",
       "    }\n",
       "\n",
       "    .dataframe tbody tr th {\n",
       "        vertical-align: top;\n",
       "    }\n",
       "\n",
       "    .dataframe thead th {\n",
       "        text-align: right;\n",
       "    }\n",
       "</style>\n",
       "<table border=\"1\" class=\"dataframe\">\n",
       "  <thead>\n",
       "    <tr style=\"text-align: right;\">\n",
       "      <th></th>\n",
       "      <th>isbn</th>\n",
       "      <th>user_id</th>\n",
       "      <th>total_ratings</th>\n",
       "      <th>avg_rating</th>\n",
       "    </tr>\n",
       "  </thead>\n",
       "  <tbody>\n",
       "    <tr>\n",
       "      <th>0</th>\n",
       "      <td>0002005018</td>\n",
       "      <td>12</td>\n",
       "      <td>52</td>\n",
       "      <td>4.333333</td>\n",
       "    </tr>\n",
       "    <tr>\n",
       "      <th>1</th>\n",
       "      <td>0002190915</td>\n",
       "      <td>4</td>\n",
       "      <td>10</td>\n",
       "      <td>2.500000</td>\n",
       "    </tr>\n",
       "    <tr>\n",
       "      <th>2</th>\n",
       "      <td>0002239213</td>\n",
       "      <td>5</td>\n",
       "      <td>0</td>\n",
       "      <td>0.000000</td>\n",
       "    </tr>\n",
       "    <tr>\n",
       "      <th>3</th>\n",
       "      <td>0002240114</td>\n",
       "      <td>4</td>\n",
       "      <td>21</td>\n",
       "      <td>5.250000</td>\n",
       "    </tr>\n",
       "    <tr>\n",
       "      <th>4</th>\n",
       "      <td>0002243954</td>\n",
       "      <td>5</td>\n",
       "      <td>0</td>\n",
       "      <td>0.000000</td>\n",
       "    </tr>\n",
       "  </tbody>\n",
       "</table>\n",
       "</div>"
      ],
      "text/plain": [
       "         isbn  user_id  total_ratings  avg_rating\n",
       "0  0002005018       12             52    4.333333\n",
       "1  0002190915        4             10    2.500000\n",
       "2  0002239213        5              0    0.000000\n",
       "3  0002240114        4             21    5.250000\n",
       "4  0002243954        5              0    0.000000"
      ]
     },
     "execution_count": 19,
     "metadata": {},
     "output_type": "execute_result"
    }
   ],
   "source": [
    "# Calculate the total number of ratings, average ratings, number of ratings for each book\n",
    "filtered_ratings = combined_df.copy()\n",
    "grouped_data = filtered_ratings.groupby(['isbn']).agg({'user_id': 'count', 'rating':'sum'}).reset_index()\n",
    "grouped_data.rename(columns = {'rating': 'total_ratings'},inplace=True)\n",
    "avg_ratings = filtered_ratings.groupby('isbn').agg({'rating':'mean'}).reset_index()\n",
    "avg_ratings.rename(columns = {'rating': 'avg_rating'},inplace=True)\n",
    "merged_data = pd.merge(grouped_data, avg_ratings, on='isbn')\n",
    "merged_data.head()"
   ]
  },
  {
   "cell_type": "code",
   "execution_count": 20,
   "id": "39bacc66",
   "metadata": {},
   "outputs": [
    {
     "name": "stdout",
     "output_type": "stream",
     "text": [
      "C = 2.4867456428440153\n",
      "m = 26.0\n",
      "\n",
      "The shape of the new dataset = (10156, 4)\n"
     ]
    }
   ],
   "source": [
    "# Calculating the parameters for the weighted average\n",
    "C = merged_data['avg_rating'].mean()\n",
    "m = merged_data['total_ratings'].quantile(0.70) # m is the minimum number of ratings required to be listed in the list;\n",
    "print(f'C = {C}\\nm = {m}\\n')\n",
    "\n",
    "# Filter out all qualified books into a new DataFrame\n",
    "min_count_books = merged_data.copy().loc[merged_data['total_ratings'] > m]\n",
    "print(f'The shape of the new dataset = {min_count_books.shape}')"
   ]
  },
  {
   "cell_type": "code",
   "execution_count": 21,
   "id": "19bcc966",
   "metadata": {},
   "outputs": [
    {
     "data": {
      "text/html": [
       "<div>\n",
       "<style scoped>\n",
       "    .dataframe tbody tr th:only-of-type {\n",
       "        vertical-align: middle;\n",
       "    }\n",
       "\n",
       "    .dataframe tbody tr th {\n",
       "        vertical-align: top;\n",
       "    }\n",
       "\n",
       "    .dataframe thead th {\n",
       "        text-align: right;\n",
       "    }\n",
       "</style>\n",
       "<table border=\"1\" class=\"dataframe\">\n",
       "  <thead>\n",
       "    <tr style=\"text-align: right;\">\n",
       "      <th></th>\n",
       "      <th>isbn</th>\n",
       "      <th>user_id</th>\n",
       "      <th>book_title</th>\n",
       "      <th>book_author</th>\n",
       "      <th>year_of_publication</th>\n",
       "      <th>publisher</th>\n",
       "      <th>total_ratings</th>\n",
       "      <th>avg_rating</th>\n",
       "      <th>score</th>\n",
       "    </tr>\n",
       "  </thead>\n",
       "  <tbody>\n",
       "    <tr>\n",
       "      <th>10013</th>\n",
       "      <td>3522128001</td>\n",
       "      <td>11</td>\n",
       "      <td>Die unendliche Geschichte: Von A bis Z</td>\n",
       "      <td>Michael Ende</td>\n",
       "      <td>1979</td>\n",
       "      <td>Thienemann</td>\n",
       "      <td>94</td>\n",
       "      <td>8.545455</td>\n",
       "      <td>7.232734</td>\n",
       "    </tr>\n",
       "    <tr>\n",
       "      <th>10023</th>\n",
       "      <td>3551551936</td>\n",
       "      <td>10</td>\n",
       "      <td>Harry Potter Und Der Feuerkelch</td>\n",
       "      <td>Joanne K. Rowling</td>\n",
       "      <td>1999</td>\n",
       "      <td>Carlsen Verlag GmbH</td>\n",
       "      <td>86</td>\n",
       "      <td>8.600000</td>\n",
       "      <td>7.180852</td>\n",
       "    </tr>\n",
       "    <tr>\n",
       "      <th>10021</th>\n",
       "      <td>3551551685</td>\n",
       "      <td>11</td>\n",
       "      <td>Harry Potter und die Kammer des Schreckens</td>\n",
       "      <td>Joanne K. Rowling</td>\n",
       "      <td>2000</td>\n",
       "      <td>Carlsen Verlag GmbH</td>\n",
       "      <td>92</td>\n",
       "      <td>8.363636</td>\n",
       "      <td>7.068728</td>\n",
       "    </tr>\n",
       "    <tr>\n",
       "      <th>197</th>\n",
       "      <td>0060256672</td>\n",
       "      <td>28</td>\n",
       "      <td>Where the Sidewalk Ends : Poems and Drawings</td>\n",
       "      <td>Shel Silverstein</td>\n",
       "      <td>1974</td>\n",
       "      <td>HarperCollins</td>\n",
       "      <td>210</td>\n",
       "      <td>7.500000</td>\n",
       "      <td>6.947692</td>\n",
       "    </tr>\n",
       "    <tr>\n",
       "      <th>9468</th>\n",
       "      <td>1577780728</td>\n",
       "      <td>9</td>\n",
       "      <td>Jesus Freaks: DC Talk and The Voice of the Mar...</td>\n",
       "      <td>DC Talk</td>\n",
       "      <td>1999</td>\n",
       "      <td>Bethany House Publishers</td>\n",
       "      <td>76</td>\n",
       "      <td>8.444444</td>\n",
       "      <td>6.925815</td>\n",
       "    </tr>\n",
       "    <tr>\n",
       "      <th>3205</th>\n",
       "      <td>0385324138</td>\n",
       "      <td>10</td>\n",
       "      <td>The Outlandish Companion</td>\n",
       "      <td>DIANA GABALDON</td>\n",
       "      <td>1999</td>\n",
       "      <td>Delacorte Press</td>\n",
       "      <td>83</td>\n",
       "      <td>8.300000</td>\n",
       "      <td>6.913352</td>\n",
       "    </tr>\n",
       "    <tr>\n",
       "      <th>10114</th>\n",
       "      <td>8478886451</td>\n",
       "      <td>14</td>\n",
       "      <td>Harry Potter y el cÃ¡liz de fuego</td>\n",
       "      <td>J. K. Rowling</td>\n",
       "      <td>2001</td>\n",
       "      <td>Lectorum Publications</td>\n",
       "      <td>111</td>\n",
       "      <td>7.928571</td>\n",
       "      <td>6.895816</td>\n",
       "    </tr>\n",
       "    <tr>\n",
       "      <th>7255</th>\n",
       "      <td>0684842319</td>\n",
       "      <td>8</td>\n",
       "      <td>Our Bodies Ourselves For The New Century (A To...</td>\n",
       "      <td>Boston Women's Health Book Collective</td>\n",
       "      <td>1998</td>\n",
       "      <td>Touchstone</td>\n",
       "      <td>68</td>\n",
       "      <td>8.500000</td>\n",
       "      <td>6.836759</td>\n",
       "    </tr>\n",
       "    <tr>\n",
       "      <th>8518</th>\n",
       "      <td>0836213122</td>\n",
       "      <td>15</td>\n",
       "      <td>There's Treasure Everywhere--A Calvin and Hobb...</td>\n",
       "      <td>Bill Watterson</td>\n",
       "      <td>1996</td>\n",
       "      <td>Andrews McMeel Publishing</td>\n",
       "      <td>116</td>\n",
       "      <td>7.733333</td>\n",
       "      <td>6.772691</td>\n",
       "    </tr>\n",
       "    <tr>\n",
       "      <th>3475</th>\n",
       "      <td>0394823370</td>\n",
       "      <td>11</td>\n",
       "      <td>The Lorax</td>\n",
       "      <td>Dr. Seuss</td>\n",
       "      <td>1971</td>\n",
       "      <td>Random House Children's Books</td>\n",
       "      <td>88</td>\n",
       "      <td>8.000000</td>\n",
       "      <td>6.742591</td>\n",
       "    </tr>\n",
       "  </tbody>\n",
       "</table>\n",
       "</div>"
      ],
      "text/plain": [
       "             isbn  user_id                                         book_title  \\\n",
       "10013  3522128001       11             Die unendliche Geschichte: Von A bis Z   \n",
       "10023  3551551936       10                    Harry Potter Und Der Feuerkelch   \n",
       "10021  3551551685       11         Harry Potter und die Kammer des Schreckens   \n",
       "197    0060256672       28       Where the Sidewalk Ends : Poems and Drawings   \n",
       "9468   1577780728        9  Jesus Freaks: DC Talk and The Voice of the Mar...   \n",
       "3205   0385324138       10                           The Outlandish Companion   \n",
       "10114  8478886451       14                  Harry Potter y el cÃ¡liz de fuego   \n",
       "7255   0684842319        8  Our Bodies Ourselves For The New Century (A To...   \n",
       "8518   0836213122       15  There's Treasure Everywhere--A Calvin and Hobb...   \n",
       "3475   0394823370       11                                          The Lorax   \n",
       "\n",
       "                                 book_author year_of_publication  \\\n",
       "10013                           Michael Ende                1979   \n",
       "10023                      Joanne K. Rowling                1999   \n",
       "10021                      Joanne K. Rowling                2000   \n",
       "197                         Shel Silverstein                1974   \n",
       "9468                                 DC Talk                1999   \n",
       "3205                          DIANA GABALDON                1999   \n",
       "10114                          J. K. Rowling                2001   \n",
       "7255   Boston Women's Health Book Collective                1998   \n",
       "8518                          Bill Watterson                1996   \n",
       "3475                               Dr. Seuss                1971   \n",
       "\n",
       "                           publisher  total_ratings  avg_rating     score  \n",
       "10013                     Thienemann             94    8.545455  7.232734  \n",
       "10023            Carlsen Verlag GmbH             86    8.600000  7.180852  \n",
       "10021            Carlsen Verlag GmbH             92    8.363636  7.068728  \n",
       "197                    HarperCollins            210    7.500000  6.947692  \n",
       "9468        Bethany House Publishers             76    8.444444  6.925815  \n",
       "3205                 Delacorte Press             83    8.300000  6.913352  \n",
       "10114          Lectorum Publications            111    7.928571  6.895816  \n",
       "7255                      Touchstone             68    8.500000  6.836759  \n",
       "8518       Andrews McMeel Publishing            116    7.733333  6.772691  \n",
       "3475   Random House Children's Books             88    8.000000  6.742591  "
      ]
     },
     "execution_count": 21,
     "metadata": {},
     "output_type": "execute_result"
    }
   ],
   "source": [
    "# Function that computes the weighted rating of each book\n",
    "def weighted_rating(df, m=m, C=C):\n",
    "    v = df['total_ratings']\n",
    "    R = df['avg_rating']\n",
    "    # Calculation based on the IMDB formula\n",
    "    return (v/(v+m) * R) + (m/(m+v) * C)\n",
    "\n",
    "# Define a new feature 'score' and calculate its value with `weighted_rating()`\n",
    "min_count_books['score'] = min_count_books.apply(weighted_rating, axis=1)\n",
    "top10_books = min_count_books.merge(books, on='isbn', how='left').sort_values('score', ascending=False).head(10)\n",
    "all_cols = top10_books.columns.to_list()\n",
    "all_cols = all_cols[0:2] + all_cols[5:] + all_cols[2:5] # Changing the order of columns \n",
    "top10_books[all_cols]"
   ]
  },
  {
   "cell_type": "code",
   "execution_count": 22,
   "id": "22b5f1e4",
   "metadata": {
    "scrolled": true
   },
   "outputs": [
    {
     "data": {
      "text/html": [
       "<div>\n",
       "<style scoped>\n",
       "    .dataframe tbody tr th:only-of-type {\n",
       "        vertical-align: middle;\n",
       "    }\n",
       "\n",
       "    .dataframe tbody tr th {\n",
       "        vertical-align: top;\n",
       "    }\n",
       "\n",
       "    .dataframe thead th {\n",
       "        text-align: right;\n",
       "    }\n",
       "</style>\n",
       "<table border=\"1\" class=\"dataframe\">\n",
       "  <thead>\n",
       "    <tr style=\"text-align: right;\">\n",
       "      <th></th>\n",
       "      <th>actual</th>\n",
       "      <th>cf_predictions</th>\n",
       "      <th>pop_predictions</th>\n",
       "    </tr>\n",
       "    <tr>\n",
       "      <th>userId</th>\n",
       "      <th></th>\n",
       "      <th></th>\n",
       "      <th></th>\n",
       "    </tr>\n",
       "  </thead>\n",
       "  <tbody>\n",
       "    <tr>\n",
       "      <th>243</th>\n",
       "      <td>[0345433173, 0349109117, 0385316895]</td>\n",
       "      <td>[0349109117, 0385316895, 0345433173, 000000000...</td>\n",
       "      <td>[3522128001, 3551551936, 3551551685, 006025667...</td>\n",
       "    </tr>\n",
       "    <tr>\n",
       "      <th>643</th>\n",
       "      <td>[2253001457, 2253049417, 0140366857]</td>\n",
       "      <td>[0140366857, 2253049417, 2253001457, 000000000...</td>\n",
       "      <td>[3522128001, 3551551936, 3551551685, 006025667...</td>\n",
       "    </tr>\n",
       "    <tr>\n",
       "      <th>651</th>\n",
       "      <td>[0679801146, 0553574175, 0553579673, 0345395379]</td>\n",
       "      <td>[0345395379, 0679801146, 0553579673, 055357417...</td>\n",
       "      <td>[3522128001, 3551551936, 3551551685, 006025667...</td>\n",
       "    </tr>\n",
       "    <tr>\n",
       "      <th>709</th>\n",
       "      <td>[0590129015, 0064405052]</td>\n",
       "      <td>[0590129015, 0064405052, 000000000, 0671737775...</td>\n",
       "      <td>[3522128001, 3551551936, 3551551685, 006025667...</td>\n",
       "    </tr>\n",
       "    <tr>\n",
       "      <th>850</th>\n",
       "      <td>[3442248922, 3518371002]</td>\n",
       "      <td>[3518371002, 3442248922, 000000000, 067173590X...</td>\n",
       "      <td>[3522128001, 3551551936, 3551551685, 006025667...</td>\n",
       "    </tr>\n",
       "  </tbody>\n",
       "</table>\n",
       "</div>"
      ],
      "text/plain": [
       "                                                  actual  \\\n",
       "userId                                                     \n",
       "243                 [0345433173, 0349109117, 0385316895]   \n",
       "643                 [2253001457, 2253049417, 0140366857]   \n",
       "651     [0679801146, 0553574175, 0553579673, 0345395379]   \n",
       "709                             [0590129015, 0064405052]   \n",
       "850                             [3442248922, 3518371002]   \n",
       "\n",
       "                                           cf_predictions  \\\n",
       "userId                                                      \n",
       "243     [0349109117, 0385316895, 0345433173, 000000000...   \n",
       "643     [0140366857, 2253049417, 2253001457, 000000000...   \n",
       "651     [0345395379, 0679801146, 0553579673, 055357417...   \n",
       "709     [0590129015, 0064405052, 000000000, 0671737775...   \n",
       "850     [3518371002, 3442248922, 000000000, 067173590X...   \n",
       "\n",
       "                                          pop_predictions  \n",
       "userId                                                     \n",
       "243     [3522128001, 3551551936, 3551551685, 006025667...  \n",
       "643     [3522128001, 3551551936, 3551551685, 006025667...  \n",
       "651     [3522128001, 3551551936, 3551551685, 006025667...  \n",
       "709     [3522128001, 3551551936, 3551551685, 006025667...  \n",
       "850     [3522128001, 3551551936, 3551551685, 006025667...  "
      ]
     },
     "execution_count": 22,
     "metadata": {},
     "output_type": "execute_result"
    }
   ],
   "source": [
    "#make recommendations for all members in the test data\n",
    "popularity_recs = top10_books.isbn.tolist()\n",
    "\n",
    "pop_recs = []\n",
    "for user in predictions.index:\n",
    "    pop_predictions = popularity_recs\n",
    "    pop_recs.append(pop_predictions)\n",
    "        \n",
    "predictions['pop_predictions'] = pop_recs\n",
    "predictions.head()\n"
   ]
  },
  {
   "cell_type": "markdown",
   "id": "0be19c10",
   "metadata": {},
   "source": [
    "# Content Based Recommender System"
   ]
  },
  {
   "cell_type": "code",
   "execution_count": 30,
   "id": "ee1403ff",
   "metadata": {},
   "outputs": [],
   "source": [
    "import re\n",
    "from sklearn.feature_extraction.text import TfidfVectorizer\n",
    "from sklearn.metrics.pairwise import cosine_similarity"
   ]
  },
  {
   "cell_type": "code",
   "execution_count": 36,
   "id": "0ebabc2a",
   "metadata": {
    "scrolled": true
   },
   "outputs": [],
   "source": [
    "books.dropna(inplace=True)\n",
    "books.reset_index(inplace=True)"
   ]
  },
  {
   "cell_type": "code",
   "execution_count": 37,
   "id": "79adf3bc",
   "metadata": {},
   "outputs": [],
   "source": [
    "# Creating the model input feature (author + publisher + year of publication)\n",
    "books['features'] = ''\n",
    "for row in range(len(books)):\n",
    "    author = str(books.book_author[row])\n",
    "    publisher = str(books.publisher[row])\n",
    "    year = str(books.year_of_publication[row])\n",
    "    \n",
    "    feature = ' '.join([author, publisher, year])\n",
    "    split = re.sub(r'[^\\w]', ' ', feature).split()\n",
    "    feature = ' '.join([i for i in split if len(i) > 1])\n",
    "    books.features.at[row] = feature.lower()"
   ]
  },
  {
   "cell_type": "code",
   "execution_count": 38,
   "id": "001b7311",
   "metadata": {},
   "outputs": [
    {
     "data": {
      "text/html": [
       "<div>\n",
       "<style scoped>\n",
       "    .dataframe tbody tr th:only-of-type {\n",
       "        vertical-align: middle;\n",
       "    }\n",
       "\n",
       "    .dataframe tbody tr th {\n",
       "        vertical-align: top;\n",
       "    }\n",
       "\n",
       "    .dataframe thead th {\n",
       "        text-align: right;\n",
       "    }\n",
       "</style>\n",
       "<table border=\"1\" class=\"dataframe\">\n",
       "  <thead>\n",
       "    <tr style=\"text-align: right;\">\n",
       "      <th></th>\n",
       "      <th>index</th>\n",
       "      <th>isbn</th>\n",
       "      <th>book_title</th>\n",
       "      <th>book_author</th>\n",
       "      <th>year_of_publication</th>\n",
       "      <th>publisher</th>\n",
       "      <th>features</th>\n",
       "    </tr>\n",
       "  </thead>\n",
       "  <tbody>\n",
       "    <tr>\n",
       "      <th>0</th>\n",
       "      <td>1</td>\n",
       "      <td>0002005018</td>\n",
       "      <td>Clara Callan</td>\n",
       "      <td>Richard Bruce Wright</td>\n",
       "      <td>2001</td>\n",
       "      <td>HarperFlamingo Canada</td>\n",
       "      <td>richard bruce wright harperflamingo canada 2001</td>\n",
       "    </tr>\n",
       "    <tr>\n",
       "      <th>1</th>\n",
       "      <td>3</td>\n",
       "      <td>0374157065</td>\n",
       "      <td>Flu: The Story of the Great Influenza Pandemic...</td>\n",
       "      <td>Gina Bari Kolata</td>\n",
       "      <td>1999</td>\n",
       "      <td>Farrar Straus Giroux</td>\n",
       "      <td>gina bari kolata farrar straus giroux 1999</td>\n",
       "    </tr>\n",
       "    <tr>\n",
       "      <th>2</th>\n",
       "      <td>5</td>\n",
       "      <td>0399135782</td>\n",
       "      <td>The Kitchen God's Wife</td>\n",
       "      <td>Amy Tan</td>\n",
       "      <td>1991</td>\n",
       "      <td>Putnam Pub Group</td>\n",
       "      <td>amy tan putnam pub group 1991</td>\n",
       "    </tr>\n",
       "    <tr>\n",
       "      <th>3</th>\n",
       "      <td>6</td>\n",
       "      <td>0425176428</td>\n",
       "      <td>What If?: The World's Foremost Military Histor...</td>\n",
       "      <td>Robert Cowley</td>\n",
       "      <td>2000</td>\n",
       "      <td>Berkley Publishing Group</td>\n",
       "      <td>robert cowley berkley publishing group 2000</td>\n",
       "    </tr>\n",
       "    <tr>\n",
       "      <th>4</th>\n",
       "      <td>10</td>\n",
       "      <td>0771074670</td>\n",
       "      <td>Nights Below Station Street</td>\n",
       "      <td>David Adams Richards</td>\n",
       "      <td>1988</td>\n",
       "      <td>Emblem Editions</td>\n",
       "      <td>david adams richards emblem editions 1988</td>\n",
       "    </tr>\n",
       "  </tbody>\n",
       "</table>\n",
       "</div>"
      ],
      "text/plain": [
       "   index        isbn                                         book_title  \\\n",
       "0      1  0002005018                                       Clara Callan   \n",
       "1      3  0374157065  Flu: The Story of the Great Influenza Pandemic...   \n",
       "2      5  0399135782                             The Kitchen God's Wife   \n",
       "3      6  0425176428  What If?: The World's Foremost Military Histor...   \n",
       "4     10  0771074670                        Nights Below Station Street   \n",
       "\n",
       "            book_author year_of_publication                 publisher  \\\n",
       "0  Richard Bruce Wright                2001     HarperFlamingo Canada   \n",
       "1      Gina Bari Kolata                1999      Farrar Straus Giroux   \n",
       "2               Amy Tan                1991          Putnam Pub Group   \n",
       "3         Robert Cowley                2000  Berkley Publishing Group   \n",
       "4  David Adams Richards                1988           Emblem Editions   \n",
       "\n",
       "                                          features  \n",
       "0  richard bruce wright harperflamingo canada 2001  \n",
       "1       gina bari kolata farrar straus giroux 1999  \n",
       "2                    amy tan putnam pub group 1991  \n",
       "3      robert cowley berkley publishing group 2000  \n",
       "4        david adams richards emblem editions 1988  "
      ]
     },
     "execution_count": 38,
     "metadata": {},
     "output_type": "execute_result"
    }
   ],
   "source": [
    "books.head()"
   ]
  },
  {
   "cell_type": "code",
   "execution_count": 39,
   "id": "80edc4de",
   "metadata": {},
   "outputs": [
    {
     "data": {
      "text/plain": [
       "0        richard bruce wright harperflamingo canada 2001\n",
       "1             gina bari kolata farrar straus giroux 1999\n",
       "2                          amy tan putnam pub group 1991\n",
       "3            robert cowley berkley publishing group 2000\n",
       "4              david adams richards emblem editions 1988\n",
       "                              ...                       \n",
       "35438                 walt disney random house childrens\n",
       "35439            raymond chandler vintage books usa 1992\n",
       "35440                        penny jordan harlequin 1995\n",
       "35441                   lucy maud montgomery bantam 1983\n",
       "35442                      cathy williams harlequin 1999\n",
       "Name: features, Length: 35443, dtype: object"
      ]
     },
     "execution_count": 39,
     "metadata": {},
     "output_type": "execute_result"
    }
   ],
   "source": [
    "books.features"
   ]
  },
  {
   "cell_type": "code",
   "execution_count": null,
   "id": "e3f35c49",
   "metadata": {},
   "outputs": [],
   "source": [
    "# Transforming our text feature into a vector feature\n",
    "tf_idf = TfidfVectorizer(stop_words='english')\n",
    "tf_idf_matrix = tf_idf.fit_transform(books.features)\n",
    "# Computing the cosine similarity matrix\n",
    "cosine_similarity_matrix = cosine_similarity(tf_idf_matrix, tf_idf_matrix)"
   ]
  },
  {
   "cell_type": "code",
   "execution_count": null,
   "id": "f4f595e8",
   "metadata": {},
   "outputs": [],
   "source": [
    "# Book recommender based on similarity score\n",
    "def recommend_books(book_title, cosine_similarity_matrix, n_recommendations):\n",
    "    index = books[books['book_title']==book_title].index.values[0]\n",
    "    similarity_scores = list(enumerate(cosine_similarity_matrix[index]))\n",
    "    similarity_scores_sorted = sorted(similarity_scores, key=lambda x: x[1], reverse=True)\n",
    "    recommendations_indices = [t[0] for t in similarity_scores_sorted[1:(n_recommendations+1)]]\n",
    "\n",
    "    return similarity_scores_sorted, books.book_title.iloc[recommendations_indices]\n",
    "\n",
    "def recommender(user_id, cosine_similarity_matrix, n_recommendations):\n",
    "    scores = list()\n",
    "    names = list()\n",
    "    user_books = ratings[ratings.user_id == user_id].isbn\n",
    "    book_names = books[books.isbn.isin(user_books)].book_title\n",
    "    for book in book_names:\n",
    "        similarity_scores, books_recommended = recommend_books(book, cosine_similarity_matrix, n_recommendations)\n",
    "        scores.extend(similarity_scores)\n",
    "        names.extend(books_recommended.to_list())\n",
    "    ids, sim_score = zip(*scores)\n",
    "    results = dict(zip(names, sim_score))\n",
    "    results = pd.DataFrame(results, index=range(len(results))).T[0]\n",
    "    results.columns = ['Score']\n",
    "    final = results.sort_values(ascending=False).head(n_recommendations)\n",
    "    \n",
    "    return final"
   ]
  },
  {
   "cell_type": "code",
   "execution_count": null,
   "id": "54989ef3",
   "metadata": {},
   "outputs": [],
   "source": [
    "random_user_idx = np.random.choice(range(len(users)))\n",
    "recommendations = recommender(users.user_id[random_user_idx], cosine_similarity_matrix, 10)"
   ]
  },
  {
   "cell_type": "code",
   "execution_count": null,
   "id": "2a8f7eae",
   "metadata": {},
   "outputs": [],
   "source": [
    "ratings[ratings.user_id == users.user_id[random_user_idx]]"
   ]
  },
  {
   "cell_type": "code",
   "execution_count": null,
   "id": "a65aef1e",
   "metadata": {},
   "outputs": [],
   "source": [
    "books[books.book_title.isin(list(recommendations.index))]"
   ]
  },
  {
   "cell_type": "markdown",
   "id": "0f800101",
   "metadata": {},
   "source": [
    "# Evaluating the model"
   ]
  },
  {
   "cell_type": "code",
   "execution_count": 26,
   "id": "830d8e2e",
   "metadata": {},
   "outputs": [],
   "source": [
    "actual = predictions.actual.values.tolist()\n",
    "cf_predictions = predictions.cf_predictions.values.tolist()\n",
    "pop_predictions = predictions.pop_predictions.values.tolist()\n"
   ]
  },
  {
   "cell_type": "code",
   "execution_count": 24,
   "id": "fe85aaa6",
   "metadata": {},
   "outputs": [
    {
     "data": {
      "text/plain": [
       "[0.0,\n",
       " 0.0,\n",
       " 0.0,\n",
       " 2.4331546070676505e-05,\n",
       " 2.542731639721606e-05,\n",
       " 2.542731639721606e-05,\n",
       " 4.884140231130197e-05,\n",
       " 4.884140231130197e-05,\n",
       " 6.318534026635104e-05,\n",
       " 6.318534026635104e-05]"
      ]
     },
     "execution_count": 24,
     "metadata": {},
     "output_type": "execute_result"
    }
   ],
   "source": [
    "import recmetrics\n",
    "pop_mark = []\n",
    "for K in np.arange(1, 11):\n",
    "    pop_mark.extend([recmetrics.mark(actual, pop_predictions, k=K)])\n",
    "pop_mark"
   ]
  },
  {
   "cell_type": "code",
   "execution_count": 27,
   "id": "00a8d3d6",
   "metadata": {},
   "outputs": [
    {
     "data": {
      "text/plain": [
       "[0.5008503663066604,\n",
       " 0.7057823652663819,\n",
       " 0.7989796703485523,\n",
       " 0.8442177917572535,\n",
       " 0.872619178472077,\n",
       " 0.892245054982819,\n",
       " 0.9060886185683908,\n",
       " 0.9173082754484233,\n",
       " 0.926232013961109,\n",
       " 0.9337952082561074]"
      ]
     },
     "execution_count": 27,
     "metadata": {},
     "output_type": "execute_result"
    }
   ],
   "source": [
    "cf_mark = []\n",
    "for K in np.arange(1, 11):\n",
    "    cf_mark.extend([recmetrics.mark(actual, cf_predictions, k=K)])\n",
    "cf_mark"
   ]
  },
  {
   "cell_type": "code",
   "execution_count": null,
   "id": "3912a428",
   "metadata": {},
   "outputs": [],
   "source": []
  }
 ],
 "metadata": {
  "kernelspec": {
   "display_name": "Python 3 (ipykernel)",
   "language": "python",
   "name": "python3"
  },
  "language_info": {
   "codemirror_mode": {
    "name": "ipython",
    "version": 3
   },
   "file_extension": ".py",
   "mimetype": "text/x-python",
   "name": "python",
   "nbconvert_exporter": "python",
   "pygments_lexer": "ipython3",
   "version": "3.9.7"
  }
 },
 "nbformat": 4,
 "nbformat_minor": 5
}

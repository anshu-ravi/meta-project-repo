{
 "cells": [
  {
   "cell_type": "code",
   "execution_count": 1,
   "metadata": {
    "ExecuteTime": {
     "end_time": "2022-03-01T19:21:56.000342Z",
     "start_time": "2022-03-01T19:21:55.472372Z"
    }
   },
   "outputs": [],
   "source": [
    "# LIBRARIES\n",
    "import numpy as np\n",
    "import pandas as pd\n",
    "import matplotlib.pyplot as plt\n",
    "# import seaborn as sns\n",
    "# from pandas_profiling import ProfileReport\n",
    "# import statsmodels\n",
    "# from skforecast.ForecasterAutoreg import ForecasterAutoreg\n",
    "from sklearn.ensemble import RandomForestRegressor\n",
    "from sklearn.metrics import mean_squared_error\n",
    "\n",
    "\n",
    "import warnings\n",
    "warnings.filterwarnings('ignore')\n",
    "import matplotlib\n",
    "%matplotlib inline\n",
    "\n",
    "\n",
    "random_state = 123\n",
    "np.random.seed(random_state)"
   ]
  },
  {
   "cell_type": "code",
   "execution_count": 2,
   "metadata": {
    "ExecuteTime": {
     "end_time": "2022-02-22T19:09:31.987770Z",
     "start_time": "2022-02-22T19:09:31.936236Z"
    },
    "scrolled": true
   },
   "outputs": [
    {
     "data": {
      "text/html": [
       "<div>\n",
       "<style scoped>\n",
       "    .dataframe tbody tr th:only-of-type {\n",
       "        vertical-align: middle;\n",
       "    }\n",
       "\n",
       "    .dataframe tbody tr th {\n",
       "        vertical-align: top;\n",
       "    }\n",
       "\n",
       "    .dataframe thead th {\n",
       "        text-align: right;\n",
       "    }\n",
       "</style>\n",
       "<table border=\"1\" class=\"dataframe\">\n",
       "  <thead>\n",
       "    <tr style=\"text-align: right;\">\n",
       "      <th></th>\n",
       "      <th>ofd_date</th>\n",
       "      <th>country_code</th>\n",
       "      <th>fc_codes</th>\n",
       "      <th>station_code</th>\n",
       "      <th>OFD</th>\n",
       "      <th>Slam</th>\n",
       "      <th>Earlies_Exp</th>\n",
       "      <th>Earlies_Rec</th>\n",
       "      <th>MNR_SNR_Exp</th>\n",
       "      <th>Rollover</th>\n",
       "      <th>Returns</th>\n",
       "      <th>R_Sideline</th>\n",
       "      <th>Sideline</th>\n",
       "    </tr>\n",
       "  </thead>\n",
       "  <tbody>\n",
       "    <tr>\n",
       "      <th>0</th>\n",
       "      <td>2021-06-30</td>\n",
       "      <td>C</td>\n",
       "      <td>F6, F8, F14, F17</td>\n",
       "      <td>D33</td>\n",
       "      <td>14594</td>\n",
       "      <td>14568</td>\n",
       "      <td>782</td>\n",
       "      <td>896</td>\n",
       "      <td>615</td>\n",
       "      <td>767</td>\n",
       "      <td>35</td>\n",
       "      <td>2</td>\n",
       "      <td>4</td>\n",
       "    </tr>\n",
       "    <tr>\n",
       "      <th>1</th>\n",
       "      <td>2021-06-30</td>\n",
       "      <td>C</td>\n",
       "      <td>F6, F8, F9, F14, F17, F18</td>\n",
       "      <td>D37</td>\n",
       "      <td>12736</td>\n",
       "      <td>13111</td>\n",
       "      <td>655</td>\n",
       "      <td>823</td>\n",
       "      <td>211</td>\n",
       "      <td>29</td>\n",
       "      <td>17</td>\n",
       "      <td>2</td>\n",
       "      <td>1</td>\n",
       "    </tr>\n",
       "    <tr>\n",
       "      <th>2</th>\n",
       "      <td>2021-06-30</td>\n",
       "      <td>C</td>\n",
       "      <td>F1, F4, F6, F7, F13, F15, F16</td>\n",
       "      <td>D34</td>\n",
       "      <td>14562</td>\n",
       "      <td>15651</td>\n",
       "      <td>1028</td>\n",
       "      <td>1910</td>\n",
       "      <td>225</td>\n",
       "      <td>35</td>\n",
       "      <td>47</td>\n",
       "      <td>3</td>\n",
       "      <td>1</td>\n",
       "    </tr>\n",
       "    <tr>\n",
       "      <th>3</th>\n",
       "      <td>2021-06-30</td>\n",
       "      <td>C</td>\n",
       "      <td>F2, F6, F7, F10, F12, F13, F14, F15, F19</td>\n",
       "      <td>D45</td>\n",
       "      <td>11165</td>\n",
       "      <td>11467</td>\n",
       "      <td>514</td>\n",
       "      <td>769</td>\n",
       "      <td>56</td>\n",
       "      <td>39</td>\n",
       "      <td>29</td>\n",
       "      <td>0</td>\n",
       "      <td>1</td>\n",
       "    </tr>\n",
       "    <tr>\n",
       "      <th>4</th>\n",
       "      <td>2021-06-30</td>\n",
       "      <td>C</td>\n",
       "      <td>F6, F8, F13, F14, F17</td>\n",
       "      <td>D50</td>\n",
       "      <td>10006</td>\n",
       "      <td>10423</td>\n",
       "      <td>399</td>\n",
       "      <td>842</td>\n",
       "      <td>52</td>\n",
       "      <td>60</td>\n",
       "      <td>65</td>\n",
       "      <td>1</td>\n",
       "      <td>1</td>\n",
       "    </tr>\n",
       "  </tbody>\n",
       "</table>\n",
       "</div>"
      ],
      "text/plain": [
       "    ofd_date country_code                                  fc_codes  \\\n",
       "0 2021-06-30            C                          F6, F8, F14, F17   \n",
       "1 2021-06-30            C                 F6, F8, F9, F14, F17, F18   \n",
       "2 2021-06-30            C             F1, F4, F6, F7, F13, F15, F16   \n",
       "3 2021-06-30            C  F2, F6, F7, F10, F12, F13, F14, F15, F19   \n",
       "4 2021-06-30            C                     F6, F8, F13, F14, F17   \n",
       "\n",
       "  station_code    OFD   Slam  Earlies_Exp  Earlies_Rec  MNR_SNR_Exp  Rollover  \\\n",
       "0          D33  14594  14568          782          896          615       767   \n",
       "1          D37  12736  13111          655          823          211        29   \n",
       "2          D34  14562  15651         1028         1910          225        35   \n",
       "3          D45  11165  11467          514          769           56        39   \n",
       "4          D50  10006  10423          399          842           52        60   \n",
       "\n",
       "   Returns  R_Sideline  Sideline  \n",
       "0       35           2         4  \n",
       "1       17           2         1  \n",
       "2       47           3         1  \n",
       "3       29           0         1  \n",
       "4       65           1         1  "
      ]
     },
     "execution_count": 2,
     "metadata": {},
     "output_type": "execute_result"
    }
   ],
   "source": [
    "raw_train_data = pd.read_csv('data/train_data.csv', parse_dates=['ofd_date'])\n",
    "raw_test_data = pd.read_csv('data/test.csv', parse_dates=['ofd_date'])\n",
    "raw_train_data.head()"
   ]
  },
  {
   "cell_type": "code",
   "execution_count": 3,
   "metadata": {
    "ExecuteTime": {
     "end_time": "2022-02-22T19:09:32.463521Z",
     "start_time": "2022-02-22T19:09:32.450521Z"
    }
   },
   "outputs": [
    {
     "data": {
      "text/plain": [
       "(11309, 13)"
      ]
     },
     "execution_count": 3,
     "metadata": {},
     "output_type": "execute_result"
    }
   ],
   "source": [
    "raw_train_data.shape"
   ]
  },
  {
   "cell_type": "code",
   "execution_count": 4,
   "metadata": {
    "ExecuteTime": {
     "end_time": "2022-02-22T19:09:32.882534Z",
     "start_time": "2022-02-22T19:09:32.866540Z"
    }
   },
   "outputs": [
    {
     "data": {
      "text/plain": [
       "(2389, 12)"
      ]
     },
     "execution_count": 4,
     "metadata": {},
     "output_type": "execute_result"
    }
   ],
   "source": [
    "raw_test_data.shape"
   ]
  },
  {
   "cell_type": "code",
   "execution_count": 5,
   "metadata": {
    "ExecuteTime": {
     "end_time": "2022-02-22T19:09:33.206375Z",
     "start_time": "2022-02-22T19:09:33.192377Z"
    },
    "scrolled": false
   },
   "outputs": [
    {
     "data": {
      "text/plain": [
       "country_code\n",
       "A     9\n",
       "B    11\n",
       "C    20\n",
       "D    20\n",
       "Name: fc_codes, dtype: int64"
      ]
     },
     "execution_count": 5,
     "metadata": {},
     "output_type": "execute_result"
    }
   ],
   "source": [
    "raw_train_data.groupby([\"country_code\"])[\"fc_codes\"].nunique()"
   ]
  },
  {
   "cell_type": "markdown",
   "metadata": {},
   "source": [
    "Create a target variable \n",
    "Transform country_code and station_code\n",
    "Find number of unique fc codes per country \n",
    "\n"
   ]
  },
  {
   "cell_type": "code",
   "execution_count": 6,
   "metadata": {
    "ExecuteTime": {
     "end_time": "2022-02-22T19:09:34.047518Z",
     "start_time": "2022-02-22T19:09:34.031529Z"
    }
   },
   "outputs": [],
   "source": [
    "def drop_useless(data):\n",
    "    '''Drops unneed variables.'''\n",
    "    \n",
    "#     data = data.drop(['OFD'],axis=1)\n",
    "    return data\n",
    "\n",
    "\n",
    "def create_target(data):\n",
    "    '''Creates target variable (Earlies_Exp - MNR_SNR_Exp) and drops those variables.'''\n",
    "    \n",
    "    data['target'] = data['Earlies_Exp'] - data['MNR_SNR_Exp']\n",
    "    data = data.drop(['Earlies_Exp','MNR_SNR_Exp'], axis=1)\n",
    "    return data\n",
    "\n",
    "\n",
    "def apply_preprocessing(data, train=True):\n",
    "    '''Takes all basic preprocessing functions and applies them in one function. Set train to false for test set as no target can be created.'''\n",
    "\n",
    "    data = drop_useless(data)\n",
    "    if train:\n",
    "        data = create_target(data)\n",
    "    return data"
   ]
  },
  {
   "cell_type": "code",
   "execution_count": 7,
   "metadata": {
    "ExecuteTime": {
     "end_time": "2022-02-22T19:14:30.693703Z",
     "start_time": "2022-02-22T19:14:30.678672Z"
    }
   },
   "outputs": [],
   "source": [
    "train_data = apply_preprocessing(raw_train_data)\n",
    "test_data = apply_preprocessing(raw_test_data, train=False)\n",
    "\n",
    "test_data = test_data[::-1].reset_index().drop(['Unnamed: 0', 'index'],axis=1)\n",
    "train_data = train_data[::-1].reset_index().drop('index',axis=1)"
   ]
  },
  {
   "cell_type": "code",
   "execution_count": 8,
   "metadata": {
    "ExecuteTime": {
     "end_time": "2022-02-22T19:14:31.706139Z",
     "start_time": "2022-02-22T19:14:31.698138Z"
    }
   },
   "outputs": [],
   "source": [
    "# Dummy Variables \n",
    "def modify_data(df):\n",
    "#     data = pd.get_dummies(df, prefix = ['Country', 'Station_code'], columns=['country_code', 'station_code'])\n",
    "    df.drop(['fc_codes', 'ofd_date', 'country_code', 'station_code'], axis=1, inplace=True)\n",
    "    return df\n",
    "\n",
    "# def scale_data(df): \n",
    "    \n",
    "\n",
    "train_data = modify_data(train_data)\n",
    "test_data = modify_data(test_data)"
   ]
  },
  {
   "cell_type": "code",
   "execution_count": 9,
   "metadata": {
    "ExecuteTime": {
     "end_time": "2022-02-22T19:15:03.295298Z",
     "start_time": "2022-02-22T19:15:03.284291Z"
    }
   },
   "outputs": [],
   "source": [
    "cols_scale = train_data.columns.drop('target').to_list()"
   ]
  },
  {
   "cell_type": "code",
   "execution_count": 10,
   "metadata": {
    "ExecuteTime": {
     "end_time": "2022-02-22T19:15:03.777992Z",
     "start_time": "2022-02-22T19:15:03.760948Z"
    }
   },
   "outputs": [],
   "source": [
    "dummy = train_data.copy()"
   ]
  },
  {
   "cell_type": "code",
   "execution_count": 16,
   "metadata": {
    "ExecuteTime": {
     "end_time": "2022-02-22T19:15:04.739776Z",
     "start_time": "2022-02-22T19:15:04.719743Z"
    }
   },
   "outputs": [
    {
     "data": {
      "text/html": [
       "<div>\n",
       "<style scoped>\n",
       "    .dataframe tbody tr th:only-of-type {\n",
       "        vertical-align: middle;\n",
       "    }\n",
       "\n",
       "    .dataframe tbody tr th {\n",
       "        vertical-align: top;\n",
       "    }\n",
       "\n",
       "    .dataframe thead th {\n",
       "        text-align: right;\n",
       "    }\n",
       "</style>\n",
       "<table border=\"1\" class=\"dataframe\">\n",
       "  <thead>\n",
       "    <tr style=\"text-align: right;\">\n",
       "      <th></th>\n",
       "      <th>OFD</th>\n",
       "      <th>Slam</th>\n",
       "      <th>Earlies_Rec</th>\n",
       "      <th>Rollover</th>\n",
       "      <th>Returns</th>\n",
       "      <th>R_Sideline</th>\n",
       "      <th>Sideline</th>\n",
       "      <th>target</th>\n",
       "    </tr>\n",
       "  </thead>\n",
       "  <tbody>\n",
       "    <tr>\n",
       "      <th>0</th>\n",
       "      <td>0.343307</td>\n",
       "      <td>0.404794</td>\n",
       "      <td>0.859690</td>\n",
       "      <td>-0.143894</td>\n",
       "      <td>-0.119326</td>\n",
       "      <td>0.350880</td>\n",
       "      <td>-0.357465</td>\n",
       "      <td>249</td>\n",
       "    </tr>\n",
       "    <tr>\n",
       "      <th>1</th>\n",
       "      <td>0.097450</td>\n",
       "      <td>0.062640</td>\n",
       "      <td>-0.525980</td>\n",
       "      <td>-0.160482</td>\n",
       "      <td>-0.165453</td>\n",
       "      <td>0.149811</td>\n",
       "      <td>-0.359525</td>\n",
       "      <td>165</td>\n",
       "    </tr>\n",
       "    <tr>\n",
       "      <th>2</th>\n",
       "      <td>-0.491012</td>\n",
       "      <td>-0.511619</td>\n",
       "      <td>-0.750905</td>\n",
       "      <td>-0.278254</td>\n",
       "      <td>-0.330193</td>\n",
       "      <td>-0.091472</td>\n",
       "      <td>-0.361585</td>\n",
       "      <td>99</td>\n",
       "    </tr>\n",
       "    <tr>\n",
       "      <th>3</th>\n",
       "      <td>0.389448</td>\n",
       "      <td>0.388086</td>\n",
       "      <td>-0.340458</td>\n",
       "      <td>-0.218539</td>\n",
       "      <td>-0.181927</td>\n",
       "      <td>0.133725</td>\n",
       "      <td>-0.359525</td>\n",
       "      <td>235</td>\n",
       "    </tr>\n",
       "    <tr>\n",
       "      <th>4</th>\n",
       "      <td>-0.011204</td>\n",
       "      <td>-0.038984</td>\n",
       "      <td>-0.443890</td>\n",
       "      <td>-0.269960</td>\n",
       "      <td>0.108014</td>\n",
       "      <td>-0.334766</td>\n",
       "      <td>-0.359525</td>\n",
       "      <td>425</td>\n",
       "    </tr>\n",
       "  </tbody>\n",
       "</table>\n",
       "</div>"
      ],
      "text/plain": [
       "        OFD      Slam  Earlies_Rec  Rollover   Returns  R_Sideline  Sideline  \\\n",
       "0  0.343307  0.404794     0.859690 -0.143894 -0.119326    0.350880 -0.357465   \n",
       "1  0.097450  0.062640    -0.525980 -0.160482 -0.165453    0.149811 -0.359525   \n",
       "2 -0.491012 -0.511619    -0.750905 -0.278254 -0.330193   -0.091472 -0.361585   \n",
       "3  0.389448  0.388086    -0.340458 -0.218539 -0.181927    0.133725 -0.359525   \n",
       "4 -0.011204 -0.038984    -0.443890 -0.269960  0.108014   -0.334766 -0.359525   \n",
       "\n",
       "   target  \n",
       "0     249  \n",
       "1     165  \n",
       "2      99  \n",
       "3     235  \n",
       "4     425  "
      ]
     },
     "execution_count": 16,
     "metadata": {},
     "output_type": "execute_result"
    }
   ],
   "source": [
    "from sklearn.preprocessing import RobustScaler, MinMaxScaler, StandardScaler\n",
    "scaler = StandardScaler()\n",
    "dummy[cols_scale] = scaler.fit_transform(train_data[cols_scale])\n",
    "dummy.head()"
   ]
  },
  {
   "cell_type": "code",
   "execution_count": 17,
   "metadata": {
    "ExecuteTime": {
     "end_time": "2022-02-22T19:10:23.070950Z",
     "start_time": "2022-02-22T19:10:15.007700Z"
    }
   },
   "outputs": [],
   "source": [
    "from pycaret.regression import *"
   ]
  },
  {
   "cell_type": "code",
   "execution_count": 18,
   "metadata": {
    "ExecuteTime": {
     "end_time": "2022-02-22T19:15:07.409924Z",
     "start_time": "2022-02-22T19:15:07.402919Z"
    }
   },
   "outputs": [],
   "source": [
    "setup_kwargs = dict(\n",
    "    \n",
    "    n_jobs=-1, # for parallel processing \n",
    "    use_gpu=False, \n",
    "    session_id=123, # similar to random state\n",
    "    \n",
    "    preprocess = False,\n",
    "    data_split_shuffle = False,\n",
    "    normalize=False,\n",
    "#     imputation_type='iterative',\n",
    "    normalize_method = 'minmax', \n",
    "    fold_strategy = 'timeseries', \n",
    "    fold = 5, \n",
    ")"
   ]
  },
  {
   "cell_type": "code",
   "execution_count": 19,
   "metadata": {
    "ExecuteTime": {
     "end_time": "2022-02-22T19:11:50.234781Z",
     "start_time": "2022-02-22T19:11:50.222801Z"
    },
    "scrolled": true
   },
   "outputs": [
    {
     "data": {
      "text/plain": [
       "7916.299999999999"
      ]
     },
     "execution_count": 19,
     "metadata": {},
     "output_type": "execute_result"
    }
   ],
   "source": [
    "train_data.shape[0]*0.7"
   ]
  },
  {
   "cell_type": "code",
   "execution_count": 20,
   "metadata": {
    "ExecuteTime": {
     "end_time": "2022-02-22T19:11:50.525812Z",
     "start_time": "2022-02-22T19:11:50.507814Z"
    },
    "scrolled": true
   },
   "outputs": [
    {
     "data": {
      "text/plain": [
       "0        249\n",
       "1        165\n",
       "2         99\n",
       "3        235\n",
       "4        425\n",
       "        ... \n",
       "11304    347\n",
       "11305    458\n",
       "11306    803\n",
       "11307    444\n",
       "11308    167\n",
       "Name: target, Length: 11309, dtype: int64"
      ]
     },
     "execution_count": 20,
     "metadata": {},
     "output_type": "execute_result"
    }
   ],
   "source": [
    "train_data['target']"
   ]
  },
  {
   "cell_type": "code",
   "execution_count": 21,
   "metadata": {
    "ExecuteTime": {
     "end_time": "2022-02-22T19:15:10.871686Z",
     "start_time": "2022-02-22T19:15:09.537920Z"
    },
    "scrolled": true
   },
   "outputs": [
    {
     "data": {
      "text/html": [
       "<style  type=\"text/css\" >\n",
       "</style><table id=\"T_5a49feea_9d82_11ec_84b4_dd152d3878cb\" ><thead>    <tr>        <th class=\"blank level0\" ></th>        <th class=\"col_heading level0 col0\" >Description</th>        <th class=\"col_heading level0 col1\" >Value</th>    </tr></thead><tbody>\n",
       "                <tr>\n",
       "                        <th id=\"T_5a49feea_9d82_11ec_84b4_dd152d3878cblevel0_row0\" class=\"row_heading level0 row0\" >0</th>\n",
       "                        <td id=\"T_5a49feea_9d82_11ec_84b4_dd152d3878cbrow0_col0\" class=\"data row0 col0\" >session_id</td>\n",
       "                        <td id=\"T_5a49feea_9d82_11ec_84b4_dd152d3878cbrow0_col1\" class=\"data row0 col1\" >123</td>\n",
       "            </tr>\n",
       "            <tr>\n",
       "                        <th id=\"T_5a49feea_9d82_11ec_84b4_dd152d3878cblevel0_row1\" class=\"row_heading level0 row1\" >1</th>\n",
       "                        <td id=\"T_5a49feea_9d82_11ec_84b4_dd152d3878cbrow1_col0\" class=\"data row1 col0\" >Target</td>\n",
       "                        <td id=\"T_5a49feea_9d82_11ec_84b4_dd152d3878cbrow1_col1\" class=\"data row1 col1\" >target</td>\n",
       "            </tr>\n",
       "            <tr>\n",
       "                        <th id=\"T_5a49feea_9d82_11ec_84b4_dd152d3878cblevel0_row2\" class=\"row_heading level0 row2\" >2</th>\n",
       "                        <td id=\"T_5a49feea_9d82_11ec_84b4_dd152d3878cbrow2_col0\" class=\"data row2 col0\" >Original Data</td>\n",
       "                        <td id=\"T_5a49feea_9d82_11ec_84b4_dd152d3878cbrow2_col1\" class=\"data row2 col1\" >(11309, 8)</td>\n",
       "            </tr>\n",
       "            <tr>\n",
       "                        <th id=\"T_5a49feea_9d82_11ec_84b4_dd152d3878cblevel0_row3\" class=\"row_heading level0 row3\" >3</th>\n",
       "                        <td id=\"T_5a49feea_9d82_11ec_84b4_dd152d3878cbrow3_col0\" class=\"data row3 col0\" >Missing Values</td>\n",
       "                        <td id=\"T_5a49feea_9d82_11ec_84b4_dd152d3878cbrow3_col1\" class=\"data row3 col1\" >False</td>\n",
       "            </tr>\n",
       "            <tr>\n",
       "                        <th id=\"T_5a49feea_9d82_11ec_84b4_dd152d3878cblevel0_row4\" class=\"row_heading level0 row4\" >4</th>\n",
       "                        <td id=\"T_5a49feea_9d82_11ec_84b4_dd152d3878cbrow4_col0\" class=\"data row4 col0\" >Numeric Features</td>\n",
       "                        <td id=\"T_5a49feea_9d82_11ec_84b4_dd152d3878cbrow4_col1\" class=\"data row4 col1\" >7</td>\n",
       "            </tr>\n",
       "            <tr>\n",
       "                        <th id=\"T_5a49feea_9d82_11ec_84b4_dd152d3878cblevel0_row5\" class=\"row_heading level0 row5\" >5</th>\n",
       "                        <td id=\"T_5a49feea_9d82_11ec_84b4_dd152d3878cbrow5_col0\" class=\"data row5 col0\" >Categorical Features</td>\n",
       "                        <td id=\"T_5a49feea_9d82_11ec_84b4_dd152d3878cbrow5_col1\" class=\"data row5 col1\" >0</td>\n",
       "            </tr>\n",
       "            <tr>\n",
       "                        <th id=\"T_5a49feea_9d82_11ec_84b4_dd152d3878cblevel0_row6\" class=\"row_heading level0 row6\" >6</th>\n",
       "                        <td id=\"T_5a49feea_9d82_11ec_84b4_dd152d3878cbrow6_col0\" class=\"data row6 col0\" >Transformed Train Set</td>\n",
       "                        <td id=\"T_5a49feea_9d82_11ec_84b4_dd152d3878cbrow6_col1\" class=\"data row6 col1\" >(7916, 7)</td>\n",
       "            </tr>\n",
       "            <tr>\n",
       "                        <th id=\"T_5a49feea_9d82_11ec_84b4_dd152d3878cblevel0_row7\" class=\"row_heading level0 row7\" >7</th>\n",
       "                        <td id=\"T_5a49feea_9d82_11ec_84b4_dd152d3878cbrow7_col0\" class=\"data row7 col0\" >Transformed Test Set</td>\n",
       "                        <td id=\"T_5a49feea_9d82_11ec_84b4_dd152d3878cbrow7_col1\" class=\"data row7 col1\" >(3393, 7)</td>\n",
       "            </tr>\n",
       "            <tr>\n",
       "                        <th id=\"T_5a49feea_9d82_11ec_84b4_dd152d3878cblevel0_row8\" class=\"row_heading level0 row8\" >8</th>\n",
       "                        <td id=\"T_5a49feea_9d82_11ec_84b4_dd152d3878cbrow8_col0\" class=\"data row8 col0\" >Shuffle Train-Test</td>\n",
       "                        <td id=\"T_5a49feea_9d82_11ec_84b4_dd152d3878cbrow8_col1\" class=\"data row8 col1\" >False</td>\n",
       "            </tr>\n",
       "            <tr>\n",
       "                        <th id=\"T_5a49feea_9d82_11ec_84b4_dd152d3878cblevel0_row9\" class=\"row_heading level0 row9\" >9</th>\n",
       "                        <td id=\"T_5a49feea_9d82_11ec_84b4_dd152d3878cbrow9_col0\" class=\"data row9 col0\" >Stratify Train-Test</td>\n",
       "                        <td id=\"T_5a49feea_9d82_11ec_84b4_dd152d3878cbrow9_col1\" class=\"data row9 col1\" >False</td>\n",
       "            </tr>\n",
       "            <tr>\n",
       "                        <th id=\"T_5a49feea_9d82_11ec_84b4_dd152d3878cblevel0_row10\" class=\"row_heading level0 row10\" >10</th>\n",
       "                        <td id=\"T_5a49feea_9d82_11ec_84b4_dd152d3878cbrow10_col0\" class=\"data row10 col0\" >Fold Generator</td>\n",
       "                        <td id=\"T_5a49feea_9d82_11ec_84b4_dd152d3878cbrow10_col1\" class=\"data row10 col1\" >TimeSeriesSplit</td>\n",
       "            </tr>\n",
       "            <tr>\n",
       "                        <th id=\"T_5a49feea_9d82_11ec_84b4_dd152d3878cblevel0_row11\" class=\"row_heading level0 row11\" >11</th>\n",
       "                        <td id=\"T_5a49feea_9d82_11ec_84b4_dd152d3878cbrow11_col0\" class=\"data row11 col0\" >Fold Number</td>\n",
       "                        <td id=\"T_5a49feea_9d82_11ec_84b4_dd152d3878cbrow11_col1\" class=\"data row11 col1\" >5</td>\n",
       "            </tr>\n",
       "            <tr>\n",
       "                        <th id=\"T_5a49feea_9d82_11ec_84b4_dd152d3878cblevel0_row12\" class=\"row_heading level0 row12\" >12</th>\n",
       "                        <td id=\"T_5a49feea_9d82_11ec_84b4_dd152d3878cbrow12_col0\" class=\"data row12 col0\" >CPU Jobs</td>\n",
       "                        <td id=\"T_5a49feea_9d82_11ec_84b4_dd152d3878cbrow12_col1\" class=\"data row12 col1\" >-1</td>\n",
       "            </tr>\n",
       "            <tr>\n",
       "                        <th id=\"T_5a49feea_9d82_11ec_84b4_dd152d3878cblevel0_row13\" class=\"row_heading level0 row13\" >13</th>\n",
       "                        <td id=\"T_5a49feea_9d82_11ec_84b4_dd152d3878cbrow13_col0\" class=\"data row13 col0\" >Use GPU</td>\n",
       "                        <td id=\"T_5a49feea_9d82_11ec_84b4_dd152d3878cbrow13_col1\" class=\"data row13 col1\" >False</td>\n",
       "            </tr>\n",
       "            <tr>\n",
       "                        <th id=\"T_5a49feea_9d82_11ec_84b4_dd152d3878cblevel0_row14\" class=\"row_heading level0 row14\" >14</th>\n",
       "                        <td id=\"T_5a49feea_9d82_11ec_84b4_dd152d3878cbrow14_col0\" class=\"data row14 col0\" >Log Experiment</td>\n",
       "                        <td id=\"T_5a49feea_9d82_11ec_84b4_dd152d3878cbrow14_col1\" class=\"data row14 col1\" >False</td>\n",
       "            </tr>\n",
       "            <tr>\n",
       "                        <th id=\"T_5a49feea_9d82_11ec_84b4_dd152d3878cblevel0_row15\" class=\"row_heading level0 row15\" >15</th>\n",
       "                        <td id=\"T_5a49feea_9d82_11ec_84b4_dd152d3878cbrow15_col0\" class=\"data row15 col0\" >Experiment Name</td>\n",
       "                        <td id=\"T_5a49feea_9d82_11ec_84b4_dd152d3878cbrow15_col1\" class=\"data row15 col1\" >reg-default-name</td>\n",
       "            </tr>\n",
       "            <tr>\n",
       "                        <th id=\"T_5a49feea_9d82_11ec_84b4_dd152d3878cblevel0_row16\" class=\"row_heading level0 row16\" >16</th>\n",
       "                        <td id=\"T_5a49feea_9d82_11ec_84b4_dd152d3878cbrow16_col0\" class=\"data row16 col0\" >USI</td>\n",
       "                        <td id=\"T_5a49feea_9d82_11ec_84b4_dd152d3878cbrow16_col1\" class=\"data row16 col1\" >e5f8</td>\n",
       "            </tr>\n",
       "            <tr>\n",
       "                        <th id=\"T_5a49feea_9d82_11ec_84b4_dd152d3878cblevel0_row17\" class=\"row_heading level0 row17\" >17</th>\n",
       "                        <td id=\"T_5a49feea_9d82_11ec_84b4_dd152d3878cbrow17_col0\" class=\"data row17 col0\" >Transform Target</td>\n",
       "                        <td id=\"T_5a49feea_9d82_11ec_84b4_dd152d3878cbrow17_col1\" class=\"data row17 col1\" >False</td>\n",
       "            </tr>\n",
       "            <tr>\n",
       "                        <th id=\"T_5a49feea_9d82_11ec_84b4_dd152d3878cblevel0_row18\" class=\"row_heading level0 row18\" >18</th>\n",
       "                        <td id=\"T_5a49feea_9d82_11ec_84b4_dd152d3878cbrow18_col0\" class=\"data row18 col0\" >Transform Target Method</td>\n",
       "                        <td id=\"T_5a49feea_9d82_11ec_84b4_dd152d3878cbrow18_col1\" class=\"data row18 col1\" >box-cox</td>\n",
       "            </tr>\n",
       "    </tbody></table>"
      ],
      "text/plain": [
       "<pandas.io.formats.style.Styler at 0x7fd521c39d90>"
      ]
     },
     "metadata": {},
     "output_type": "display_data"
    }
   ],
   "source": [
    "_ = setup(data = dummy,  target = 'target', **setup_kwargs)"
   ]
  },
  {
   "cell_type": "code",
   "execution_count": 66,
   "metadata": {
    "ExecuteTime": {
     "end_time": "2022-02-20T21:58:47.363810Z",
     "start_time": "2022-02-20T21:58:47.353779Z"
    }
   },
   "outputs": [],
   "source": [
    "import pycaret "
   ]
  },
  {
   "cell_type": "code",
   "execution_count": 141,
   "metadata": {
    "ExecuteTime": {
     "end_time": "2022-02-20T22:26:26.467790Z",
     "start_time": "2022-02-20T22:26:26.445815Z"
    },
    "scrolled": true
   },
   "outputs": [
    {
     "data": {
      "text/plain": [
       "0       249.0\n",
       "1       165.0\n",
       "2        99.0\n",
       "3       235.0\n",
       "4       425.0\n",
       "        ...  \n",
       "7911     43.0\n",
       "7912    434.0\n",
       "7913    273.0\n",
       "7914    218.0\n",
       "7915    597.0\n",
       "Name: target, Length: 7916, dtype: float32"
      ]
     },
     "execution_count": 141,
     "metadata": {},
     "output_type": "execute_result"
    }
   ],
   "source": [
    "get_config('y_train')"
   ]
  },
  {
   "cell_type": "code",
   "execution_count": 22,
   "metadata": {
    "ExecuteTime": {
     "end_time": "2022-02-22T19:15:46.319570Z",
     "start_time": "2022-02-22T19:15:30.479159Z"
    }
   },
   "outputs": [
    {
     "data": {
      "text/html": [
       "<style  type=\"text/css\" >\n",
       "    #T_7242de9a_9d82_11ec_84b4_dd152d3878cb th {\n",
       "          text-align: left;\n",
       "    }#T_7242de9a_9d82_11ec_84b4_dd152d3878cbrow0_col0,#T_7242de9a_9d82_11ec_84b4_dd152d3878cbrow0_col1,#T_7242de9a_9d82_11ec_84b4_dd152d3878cbrow0_col5,#T_7242de9a_9d82_11ec_84b4_dd152d3878cbrow0_col6,#T_7242de9a_9d82_11ec_84b4_dd152d3878cbrow1_col0,#T_7242de9a_9d82_11ec_84b4_dd152d3878cbrow1_col1,#T_7242de9a_9d82_11ec_84b4_dd152d3878cbrow1_col2,#T_7242de9a_9d82_11ec_84b4_dd152d3878cbrow1_col3,#T_7242de9a_9d82_11ec_84b4_dd152d3878cbrow1_col4,#T_7242de9a_9d82_11ec_84b4_dd152d3878cbrow1_col5,#T_7242de9a_9d82_11ec_84b4_dd152d3878cbrow1_col6,#T_7242de9a_9d82_11ec_84b4_dd152d3878cbrow2_col0,#T_7242de9a_9d82_11ec_84b4_dd152d3878cbrow2_col1,#T_7242de9a_9d82_11ec_84b4_dd152d3878cbrow2_col2,#T_7242de9a_9d82_11ec_84b4_dd152d3878cbrow2_col3,#T_7242de9a_9d82_11ec_84b4_dd152d3878cbrow2_col4,#T_7242de9a_9d82_11ec_84b4_dd152d3878cbrow2_col5,#T_7242de9a_9d82_11ec_84b4_dd152d3878cbrow2_col6,#T_7242de9a_9d82_11ec_84b4_dd152d3878cbrow3_col0,#T_7242de9a_9d82_11ec_84b4_dd152d3878cbrow3_col1,#T_7242de9a_9d82_11ec_84b4_dd152d3878cbrow3_col2,#T_7242de9a_9d82_11ec_84b4_dd152d3878cbrow3_col3,#T_7242de9a_9d82_11ec_84b4_dd152d3878cbrow3_col4,#T_7242de9a_9d82_11ec_84b4_dd152d3878cbrow3_col5,#T_7242de9a_9d82_11ec_84b4_dd152d3878cbrow3_col6,#T_7242de9a_9d82_11ec_84b4_dd152d3878cbrow4_col0,#T_7242de9a_9d82_11ec_84b4_dd152d3878cbrow4_col1,#T_7242de9a_9d82_11ec_84b4_dd152d3878cbrow4_col2,#T_7242de9a_9d82_11ec_84b4_dd152d3878cbrow4_col3,#T_7242de9a_9d82_11ec_84b4_dd152d3878cbrow4_col4,#T_7242de9a_9d82_11ec_84b4_dd152d3878cbrow4_col5,#T_7242de9a_9d82_11ec_84b4_dd152d3878cbrow4_col6,#T_7242de9a_9d82_11ec_84b4_dd152d3878cbrow5_col0,#T_7242de9a_9d82_11ec_84b4_dd152d3878cbrow5_col1,#T_7242de9a_9d82_11ec_84b4_dd152d3878cbrow5_col2,#T_7242de9a_9d82_11ec_84b4_dd152d3878cbrow5_col3,#T_7242de9a_9d82_11ec_84b4_dd152d3878cbrow5_col4,#T_7242de9a_9d82_11ec_84b4_dd152d3878cbrow5_col5,#T_7242de9a_9d82_11ec_84b4_dd152d3878cbrow5_col6,#T_7242de9a_9d82_11ec_84b4_dd152d3878cbrow6_col0,#T_7242de9a_9d82_11ec_84b4_dd152d3878cbrow6_col1,#T_7242de9a_9d82_11ec_84b4_dd152d3878cbrow6_col2,#T_7242de9a_9d82_11ec_84b4_dd152d3878cbrow6_col3,#T_7242de9a_9d82_11ec_84b4_dd152d3878cbrow6_col4,#T_7242de9a_9d82_11ec_84b4_dd152d3878cbrow6_col5,#T_7242de9a_9d82_11ec_84b4_dd152d3878cbrow6_col6,#T_7242de9a_9d82_11ec_84b4_dd152d3878cbrow7_col0,#T_7242de9a_9d82_11ec_84b4_dd152d3878cbrow7_col1,#T_7242de9a_9d82_11ec_84b4_dd152d3878cbrow7_col2,#T_7242de9a_9d82_11ec_84b4_dd152d3878cbrow7_col3,#T_7242de9a_9d82_11ec_84b4_dd152d3878cbrow7_col4,#T_7242de9a_9d82_11ec_84b4_dd152d3878cbrow7_col5,#T_7242de9a_9d82_11ec_84b4_dd152d3878cbrow7_col6,#T_7242de9a_9d82_11ec_84b4_dd152d3878cbrow8_col0,#T_7242de9a_9d82_11ec_84b4_dd152d3878cbrow8_col1,#T_7242de9a_9d82_11ec_84b4_dd152d3878cbrow8_col2,#T_7242de9a_9d82_11ec_84b4_dd152d3878cbrow8_col3,#T_7242de9a_9d82_11ec_84b4_dd152d3878cbrow8_col4,#T_7242de9a_9d82_11ec_84b4_dd152d3878cbrow8_col5,#T_7242de9a_9d82_11ec_84b4_dd152d3878cbrow8_col6,#T_7242de9a_9d82_11ec_84b4_dd152d3878cbrow9_col0,#T_7242de9a_9d82_11ec_84b4_dd152d3878cbrow9_col1,#T_7242de9a_9d82_11ec_84b4_dd152d3878cbrow9_col2,#T_7242de9a_9d82_11ec_84b4_dd152d3878cbrow9_col3,#T_7242de9a_9d82_11ec_84b4_dd152d3878cbrow9_col4,#T_7242de9a_9d82_11ec_84b4_dd152d3878cbrow9_col5,#T_7242de9a_9d82_11ec_84b4_dd152d3878cbrow9_col6,#T_7242de9a_9d82_11ec_84b4_dd152d3878cbrow10_col0,#T_7242de9a_9d82_11ec_84b4_dd152d3878cbrow10_col1,#T_7242de9a_9d82_11ec_84b4_dd152d3878cbrow10_col2,#T_7242de9a_9d82_11ec_84b4_dd152d3878cbrow10_col3,#T_7242de9a_9d82_11ec_84b4_dd152d3878cbrow10_col4,#T_7242de9a_9d82_11ec_84b4_dd152d3878cbrow10_col5,#T_7242de9a_9d82_11ec_84b4_dd152d3878cbrow10_col6,#T_7242de9a_9d82_11ec_84b4_dd152d3878cbrow11_col0,#T_7242de9a_9d82_11ec_84b4_dd152d3878cbrow11_col1,#T_7242de9a_9d82_11ec_84b4_dd152d3878cbrow11_col2,#T_7242de9a_9d82_11ec_84b4_dd152d3878cbrow11_col3,#T_7242de9a_9d82_11ec_84b4_dd152d3878cbrow11_col4,#T_7242de9a_9d82_11ec_84b4_dd152d3878cbrow11_col5,#T_7242de9a_9d82_11ec_84b4_dd152d3878cbrow11_col6,#T_7242de9a_9d82_11ec_84b4_dd152d3878cbrow12_col0,#T_7242de9a_9d82_11ec_84b4_dd152d3878cbrow12_col1,#T_7242de9a_9d82_11ec_84b4_dd152d3878cbrow12_col2,#T_7242de9a_9d82_11ec_84b4_dd152d3878cbrow12_col3,#T_7242de9a_9d82_11ec_84b4_dd152d3878cbrow12_col4,#T_7242de9a_9d82_11ec_84b4_dd152d3878cbrow12_col5,#T_7242de9a_9d82_11ec_84b4_dd152d3878cbrow12_col6,#T_7242de9a_9d82_11ec_84b4_dd152d3878cbrow13_col0,#T_7242de9a_9d82_11ec_84b4_dd152d3878cbrow13_col1,#T_7242de9a_9d82_11ec_84b4_dd152d3878cbrow13_col2,#T_7242de9a_9d82_11ec_84b4_dd152d3878cbrow13_col3,#T_7242de9a_9d82_11ec_84b4_dd152d3878cbrow13_col4,#T_7242de9a_9d82_11ec_84b4_dd152d3878cbrow13_col5,#T_7242de9a_9d82_11ec_84b4_dd152d3878cbrow13_col6,#T_7242de9a_9d82_11ec_84b4_dd152d3878cbrow14_col0,#T_7242de9a_9d82_11ec_84b4_dd152d3878cbrow14_col1,#T_7242de9a_9d82_11ec_84b4_dd152d3878cbrow14_col2,#T_7242de9a_9d82_11ec_84b4_dd152d3878cbrow14_col3,#T_7242de9a_9d82_11ec_84b4_dd152d3878cbrow14_col4,#T_7242de9a_9d82_11ec_84b4_dd152d3878cbrow14_col5,#T_7242de9a_9d82_11ec_84b4_dd152d3878cbrow14_col6,#T_7242de9a_9d82_11ec_84b4_dd152d3878cbrow15_col0,#T_7242de9a_9d82_11ec_84b4_dd152d3878cbrow15_col1,#T_7242de9a_9d82_11ec_84b4_dd152d3878cbrow15_col2,#T_7242de9a_9d82_11ec_84b4_dd152d3878cbrow15_col3,#T_7242de9a_9d82_11ec_84b4_dd152d3878cbrow15_col4,#T_7242de9a_9d82_11ec_84b4_dd152d3878cbrow15_col6,#T_7242de9a_9d82_11ec_84b4_dd152d3878cbrow16_col0,#T_7242de9a_9d82_11ec_84b4_dd152d3878cbrow16_col2,#T_7242de9a_9d82_11ec_84b4_dd152d3878cbrow16_col3,#T_7242de9a_9d82_11ec_84b4_dd152d3878cbrow16_col4,#T_7242de9a_9d82_11ec_84b4_dd152d3878cbrow16_col5{\n",
       "            text-align:  left;\n",
       "            text-align:  left;\n",
       "        }#T_7242de9a_9d82_11ec_84b4_dd152d3878cbrow0_col2,#T_7242de9a_9d82_11ec_84b4_dd152d3878cbrow0_col3,#T_7242de9a_9d82_11ec_84b4_dd152d3878cbrow0_col4,#T_7242de9a_9d82_11ec_84b4_dd152d3878cbrow15_col5,#T_7242de9a_9d82_11ec_84b4_dd152d3878cbrow16_col1,#T_7242de9a_9d82_11ec_84b4_dd152d3878cbrow16_col6{\n",
       "            text-align:  left;\n",
       "            text-align:  left;\n",
       "            background-color:  yellow;\n",
       "        }#T_7242de9a_9d82_11ec_84b4_dd152d3878cbrow0_col7,#T_7242de9a_9d82_11ec_84b4_dd152d3878cbrow2_col7,#T_7242de9a_9d82_11ec_84b4_dd152d3878cbrow4_col7,#T_7242de9a_9d82_11ec_84b4_dd152d3878cbrow5_col7,#T_7242de9a_9d82_11ec_84b4_dd152d3878cbrow6_col7,#T_7242de9a_9d82_11ec_84b4_dd152d3878cbrow7_col7,#T_7242de9a_9d82_11ec_84b4_dd152d3878cbrow8_col7,#T_7242de9a_9d82_11ec_84b4_dd152d3878cbrow9_col7,#T_7242de9a_9d82_11ec_84b4_dd152d3878cbrow10_col7,#T_7242de9a_9d82_11ec_84b4_dd152d3878cbrow11_col7,#T_7242de9a_9d82_11ec_84b4_dd152d3878cbrow12_col7,#T_7242de9a_9d82_11ec_84b4_dd152d3878cbrow13_col7,#T_7242de9a_9d82_11ec_84b4_dd152d3878cbrow14_col7,#T_7242de9a_9d82_11ec_84b4_dd152d3878cbrow15_col7,#T_7242de9a_9d82_11ec_84b4_dd152d3878cbrow16_col7{\n",
       "            text-align:  left;\n",
       "            text-align:  left;\n",
       "            background-color:  lightgrey;\n",
       "        }#T_7242de9a_9d82_11ec_84b4_dd152d3878cbrow1_col7,#T_7242de9a_9d82_11ec_84b4_dd152d3878cbrow3_col7{\n",
       "            text-align:  left;\n",
       "            text-align:  left;\n",
       "            background-color:  yellow;\n",
       "            background-color:  lightgrey;\n",
       "        }</style><table id=\"T_7242de9a_9d82_11ec_84b4_dd152d3878cb\" ><thead>    <tr>        <th class=\"blank level0\" ></th>        <th class=\"col_heading level0 col0\" >Model</th>        <th class=\"col_heading level0 col1\" >MAE</th>        <th class=\"col_heading level0 col2\" >MSE</th>        <th class=\"col_heading level0 col3\" >RMSE</th>        <th class=\"col_heading level0 col4\" >R2</th>        <th class=\"col_heading level0 col5\" >RMSLE</th>        <th class=\"col_heading level0 col6\" >MAPE</th>        <th class=\"col_heading level0 col7\" >TT (Sec)</th>    </tr></thead><tbody>\n",
       "                <tr>\n",
       "                        <th id=\"T_7242de9a_9d82_11ec_84b4_dd152d3878cblevel0_row0\" class=\"row_heading level0 row0\" >lightgbm</th>\n",
       "                        <td id=\"T_7242de9a_9d82_11ec_84b4_dd152d3878cbrow0_col0\" class=\"data row0 col0\" >Light Gradient Boosting Machine</td>\n",
       "                        <td id=\"T_7242de9a_9d82_11ec_84b4_dd152d3878cbrow0_col1\" class=\"data row0 col1\" >270.5389</td>\n",
       "                        <td id=\"T_7242de9a_9d82_11ec_84b4_dd152d3878cbrow0_col2\" class=\"data row0 col2\" >228501.4676</td>\n",
       "                        <td id=\"T_7242de9a_9d82_11ec_84b4_dd152d3878cbrow0_col3\" class=\"data row0 col3\" >470.6134</td>\n",
       "                        <td id=\"T_7242de9a_9d82_11ec_84b4_dd152d3878cbrow0_col4\" class=\"data row0 col4\" >0.3658</td>\n",
       "                        <td id=\"T_7242de9a_9d82_11ec_84b4_dd152d3878cbrow0_col5\" class=\"data row0 col5\" >1.0656</td>\n",
       "                        <td id=\"T_7242de9a_9d82_11ec_84b4_dd152d3878cbrow0_col6\" class=\"data row0 col6\" >2.8074</td>\n",
       "                        <td id=\"T_7242de9a_9d82_11ec_84b4_dd152d3878cbrow0_col7\" class=\"data row0 col7\" >0.2180</td>\n",
       "            </tr>\n",
       "            <tr>\n",
       "                        <th id=\"T_7242de9a_9d82_11ec_84b4_dd152d3878cblevel0_row1\" class=\"row_heading level0 row1\" >llar</th>\n",
       "                        <td id=\"T_7242de9a_9d82_11ec_84b4_dd152d3878cbrow1_col0\" class=\"data row1 col0\" >Lasso Least Angle Regression</td>\n",
       "                        <td id=\"T_7242de9a_9d82_11ec_84b4_dd152d3878cbrow1_col1\" class=\"data row1 col1\" >297.4558</td>\n",
       "                        <td id=\"T_7242de9a_9d82_11ec_84b4_dd152d3878cbrow1_col2\" class=\"data row1 col2\" >237287.0384</td>\n",
       "                        <td id=\"T_7242de9a_9d82_11ec_84b4_dd152d3878cbrow1_col3\" class=\"data row1 col3\" >476.8913</td>\n",
       "                        <td id=\"T_7242de9a_9d82_11ec_84b4_dd152d3878cbrow1_col4\" class=\"data row1 col4\" >0.3444</td>\n",
       "                        <td id=\"T_7242de9a_9d82_11ec_84b4_dd152d3878cbrow1_col5\" class=\"data row1 col5\" >1.0647</td>\n",
       "                        <td id=\"T_7242de9a_9d82_11ec_84b4_dd152d3878cbrow1_col6\" class=\"data row1 col6\" >3.0465</td>\n",
       "                        <td id=\"T_7242de9a_9d82_11ec_84b4_dd152d3878cbrow1_col7\" class=\"data row1 col7\" >0.0120</td>\n",
       "            </tr>\n",
       "            <tr>\n",
       "                        <th id=\"T_7242de9a_9d82_11ec_84b4_dd152d3878cblevel0_row2\" class=\"row_heading level0 row2\" >et</th>\n",
       "                        <td id=\"T_7242de9a_9d82_11ec_84b4_dd152d3878cbrow2_col0\" class=\"data row2 col0\" >Extra Trees Regressor</td>\n",
       "                        <td id=\"T_7242de9a_9d82_11ec_84b4_dd152d3878cbrow2_col1\" class=\"data row2 col1\" >289.7448</td>\n",
       "                        <td id=\"T_7242de9a_9d82_11ec_84b4_dd152d3878cbrow2_col2\" class=\"data row2 col2\" >254360.2059</td>\n",
       "                        <td id=\"T_7242de9a_9d82_11ec_84b4_dd152d3878cbrow2_col3\" class=\"data row2 col3\" >495.8445</td>\n",
       "                        <td id=\"T_7242de9a_9d82_11ec_84b4_dd152d3878cbrow2_col4\" class=\"data row2 col4\" >0.2955</td>\n",
       "                        <td id=\"T_7242de9a_9d82_11ec_84b4_dd152d3878cbrow2_col5\" class=\"data row2 col5\" >1.0710</td>\n",
       "                        <td id=\"T_7242de9a_9d82_11ec_84b4_dd152d3878cbrow2_col6\" class=\"data row2 col6\" >2.6889</td>\n",
       "                        <td id=\"T_7242de9a_9d82_11ec_84b4_dd152d3878cbrow2_col7\" class=\"data row2 col7\" >0.3760</td>\n",
       "            </tr>\n",
       "            <tr>\n",
       "                        <th id=\"T_7242de9a_9d82_11ec_84b4_dd152d3878cblevel0_row3\" class=\"row_heading level0 row3\" >en</th>\n",
       "                        <td id=\"T_7242de9a_9d82_11ec_84b4_dd152d3878cbrow3_col0\" class=\"data row3 col0\" >Elastic Net</td>\n",
       "                        <td id=\"T_7242de9a_9d82_11ec_84b4_dd152d3878cbrow3_col1\" class=\"data row3 col1\" >321.1543</td>\n",
       "                        <td id=\"T_7242de9a_9d82_11ec_84b4_dd152d3878cbrow3_col2\" class=\"data row3 col2\" >254573.4808</td>\n",
       "                        <td id=\"T_7242de9a_9d82_11ec_84b4_dd152d3878cbrow3_col3\" class=\"data row3 col3\" >502.7069</td>\n",
       "                        <td id=\"T_7242de9a_9d82_11ec_84b4_dd152d3878cbrow3_col4\" class=\"data row3 col4\" >0.2876</td>\n",
       "                        <td id=\"T_7242de9a_9d82_11ec_84b4_dd152d3878cbrow3_col5\" class=\"data row3 col5\" >1.1182</td>\n",
       "                        <td id=\"T_7242de9a_9d82_11ec_84b4_dd152d3878cbrow3_col6\" class=\"data row3 col6\" >3.1217</td>\n",
       "                        <td id=\"T_7242de9a_9d82_11ec_84b4_dd152d3878cbrow3_col7\" class=\"data row3 col7\" >0.0120</td>\n",
       "            </tr>\n",
       "            <tr>\n",
       "                        <th id=\"T_7242de9a_9d82_11ec_84b4_dd152d3878cblevel0_row4\" class=\"row_heading level0 row4\" >knn</th>\n",
       "                        <td id=\"T_7242de9a_9d82_11ec_84b4_dd152d3878cbrow4_col0\" class=\"data row4 col0\" >K Neighbors Regressor</td>\n",
       "                        <td id=\"T_7242de9a_9d82_11ec_84b4_dd152d3878cbrow4_col1\" class=\"data row4 col1\" >319.1017</td>\n",
       "                        <td id=\"T_7242de9a_9d82_11ec_84b4_dd152d3878cbrow4_col2\" class=\"data row4 col2\" >272095.1824</td>\n",
       "                        <td id=\"T_7242de9a_9d82_11ec_84b4_dd152d3878cbrow4_col3\" class=\"data row4 col3\" >518.0157</td>\n",
       "                        <td id=\"T_7242de9a_9d82_11ec_84b4_dd152d3878cbrow4_col4\" class=\"data row4 col4\" >0.2423</td>\n",
       "                        <td id=\"T_7242de9a_9d82_11ec_84b4_dd152d3878cbrow4_col5\" class=\"data row4 col5\" >1.1126</td>\n",
       "                        <td id=\"T_7242de9a_9d82_11ec_84b4_dd152d3878cbrow4_col6\" class=\"data row4 col6\" >2.7606</td>\n",
       "                        <td id=\"T_7242de9a_9d82_11ec_84b4_dd152d3878cbrow4_col7\" class=\"data row4 col7\" >0.0460</td>\n",
       "            </tr>\n",
       "            <tr>\n",
       "                        <th id=\"T_7242de9a_9d82_11ec_84b4_dd152d3878cblevel0_row5\" class=\"row_heading level0 row5\" >rf</th>\n",
       "                        <td id=\"T_7242de9a_9d82_11ec_84b4_dd152d3878cbrow5_col0\" class=\"data row5 col0\" >Random Forest Regressor</td>\n",
       "                        <td id=\"T_7242de9a_9d82_11ec_84b4_dd152d3878cbrow5_col1\" class=\"data row5 col1\" >304.6609</td>\n",
       "                        <td id=\"T_7242de9a_9d82_11ec_84b4_dd152d3878cbrow5_col2\" class=\"data row5 col2\" >285844.0561</td>\n",
       "                        <td id=\"T_7242de9a_9d82_11ec_84b4_dd152d3878cbrow5_col3\" class=\"data row5 col3\" >526.9439</td>\n",
       "                        <td id=\"T_7242de9a_9d82_11ec_84b4_dd152d3878cbrow5_col4\" class=\"data row5 col4\" >0.2100</td>\n",
       "                        <td id=\"T_7242de9a_9d82_11ec_84b4_dd152d3878cbrow5_col5\" class=\"data row5 col5\" >1.0801</td>\n",
       "                        <td id=\"T_7242de9a_9d82_11ec_84b4_dd152d3878cbrow5_col6\" class=\"data row5 col6\" >2.7401</td>\n",
       "                        <td id=\"T_7242de9a_9d82_11ec_84b4_dd152d3878cbrow5_col7\" class=\"data row5 col7\" >0.6080</td>\n",
       "            </tr>\n",
       "            <tr>\n",
       "                        <th id=\"T_7242de9a_9d82_11ec_84b4_dd152d3878cblevel0_row6\" class=\"row_heading level0 row6\" >omp</th>\n",
       "                        <td id=\"T_7242de9a_9d82_11ec_84b4_dd152d3878cbrow6_col0\" class=\"data row6 col0\" >Orthogonal Matching Pursuit</td>\n",
       "                        <td id=\"T_7242de9a_9d82_11ec_84b4_dd152d3878cbrow6_col1\" class=\"data row6 col1\" >355.9247</td>\n",
       "                        <td id=\"T_7242de9a_9d82_11ec_84b4_dd152d3878cbrow6_col2\" class=\"data row6 col2\" >321059.3507</td>\n",
       "                        <td id=\"T_7242de9a_9d82_11ec_84b4_dd152d3878cbrow6_col3\" class=\"data row6 col3\" >565.1498</td>\n",
       "                        <td id=\"T_7242de9a_9d82_11ec_84b4_dd152d3878cbrow6_col4\" class=\"data row6 col4\" >0.0925</td>\n",
       "                        <td id=\"T_7242de9a_9d82_11ec_84b4_dd152d3878cbrow6_col5\" class=\"data row6 col5\" >1.2104</td>\n",
       "                        <td id=\"T_7242de9a_9d82_11ec_84b4_dd152d3878cbrow6_col6\" class=\"data row6 col6\" >3.2138</td>\n",
       "                        <td id=\"T_7242de9a_9d82_11ec_84b4_dd152d3878cbrow6_col7\" class=\"data row6 col7\" >0.0200</td>\n",
       "            </tr>\n",
       "            <tr>\n",
       "                        <th id=\"T_7242de9a_9d82_11ec_84b4_dd152d3878cblevel0_row7\" class=\"row_heading level0 row7\" >gbr</th>\n",
       "                        <td id=\"T_7242de9a_9d82_11ec_84b4_dd152d3878cbrow7_col0\" class=\"data row7 col0\" >Gradient Boosting Regressor</td>\n",
       "                        <td id=\"T_7242de9a_9d82_11ec_84b4_dd152d3878cbrow7_col1\" class=\"data row7 col1\" >327.2591</td>\n",
       "                        <td id=\"T_7242de9a_9d82_11ec_84b4_dd152d3878cbrow7_col2\" class=\"data row7 col2\" >531722.8633</td>\n",
       "                        <td id=\"T_7242de9a_9d82_11ec_84b4_dd152d3878cbrow7_col3\" class=\"data row7 col3\" >675.8937</td>\n",
       "                        <td id=\"T_7242de9a_9d82_11ec_84b4_dd152d3878cbrow7_col4\" class=\"data row7 col4\" >-0.4526</td>\n",
       "                        <td id=\"T_7242de9a_9d82_11ec_84b4_dd152d3878cbrow7_col5\" class=\"data row7 col5\" >1.0935</td>\n",
       "                        <td id=\"T_7242de9a_9d82_11ec_84b4_dd152d3878cbrow7_col6\" class=\"data row7 col6\" >2.9294</td>\n",
       "                        <td id=\"T_7242de9a_9d82_11ec_84b4_dd152d3878cbrow7_col7\" class=\"data row7 col7\" >0.3040</td>\n",
       "            </tr>\n",
       "            <tr>\n",
       "                        <th id=\"T_7242de9a_9d82_11ec_84b4_dd152d3878cblevel0_row8\" class=\"row_heading level0 row8\" >ada</th>\n",
       "                        <td id=\"T_7242de9a_9d82_11ec_84b4_dd152d3878cbrow8_col0\" class=\"data row8 col0\" >AdaBoost Regressor</td>\n",
       "                        <td id=\"T_7242de9a_9d82_11ec_84b4_dd152d3878cbrow8_col1\" class=\"data row8 col1\" >499.5121</td>\n",
       "                        <td id=\"T_7242de9a_9d82_11ec_84b4_dd152d3878cbrow8_col2\" class=\"data row8 col2\" >534464.0849</td>\n",
       "                        <td id=\"T_7242de9a_9d82_11ec_84b4_dd152d3878cbrow8_col3\" class=\"data row8 col3\" >727.8991</td>\n",
       "                        <td id=\"T_7242de9a_9d82_11ec_84b4_dd152d3878cbrow8_col4\" class=\"data row8 col4\" >-0.5177</td>\n",
       "                        <td id=\"T_7242de9a_9d82_11ec_84b4_dd152d3878cbrow8_col5\" class=\"data row8 col5\" >1.4421</td>\n",
       "                        <td id=\"T_7242de9a_9d82_11ec_84b4_dd152d3878cbrow8_col6\" class=\"data row8 col6\" >4.5718</td>\n",
       "                        <td id=\"T_7242de9a_9d82_11ec_84b4_dd152d3878cbrow8_col7\" class=\"data row8 col7\" >0.1060</td>\n",
       "            </tr>\n",
       "            <tr>\n",
       "                        <th id=\"T_7242de9a_9d82_11ec_84b4_dd152d3878cblevel0_row9\" class=\"row_heading level0 row9\" >ridge</th>\n",
       "                        <td id=\"T_7242de9a_9d82_11ec_84b4_dd152d3878cbrow9_col0\" class=\"data row9 col0\" >Ridge Regression</td>\n",
       "                        <td id=\"T_7242de9a_9d82_11ec_84b4_dd152d3878cbrow9_col1\" class=\"data row9 col1\" >245.4935</td>\n",
       "                        <td id=\"T_7242de9a_9d82_11ec_84b4_dd152d3878cbrow9_col2\" class=\"data row9 col2\" >1029087.2611</td>\n",
       "                        <td id=\"T_7242de9a_9d82_11ec_84b4_dd152d3878cbrow9_col3\" class=\"data row9 col3\" >733.9757</td>\n",
       "                        <td id=\"T_7242de9a_9d82_11ec_84b4_dd152d3878cbrow9_col4\" class=\"data row9 col4\" >-1.8711</td>\n",
       "                        <td id=\"T_7242de9a_9d82_11ec_84b4_dd152d3878cbrow9_col5\" class=\"data row9 col5\" >0.9396</td>\n",
       "                        <td id=\"T_7242de9a_9d82_11ec_84b4_dd152d3878cbrow9_col6\" class=\"data row9 col6\" >1.9660</td>\n",
       "                        <td id=\"T_7242de9a_9d82_11ec_84b4_dd152d3878cbrow9_col7\" class=\"data row9 col7\" >0.3600</td>\n",
       "            </tr>\n",
       "            <tr>\n",
       "                        <th id=\"T_7242de9a_9d82_11ec_84b4_dd152d3878cblevel0_row10\" class=\"row_heading level0 row10\" >lasso</th>\n",
       "                        <td id=\"T_7242de9a_9d82_11ec_84b4_dd152d3878cbrow10_col0\" class=\"data row10 col0\" >Lasso Regression</td>\n",
       "                        <td id=\"T_7242de9a_9d82_11ec_84b4_dd152d3878cbrow10_col1\" class=\"data row10 col1\" >245.7249</td>\n",
       "                        <td id=\"T_7242de9a_9d82_11ec_84b4_dd152d3878cbrow10_col2\" class=\"data row10 col2\" >1060215.2392</td>\n",
       "                        <td id=\"T_7242de9a_9d82_11ec_84b4_dd152d3878cbrow10_col3\" class=\"data row10 col3\" >741.3641</td>\n",
       "                        <td id=\"T_7242de9a_9d82_11ec_84b4_dd152d3878cbrow10_col4\" class=\"data row10 col4\" >-1.9582</td>\n",
       "                        <td id=\"T_7242de9a_9d82_11ec_84b4_dd152d3878cbrow10_col5\" class=\"data row10 col5\" >0.9415</td>\n",
       "                        <td id=\"T_7242de9a_9d82_11ec_84b4_dd152d3878cbrow10_col6\" class=\"data row10 col6\" >1.9760</td>\n",
       "                        <td id=\"T_7242de9a_9d82_11ec_84b4_dd152d3878cbrow10_col7\" class=\"data row10 col7\" >0.3340</td>\n",
       "            </tr>\n",
       "            <tr>\n",
       "                        <th id=\"T_7242de9a_9d82_11ec_84b4_dd152d3878cblevel0_row11\" class=\"row_heading level0 row11\" >br</th>\n",
       "                        <td id=\"T_7242de9a_9d82_11ec_84b4_dd152d3878cbrow11_col0\" class=\"data row11 col0\" >Bayesian Ridge</td>\n",
       "                        <td id=\"T_7242de9a_9d82_11ec_84b4_dd152d3878cbrow11_col1\" class=\"data row11 col1\" >245.0965</td>\n",
       "                        <td id=\"T_7242de9a_9d82_11ec_84b4_dd152d3878cbrow11_col2\" class=\"data row11 col2\" >1092751.1602</td>\n",
       "                        <td id=\"T_7242de9a_9d82_11ec_84b4_dd152d3878cbrow11_col3\" class=\"data row11 col3\" >747.9859</td>\n",
       "                        <td id=\"T_7242de9a_9d82_11ec_84b4_dd152d3878cbrow11_col4\" class=\"data row11 col4\" >-2.0493</td>\n",
       "                        <td id=\"T_7242de9a_9d82_11ec_84b4_dd152d3878cbrow11_col5\" class=\"data row11 col5\" >0.9362</td>\n",
       "                        <td id=\"T_7242de9a_9d82_11ec_84b4_dd152d3878cbrow11_col6\" class=\"data row11 col6\" >1.9651</td>\n",
       "                        <td id=\"T_7242de9a_9d82_11ec_84b4_dd152d3878cbrow11_col7\" class=\"data row11 col7\" >0.0380</td>\n",
       "            </tr>\n",
       "            <tr>\n",
       "                        <th id=\"T_7242de9a_9d82_11ec_84b4_dd152d3878cblevel0_row12\" class=\"row_heading level0 row12\" >lar</th>\n",
       "                        <td id=\"T_7242de9a_9d82_11ec_84b4_dd152d3878cbrow12_col0\" class=\"data row12 col0\" >Least Angle Regression</td>\n",
       "                        <td id=\"T_7242de9a_9d82_11ec_84b4_dd152d3878cbrow12_col1\" class=\"data row12 col1\" >244.9300</td>\n",
       "                        <td id=\"T_7242de9a_9d82_11ec_84b4_dd152d3878cbrow12_col2\" class=\"data row12 col2\" >1093727.3637</td>\n",
       "                        <td id=\"T_7242de9a_9d82_11ec_84b4_dd152d3878cbrow12_col3\" class=\"data row12 col3\" >748.0385</td>\n",
       "                        <td id=\"T_7242de9a_9d82_11ec_84b4_dd152d3878cbrow12_col4\" class=\"data row12 col4\" >-2.0520</td>\n",
       "                        <td id=\"T_7242de9a_9d82_11ec_84b4_dd152d3878cbrow12_col5\" class=\"data row12 col5\" >0.9360</td>\n",
       "                        <td id=\"T_7242de9a_9d82_11ec_84b4_dd152d3878cbrow12_col6\" class=\"data row12 col6\" >1.9635</td>\n",
       "                        <td id=\"T_7242de9a_9d82_11ec_84b4_dd152d3878cbrow12_col7\" class=\"data row12 col7\" >0.0460</td>\n",
       "            </tr>\n",
       "            <tr>\n",
       "                        <th id=\"T_7242de9a_9d82_11ec_84b4_dd152d3878cblevel0_row13\" class=\"row_heading level0 row13\" >lr</th>\n",
       "                        <td id=\"T_7242de9a_9d82_11ec_84b4_dd152d3878cbrow13_col0\" class=\"data row13 col0\" >Linear Regression</td>\n",
       "                        <td id=\"T_7242de9a_9d82_11ec_84b4_dd152d3878cbrow13_col1\" class=\"data row13 col1\" >244.9305</td>\n",
       "                        <td id=\"T_7242de9a_9d82_11ec_84b4_dd152d3878cbrow13_col2\" class=\"data row13 col2\" >1093737.6068</td>\n",
       "                        <td id=\"T_7242de9a_9d82_11ec_84b4_dd152d3878cbrow13_col3\" class=\"data row13 col3\" >748.0410</td>\n",
       "                        <td id=\"T_7242de9a_9d82_11ec_84b4_dd152d3878cbrow13_col4\" class=\"data row13 col4\" >-2.0520</td>\n",
       "                        <td id=\"T_7242de9a_9d82_11ec_84b4_dd152d3878cbrow13_col5\" class=\"data row13 col5\" >0.9360</td>\n",
       "                        <td id=\"T_7242de9a_9d82_11ec_84b4_dd152d3878cbrow13_col6\" class=\"data row13 col6\" >1.9635</td>\n",
       "                        <td id=\"T_7242de9a_9d82_11ec_84b4_dd152d3878cbrow13_col7\" class=\"data row13 col7\" >0.5680</td>\n",
       "            </tr>\n",
       "            <tr>\n",
       "                        <th id=\"T_7242de9a_9d82_11ec_84b4_dd152d3878cblevel0_row14\" class=\"row_heading level0 row14\" >dt</th>\n",
       "                        <td id=\"T_7242de9a_9d82_11ec_84b4_dd152d3878cbrow14_col0\" class=\"data row14 col0\" >Decision Tree Regressor</td>\n",
       "                        <td id=\"T_7242de9a_9d82_11ec_84b4_dd152d3878cbrow14_col1\" class=\"data row14 col1\" >427.8778</td>\n",
       "                        <td id=\"T_7242de9a_9d82_11ec_84b4_dd152d3878cbrow14_col2\" class=\"data row14 col2\" >578599.8365</td>\n",
       "                        <td id=\"T_7242de9a_9d82_11ec_84b4_dd152d3878cbrow14_col3\" class=\"data row14 col3\" >752.4477</td>\n",
       "                        <td id=\"T_7242de9a_9d82_11ec_84b4_dd152d3878cbrow14_col4\" class=\"data row14 col4\" >-0.6092</td>\n",
       "                        <td id=\"T_7242de9a_9d82_11ec_84b4_dd152d3878cbrow14_col5\" class=\"data row14 col5\" >1.3336</td>\n",
       "                        <td id=\"T_7242de9a_9d82_11ec_84b4_dd152d3878cbrow14_col6\" class=\"data row14 col6\" >3.4865</td>\n",
       "                        <td id=\"T_7242de9a_9d82_11ec_84b4_dd152d3878cbrow14_col7\" class=\"data row14 col7\" >0.0360</td>\n",
       "            </tr>\n",
       "            <tr>\n",
       "                        <th id=\"T_7242de9a_9d82_11ec_84b4_dd152d3878cblevel0_row15\" class=\"row_heading level0 row15\" >par</th>\n",
       "                        <td id=\"T_7242de9a_9d82_11ec_84b4_dd152d3878cbrow15_col0\" class=\"data row15 col0\" >Passive Aggressive Regressor</td>\n",
       "                        <td id=\"T_7242de9a_9d82_11ec_84b4_dd152d3878cbrow15_col1\" class=\"data row15 col1\" >171.0005</td>\n",
       "                        <td id=\"T_7242de9a_9d82_11ec_84b4_dd152d3878cbrow15_col2\" class=\"data row15 col2\" >1514167.2684</td>\n",
       "                        <td id=\"T_7242de9a_9d82_11ec_84b4_dd152d3878cbrow15_col3\" class=\"data row15 col3\" >813.5788</td>\n",
       "                        <td id=\"T_7242de9a_9d82_11ec_84b4_dd152d3878cbrow15_col4\" class=\"data row15 col4\" >-3.2302</td>\n",
       "                        <td id=\"T_7242de9a_9d82_11ec_84b4_dd152d3878cbrow15_col5\" class=\"data row15 col5\" >0.7622</td>\n",
       "                        <td id=\"T_7242de9a_9d82_11ec_84b4_dd152d3878cbrow15_col6\" class=\"data row15 col6\" >1.5306</td>\n",
       "                        <td id=\"T_7242de9a_9d82_11ec_84b4_dd152d3878cbrow15_col7\" class=\"data row15 col7\" >0.0300</td>\n",
       "            </tr>\n",
       "            <tr>\n",
       "                        <th id=\"T_7242de9a_9d82_11ec_84b4_dd152d3878cblevel0_row16\" class=\"row_heading level0 row16\" >huber</th>\n",
       "                        <td id=\"T_7242de9a_9d82_11ec_84b4_dd152d3878cbrow16_col0\" class=\"data row16 col0\" >Huber Regressor</td>\n",
       "                        <td id=\"T_7242de9a_9d82_11ec_84b4_dd152d3878cbrow16_col1\" class=\"data row16 col1\" >166.8984</td>\n",
       "                        <td id=\"T_7242de9a_9d82_11ec_84b4_dd152d3878cbrow16_col2\" class=\"data row16 col2\" >1589236.1414</td>\n",
       "                        <td id=\"T_7242de9a_9d82_11ec_84b4_dd152d3878cbrow16_col3\" class=\"data row16 col3\" >835.3019</td>\n",
       "                        <td id=\"T_7242de9a_9d82_11ec_84b4_dd152d3878cbrow16_col4\" class=\"data row16 col4\" >-3.4392</td>\n",
       "                        <td id=\"T_7242de9a_9d82_11ec_84b4_dd152d3878cbrow16_col5\" class=\"data row16 col5\" >0.7677</td>\n",
       "                        <td id=\"T_7242de9a_9d82_11ec_84b4_dd152d3878cbrow16_col6\" class=\"data row16 col6\" >1.5095</td>\n",
       "                        <td id=\"T_7242de9a_9d82_11ec_84b4_dd152d3878cbrow16_col7\" class=\"data row16 col7\" >0.0280</td>\n",
       "            </tr>\n",
       "    </tbody></table>"
      ],
      "text/plain": [
       "<pandas.io.formats.style.Styler at 0x7fd48695ee90>"
      ]
     },
     "metadata": {},
     "output_type": "display_data"
    },
    {
     "name": "stderr",
     "output_type": "stream",
     "text": [
      "/home/aravi/miniconda3/lib/python3.7/site-packages/sklearn/linear_model/_base.py:138: FutureWarning: The default of 'normalize' will be set to False in version 1.2 and deprecated in version 1.4.\n",
      "If you wish to scale the data, use Pipeline with a StandardScaler in a preprocessing stage. To reproduce the previous behavior:\n",
      "\n",
      "from sklearn.pipeline import make_pipeline\n",
      "\n",
      "model = make_pipeline(StandardScaler(with_mean=False), LassoLars())\n",
      "\n",
      "If you wish to pass a sample_weight parameter, you need to pass it as a fit parameter to each step of the pipeline as follows:\n",
      "\n",
      "kwargs = {s[0] + '__sample_weight': sample_weight for s in model.steps}\n",
      "model.fit(X, y, **kwargs)\n",
      "\n",
      "Set parameter alpha to: original_alpha * np.sqrt(n_samples). \n",
      "  FutureWarning,\n",
      "/home/aravi/miniconda3/lib/python3.7/site-packages/sklearn/utils/deprecation.py:103: FutureWarning: Attribute `n_features_` was deprecated in version 1.0 and will be removed in 1.2. Use `n_features_in_` instead.\n",
      "  warnings.warn(msg, category=FutureWarning)\n",
      "/home/aravi/miniconda3/lib/python3.7/site-packages/sklearn/linear_model/_base.py:138: FutureWarning: The default of 'normalize' will be set to False in version 1.2 and deprecated in version 1.4.\n",
      "If you wish to scale the data, use Pipeline with a StandardScaler in a preprocessing stage. To reproduce the previous behavior:\n",
      "\n",
      "from sklearn.pipeline import make_pipeline\n",
      "\n",
      "model = make_pipeline(StandardScaler(with_mean=False), Lars())\n",
      "\n",
      "If you wish to pass a sample_weight parameter, you need to pass it as a fit parameter to each step of the pipeline as follows:\n",
      "\n",
      "kwargs = {s[0] + '__sample_weight': sample_weight for s in model.steps}\n",
      "model.fit(X, y, **kwargs)\n",
      "\n",
      "\n",
      "  FutureWarning,\n",
      "/home/aravi/miniconda3/lib/python3.7/site-packages/sklearn/linear_model/_base.py:138: FutureWarning: The default of 'normalize' will be set to False in version 1.2 and deprecated in version 1.4.\n",
      "If you wish to scale the data, use Pipeline with a StandardScaler in a preprocessing stage. To reproduce the previous behavior:\n",
      "\n",
      "from sklearn.pipeline import make_pipeline\n",
      "\n",
      "model = make_pipeline(StandardScaler(with_mean=False), OrthogonalMatchingPursuit())\n",
      "\n",
      "If you wish to pass a sample_weight parameter, you need to pass it as a fit parameter to each step of the pipeline as follows:\n",
      "\n",
      "kwargs = {s[0] + '__sample_weight': sample_weight for s in model.steps}\n",
      "model.fit(X, y, **kwargs)\n",
      "\n",
      "\n",
      "  FutureWarning,\n",
      "/home/aravi/miniconda3/lib/python3.7/site-packages/sklearn/utils/deprecation.py:103: FutureWarning: Attribute `_pairwise` was deprecated in version 0.24 and will be removed in 1.1 (renaming of 0.26).\n",
      "  warnings.warn(msg, category=FutureWarning)\n",
      "/home/aravi/miniconda3/lib/python3.7/site-packages/sklearn/base.py:442: UserWarning: X does not have valid feature names, but KNeighborsRegressor was fitted with feature names\n",
      "  \"X does not have valid feature names, but\"\n",
      "/home/aravi/miniconda3/lib/python3.7/site-packages/sklearn/utils/deprecation.py:103: FutureWarning: Attribute `n_features_` was deprecated in version 1.0 and will be removed in 1.2. Use `n_features_in_` instead.\n",
      "  warnings.warn(msg, category=FutureWarning)\n",
      "/home/aravi/miniconda3/lib/python3.7/site-packages/sklearn/linear_model/_base.py:138: FutureWarning: The default of 'normalize' will be set to False in version 1.2 and deprecated in version 1.4.\n",
      "If you wish to scale the data, use Pipeline with a StandardScaler in a preprocessing stage. To reproduce the previous behavior:\n",
      "\n",
      "from sklearn.pipeline import make_pipeline\n",
      "\n",
      "model = make_pipeline(StandardScaler(with_mean=False), LassoLars())\n",
      "\n",
      "If you wish to pass a sample_weight parameter, you need to pass it as a fit parameter to each step of the pipeline as follows:\n",
      "\n",
      "kwargs = {s[0] + '__sample_weight': sample_weight for s in model.steps}\n",
      "model.fit(X, y, **kwargs)\n",
      "\n",
      "Set parameter alpha to: original_alpha * np.sqrt(n_samples). \n",
      "  FutureWarning,\n",
      "/home/aravi/miniconda3/lib/python3.7/site-packages/sklearn/utils/deprecation.py:103: FutureWarning: Attribute `_pairwise` was deprecated in version 0.24 and will be removed in 1.1 (renaming of 0.26).\n",
      "  warnings.warn(msg, category=FutureWarning)\n",
      "/home/aravi/miniconda3/lib/python3.7/site-packages/sklearn/base.py:442: UserWarning: X does not have valid feature names, but KNeighborsRegressor was fitted with feature names\n",
      "  \"X does not have valid feature names, but\"\n",
      "/home/aravi/miniconda3/lib/python3.7/site-packages/sklearn/utils/deprecation.py:103: FutureWarning: Attribute `n_features_` was deprecated in version 1.0 and will be removed in 1.2. Use `n_features_in_` instead.\n",
      "  warnings.warn(msg, category=FutureWarning)\n",
      "/home/aravi/miniconda3/lib/python3.7/site-packages/sklearn/utils/deprecation.py:103: FutureWarning: Attribute `n_classes_` was deprecated in version 0.24 and will be removed in 1.1 (renaming of 0.26).\n",
      "  warnings.warn(msg, category=FutureWarning)\n",
      "/home/aravi/miniconda3/lib/python3.7/site-packages/sklearn/utils/deprecation.py:103: FutureWarning: Attribute `n_features_` was deprecated in version 1.0 and will be removed in 1.2. Use `n_features_in_` instead.\n",
      "  warnings.warn(msg, category=FutureWarning)\n",
      "/home/aravi/miniconda3/lib/python3.7/site-packages/sklearn/linear_model/_base.py:138: FutureWarning: The default of 'normalize' will be set to False in version 1.2 and deprecated in version 1.4.\n",
      "If you wish to scale the data, use Pipeline with a StandardScaler in a preprocessing stage. To reproduce the previous behavior:\n",
      "\n",
      "from sklearn.pipeline import make_pipeline\n",
      "\n",
      "model = make_pipeline(StandardScaler(with_mean=False), LassoLars())\n",
      "\n",
      "If you wish to pass a sample_weight parameter, you need to pass it as a fit parameter to each step of the pipeline as follows:\n",
      "\n",
      "kwargs = {s[0] + '__sample_weight': sample_weight for s in model.steps}\n",
      "model.fit(X, y, **kwargs)\n",
      "\n",
      "Set parameter alpha to: original_alpha * np.sqrt(n_samples). \n",
      "  FutureWarning,\n",
      "/home/aravi/miniconda3/lib/python3.7/site-packages/sklearn/utils/deprecation.py:103: FutureWarning: Attribute `_pairwise` was deprecated in version 0.24 and will be removed in 1.1 (renaming of 0.26).\n",
      "  warnings.warn(msg, category=FutureWarning)\n",
      "/home/aravi/miniconda3/lib/python3.7/site-packages/sklearn/base.py:442: UserWarning: X does not have valid feature names, but KNeighborsRegressor was fitted with feature names\n",
      "  \"X does not have valid feature names, but\"\n",
      "/home/aravi/miniconda3/lib/python3.7/site-packages/sklearn/utils/deprecation.py:103: FutureWarning: Attribute `n_features_` was deprecated in version 1.0 and will be removed in 1.2. Use `n_features_in_` instead.\n",
      "  warnings.warn(msg, category=FutureWarning)\n",
      "/home/aravi/miniconda3/lib/python3.7/site-packages/sklearn/utils/deprecation.py:103: FutureWarning: Attribute `n_classes_` was deprecated in version 0.24 and will be removed in 1.1 (renaming of 0.26).\n",
      "  warnings.warn(msg, category=FutureWarning)\n",
      "/home/aravi/miniconda3/lib/python3.7/site-packages/sklearn/utils/deprecation.py:103: FutureWarning: Attribute `n_features_` was deprecated in version 1.0 and will be removed in 1.2. Use `n_features_in_` instead.\n",
      "  warnings.warn(msg, category=FutureWarning)\n",
      "/home/aravi/miniconda3/lib/python3.7/site-packages/sklearn/linear_model/_base.py:138: FutureWarning: The default of 'normalize' will be set to False in version 1.2 and deprecated in version 1.4.\n",
      "If you wish to scale the data, use Pipeline with a StandardScaler in a preprocessing stage. To reproduce the previous behavior:\n",
      "\n",
      "from sklearn.pipeline import make_pipeline\n",
      "\n",
      "model = make_pipeline(StandardScaler(with_mean=False), Lars())\n",
      "\n",
      "If you wish to pass a sample_weight parameter, you need to pass it as a fit parameter to each step of the pipeline as follows:\n",
      "\n",
      "kwargs = {s[0] + '__sample_weight': sample_weight for s in model.steps}\n",
      "model.fit(X, y, **kwargs)\n",
      "\n",
      "\n",
      "  FutureWarning,\n",
      "/home/aravi/miniconda3/lib/python3.7/site-packages/sklearn/utils/deprecation.py:103: FutureWarning: Attribute `_pairwise` was deprecated in version 0.24 and will be removed in 1.1 (renaming of 0.26).\n",
      "  warnings.warn(msg, category=FutureWarning)\n",
      "/home/aravi/miniconda3/lib/python3.7/site-packages/sklearn/base.py:442: UserWarning: X does not have valid feature names, but KNeighborsRegressor was fitted with feature names\n",
      "  \"X does not have valid feature names, but\"\n",
      "/home/aravi/miniconda3/lib/python3.7/site-packages/sklearn/utils/deprecation.py:103: FutureWarning: Attribute `n_features_` was deprecated in version 1.0 and will be removed in 1.2. Use `n_features_in_` instead.\n",
      "  warnings.warn(msg, category=FutureWarning)\n",
      "/home/aravi/miniconda3/lib/python3.7/site-packages/sklearn/utils/deprecation.py:103: FutureWarning: Attribute `n_classes_` was deprecated in version 0.24 and will be removed in 1.1 (renaming of 0.26).\n",
      "  warnings.warn(msg, category=FutureWarning)\n",
      "/home/aravi/miniconda3/lib/python3.7/site-packages/sklearn/utils/deprecation.py:103: FutureWarning: Attribute `n_features_` was deprecated in version 1.0 and will be removed in 1.2. Use `n_features_in_` instead.\n",
      "  warnings.warn(msg, category=FutureWarning)\n"
     ]
    },
    {
     "name": "stderr",
     "output_type": "stream",
     "text": [
      "/home/aravi/miniconda3/lib/python3.7/site-packages/sklearn/linear_model/_base.py:138: FutureWarning: The default of 'normalize' will be set to False in version 1.2 and deprecated in version 1.4.\n",
      "If you wish to scale the data, use Pipeline with a StandardScaler in a preprocessing stage. To reproduce the previous behavior:\n",
      "\n",
      "from sklearn.pipeline import make_pipeline\n",
      "\n",
      "model = make_pipeline(StandardScaler(with_mean=False), Lars())\n",
      "\n",
      "If you wish to pass a sample_weight parameter, you need to pass it as a fit parameter to each step of the pipeline as follows:\n",
      "\n",
      "kwargs = {s[0] + '__sample_weight': sample_weight for s in model.steps}\n",
      "model.fit(X, y, **kwargs)\n",
      "\n",
      "\n",
      "  FutureWarning,\n",
      "/home/aravi/miniconda3/lib/python3.7/site-packages/sklearn/utils/deprecation.py:103: FutureWarning: Attribute `_pairwise` was deprecated in version 0.24 and will be removed in 1.1 (renaming of 0.26).\n",
      "  warnings.warn(msg, category=FutureWarning)\n",
      "/home/aravi/miniconda3/lib/python3.7/site-packages/sklearn/base.py:442: UserWarning: X does not have valid feature names, but KNeighborsRegressor was fitted with feature names\n",
      "  \"X does not have valid feature names, but\"\n",
      "/home/aravi/miniconda3/lib/python3.7/site-packages/sklearn/utils/deprecation.py:103: FutureWarning: Attribute `n_features_` was deprecated in version 1.0 and will be removed in 1.2. Use `n_features_in_` instead.\n",
      "  warnings.warn(msg, category=FutureWarning)\n",
      "/home/aravi/miniconda3/lib/python3.7/site-packages/sklearn/utils/deprecation.py:103: FutureWarning: Attribute `n_classes_` was deprecated in version 0.24 and will be removed in 1.1 (renaming of 0.26).\n",
      "  warnings.warn(msg, category=FutureWarning)\n",
      "/home/aravi/miniconda3/lib/python3.7/site-packages/sklearn/utils/deprecation.py:103: FutureWarning: Attribute `n_features_` was deprecated in version 1.0 and will be removed in 1.2. Use `n_features_in_` instead.\n",
      "  warnings.warn(msg, category=FutureWarning)\n",
      "/home/aravi/miniconda3/lib/python3.7/site-packages/sklearn/linear_model/_base.py:138: FutureWarning: The default of 'normalize' will be set to False in version 1.2 and deprecated in version 1.4.\n",
      "If you wish to scale the data, use Pipeline with a StandardScaler in a preprocessing stage. To reproduce the previous behavior:\n",
      "\n",
      "from sklearn.pipeline import make_pipeline\n",
      "\n",
      "model = make_pipeline(StandardScaler(with_mean=False), Lars())\n",
      "\n",
      "If you wish to pass a sample_weight parameter, you need to pass it as a fit parameter to each step of the pipeline as follows:\n",
      "\n",
      "kwargs = {s[0] + '__sample_weight': sample_weight for s in model.steps}\n",
      "model.fit(X, y, **kwargs)\n",
      "\n",
      "\n",
      "  FutureWarning,\n",
      "/home/aravi/miniconda3/lib/python3.7/site-packages/sklearn/linear_model/_base.py:138: FutureWarning: The default of 'normalize' will be set to False in version 1.2 and deprecated in version 1.4.\n",
      "If you wish to scale the data, use Pipeline with a StandardScaler in a preprocessing stage. To reproduce the previous behavior:\n",
      "\n",
      "from sklearn.pipeline import make_pipeline\n",
      "\n",
      "model = make_pipeline(StandardScaler(with_mean=False), OrthogonalMatchingPursuit())\n",
      "\n",
      "If you wish to pass a sample_weight parameter, you need to pass it as a fit parameter to each step of the pipeline as follows:\n",
      "\n",
      "kwargs = {s[0] + '__sample_weight': sample_weight for s in model.steps}\n",
      "model.fit(X, y, **kwargs)\n",
      "\n",
      "\n",
      "  FutureWarning,\n",
      "/home/aravi/miniconda3/lib/python3.7/site-packages/sklearn/utils/deprecation.py:103: FutureWarning: The attribute `n_features_` is deprecated in 1.0 and will be removed in 1.2. Use `n_features_in_` instead.\n",
      "  warnings.warn(msg, category=FutureWarning)\n",
      "/home/aravi/miniconda3/lib/python3.7/site-packages/sklearn/utils/deprecation.py:103: FutureWarning: Attribute `n_features_` was deprecated in version 1.0 and will be removed in 1.2. Use `n_features_in_` instead.\n",
      "  warnings.warn(msg, category=FutureWarning)\n",
      "/home/aravi/miniconda3/lib/python3.7/site-packages/sklearn/utils/deprecation.py:103: FutureWarning: Attribute `n_classes_` was deprecated in version 0.24 and will be removed in 1.1 (renaming of 0.26).\n",
      "  warnings.warn(msg, category=FutureWarning)\n",
      "/home/aravi/miniconda3/lib/python3.7/site-packages/sklearn/utils/deprecation.py:103: FutureWarning: Attribute `n_features_` was deprecated in version 1.0 and will be removed in 1.2. Use `n_features_in_` instead.\n",
      "  warnings.warn(msg, category=FutureWarning)\n",
      "/home/aravi/miniconda3/lib/python3.7/site-packages/sklearn/linear_model/_base.py:138: FutureWarning: The default of 'normalize' will be set to False in version 1.2 and deprecated in version 1.4.\n",
      "If you wish to scale the data, use Pipeline with a StandardScaler in a preprocessing stage. To reproduce the previous behavior:\n",
      "\n",
      "from sklearn.pipeline import make_pipeline\n",
      "\n",
      "model = make_pipeline(StandardScaler(with_mean=False), LassoLars())\n",
      "\n",
      "If you wish to pass a sample_weight parameter, you need to pass it as a fit parameter to each step of the pipeline as follows:\n",
      "\n",
      "kwargs = {s[0] + '__sample_weight': sample_weight for s in model.steps}\n",
      "model.fit(X, y, **kwargs)\n",
      "\n",
      "Set parameter alpha to: original_alpha * np.sqrt(n_samples). \n",
      "  FutureWarning,\n",
      "/home/aravi/miniconda3/lib/python3.7/site-packages/sklearn/utils/deprecation.py:103: FutureWarning: The attribute `n_features_` is deprecated in 1.0 and will be removed in 1.2. Use `n_features_in_` instead.\n",
      "  warnings.warn(msg, category=FutureWarning)\n",
      "/home/aravi/miniconda3/lib/python3.7/site-packages/sklearn/linear_model/_base.py:138: FutureWarning: The default of 'normalize' will be set to False in version 1.2 and deprecated in version 1.4.\n",
      "If you wish to scale the data, use Pipeline with a StandardScaler in a preprocessing stage. To reproduce the previous behavior:\n",
      "\n",
      "from sklearn.pipeline import make_pipeline\n",
      "\n",
      "model = make_pipeline(StandardScaler(with_mean=False), OrthogonalMatchingPursuit())\n",
      "\n",
      "If you wish to pass a sample_weight parameter, you need to pass it as a fit parameter to each step of the pipeline as follows:\n",
      "\n",
      "kwargs = {s[0] + '__sample_weight': sample_weight for s in model.steps}\n",
      "model.fit(X, y, **kwargs)\n",
      "\n",
      "\n",
      "  FutureWarning,\n",
      "/home/aravi/miniconda3/lib/python3.7/site-packages/sklearn/utils/deprecation.py:103: FutureWarning: The attribute `n_features_` is deprecated in 1.0 and will be removed in 1.2. Use `n_features_in_` instead.\n",
      "  warnings.warn(msg, category=FutureWarning)\n",
      "/home/aravi/miniconda3/lib/python3.7/site-packages/sklearn/linear_model/_base.py:138: FutureWarning: The default of 'normalize' will be set to False in version 1.2 and deprecated in version 1.4.\n",
      "If you wish to scale the data, use Pipeline with a StandardScaler in a preprocessing stage. To reproduce the previous behavior:\n",
      "\n",
      "from sklearn.pipeline import make_pipeline\n",
      "\n",
      "model = make_pipeline(StandardScaler(with_mean=False), LassoLars())\n",
      "\n",
      "If you wish to pass a sample_weight parameter, you need to pass it as a fit parameter to each step of the pipeline as follows:\n",
      "\n",
      "kwargs = {s[0] + '__sample_weight': sample_weight for s in model.steps}\n",
      "model.fit(X, y, **kwargs)\n",
      "\n",
      "Set parameter alpha to: original_alpha * np.sqrt(n_samples). \n",
      "  FutureWarning,\n",
      "/home/aravi/miniconda3/lib/python3.7/site-packages/sklearn/utils/deprecation.py:103: FutureWarning: The attribute `n_features_` is deprecated in 1.0 and will be removed in 1.2. Use `n_features_in_` instead.\n",
      "  warnings.warn(msg, category=FutureWarning)\n",
      "/home/aravi/miniconda3/lib/python3.7/site-packages/sklearn/utils/deprecation.py:103: FutureWarning: Attribute `n_features_` was deprecated in version 1.0 and will be removed in 1.2. Use `n_features_in_` instead.\n",
      "  warnings.warn(msg, category=FutureWarning)\n",
      "/home/aravi/miniconda3/lib/python3.7/site-packages/sklearn/linear_model/_base.py:138: FutureWarning: The default of 'normalize' will be set to False in version 1.2 and deprecated in version 1.4.\n",
      "If you wish to scale the data, use Pipeline with a StandardScaler in a preprocessing stage. To reproduce the previous behavior:\n",
      "\n",
      "from sklearn.pipeline import make_pipeline\n",
      "\n",
      "model = make_pipeline(StandardScaler(with_mean=False), Lars())\n",
      "\n",
      "If you wish to pass a sample_weight parameter, you need to pass it as a fit parameter to each step of the pipeline as follows:\n",
      "\n",
      "kwargs = {s[0] + '__sample_weight': sample_weight for s in model.steps}\n",
      "model.fit(X, y, **kwargs)\n",
      "\n",
      "\n",
      "  FutureWarning,\n",
      "/home/aravi/miniconda3/lib/python3.7/site-packages/sklearn/linear_model/_base.py:138: FutureWarning: The default of 'normalize' will be set to False in version 1.2 and deprecated in version 1.4.\n",
      "If you wish to scale the data, use Pipeline with a StandardScaler in a preprocessing stage. To reproduce the previous behavior:\n",
      "\n",
      "from sklearn.pipeline import make_pipeline\n",
      "\n",
      "model = make_pipeline(StandardScaler(with_mean=False), OrthogonalMatchingPursuit())\n",
      "\n",
      "If you wish to pass a sample_weight parameter, you need to pass it as a fit parameter to each step of the pipeline as follows:\n",
      "\n",
      "kwargs = {s[0] + '__sample_weight': sample_weight for s in model.steps}\n",
      "model.fit(X, y, **kwargs)\n",
      "\n",
      "\n",
      "  FutureWarning,\n",
      "/home/aravi/miniconda3/lib/python3.7/site-packages/sklearn/utils/deprecation.py:103: FutureWarning: The attribute `n_features_` is deprecated in 1.0 and will be removed in 1.2. Use `n_features_in_` instead.\n",
      "  warnings.warn(msg, category=FutureWarning)\n",
      "/home/aravi/miniconda3/lib/python3.7/site-packages/sklearn/utils/deprecation.py:103: FutureWarning: Attribute `n_features_` was deprecated in version 1.0 and will be removed in 1.2. Use `n_features_in_` instead.\n",
      "  warnings.warn(msg, category=FutureWarning)\n"
     ]
    },
    {
     "name": "stderr",
     "output_type": "stream",
     "text": [
      "/home/aravi/miniconda3/lib/python3.7/site-packages/sklearn/linear_model/_base.py:138: FutureWarning: The default of 'normalize' will be set to False in version 1.2 and deprecated in version 1.4.\n",
      "If you wish to scale the data, use Pipeline with a StandardScaler in a preprocessing stage. To reproduce the previous behavior:\n",
      "\n",
      "from sklearn.pipeline import make_pipeline\n",
      "\n",
      "model = make_pipeline(StandardScaler(with_mean=False), OrthogonalMatchingPursuit())\n",
      "\n",
      "If you wish to pass a sample_weight parameter, you need to pass it as a fit parameter to each step of the pipeline as follows:\n",
      "\n",
      "kwargs = {s[0] + '__sample_weight': sample_weight for s in model.steps}\n",
      "model.fit(X, y, **kwargs)\n",
      "\n",
      "\n",
      "  FutureWarning,\n",
      "/home/aravi/miniconda3/lib/python3.7/site-packages/sklearn/utils/deprecation.py:103: FutureWarning: Attribute `n_features_` was deprecated in version 1.0 and will be removed in 1.2. Use `n_features_in_` instead.\n",
      "  warnings.warn(msg, category=FutureWarning)\n"
     ]
    }
   ],
   "source": [
    "best_models = compare_models(sort='RMSE')"
   ]
  },
  {
   "cell_type": "code",
   "execution_count": 143,
   "metadata": {
    "ExecuteTime": {
     "end_time": "2022-02-20T22:26:56.377128Z",
     "start_time": "2022-02-20T22:26:55.540628Z"
    }
   },
   "outputs": [
    {
     "data": {
      "text/html": [
       "<style type=\"text/css\">\n",
       "#T_3720e_row5_col0, #T_3720e_row5_col1, #T_3720e_row5_col2, #T_3720e_row5_col3, #T_3720e_row5_col4, #T_3720e_row5_col5 {\n",
       "  background: yellow;\n",
       "}\n",
       "</style>\n",
       "<table id=\"T_3720e_\">\n",
       "  <thead>\n",
       "    <tr>\n",
       "      <th class=\"blank level0\" >&nbsp;</th>\n",
       "      <th class=\"col_heading level0 col0\" >MAE</th>\n",
       "      <th class=\"col_heading level0 col1\" >MSE</th>\n",
       "      <th class=\"col_heading level0 col2\" >RMSE</th>\n",
       "      <th class=\"col_heading level0 col3\" >R2</th>\n",
       "      <th class=\"col_heading level0 col4\" >RMSLE</th>\n",
       "      <th class=\"col_heading level0 col5\" >MAPE</th>\n",
       "    </tr>\n",
       "  </thead>\n",
       "  <tbody>\n",
       "    <tr>\n",
       "      <th id=\"T_3720e_level0_row0\" class=\"row_heading level0 row0\" >0</th>\n",
       "      <td id=\"T_3720e_row0_col0\" class=\"data row0 col0\" >269.3358</td>\n",
       "      <td id=\"T_3720e_row0_col1\" class=\"data row0 col1\" >170332.7041</td>\n",
       "      <td id=\"T_3720e_row0_col2\" class=\"data row0 col2\" >412.7138</td>\n",
       "      <td id=\"T_3720e_row0_col3\" class=\"data row0 col3\" >0.4713</td>\n",
       "      <td id=\"T_3720e_row0_col4\" class=\"data row0 col4\" >0.8229</td>\n",
       "      <td id=\"T_3720e_row0_col5\" class=\"data row0 col5\" >1.6813</td>\n",
       "    </tr>\n",
       "    <tr>\n",
       "      <th id=\"T_3720e_level0_row1\" class=\"row_heading level0 row1\" >1</th>\n",
       "      <td id=\"T_3720e_row1_col0\" class=\"data row1 col0\" >270.3851</td>\n",
       "      <td id=\"T_3720e_row1_col1\" class=\"data row1 col1\" >205135.6869</td>\n",
       "      <td id=\"T_3720e_row1_col2\" class=\"data row1 col2\" >452.9191</td>\n",
       "      <td id=\"T_3720e_row1_col3\" class=\"data row1 col3\" >0.4257</td>\n",
       "      <td id=\"T_3720e_row1_col4\" class=\"data row1 col4\" >0.9184</td>\n",
       "      <td id=\"T_3720e_row1_col5\" class=\"data row1 col5\" >1.8218</td>\n",
       "    </tr>\n",
       "    <tr>\n",
       "      <th id=\"T_3720e_level0_row2\" class=\"row_heading level0 row2\" >2</th>\n",
       "      <td id=\"T_3720e_row2_col0\" class=\"data row2 col0\" >367.8023</td>\n",
       "      <td id=\"T_3720e_row2_col1\" class=\"data row2 col1\" >362272.6920</td>\n",
       "      <td id=\"T_3720e_row2_col2\" class=\"data row2 col2\" >601.8909</td>\n",
       "      <td id=\"T_3720e_row2_col3\" class=\"data row2 col3\" >0.1099</td>\n",
       "      <td id=\"T_3720e_row2_col4\" class=\"data row2 col4\" >1.2388</td>\n",
       "      <td id=\"T_3720e_row2_col5\" class=\"data row2 col5\" >3.8257</td>\n",
       "    </tr>\n",
       "    <tr>\n",
       "      <th id=\"T_3720e_level0_row3\" class=\"row_heading level0 row3\" >3</th>\n",
       "      <td id=\"T_3720e_row3_col0\" class=\"data row3 col0\" >274.4616</td>\n",
       "      <td id=\"T_3720e_row3_col1\" class=\"data row3 col1\" >211466.6640</td>\n",
       "      <td id=\"T_3720e_row3_col2\" class=\"data row3 col2\" >459.8550</td>\n",
       "      <td id=\"T_3720e_row3_col3\" class=\"data row3 col3\" >0.3614</td>\n",
       "      <td id=\"T_3720e_row3_col4\" class=\"data row3 col4\" >1.0575</td>\n",
       "      <td id=\"T_3720e_row3_col5\" class=\"data row3 col5\" >2.7613</td>\n",
       "    </tr>\n",
       "    <tr>\n",
       "      <th id=\"T_3720e_level0_row4\" class=\"row_heading level0 row4\" >4</th>\n",
       "      <td id=\"T_3720e_row4_col0\" class=\"data row4 col0\" >347.4359</td>\n",
       "      <td id=\"T_3720e_row4_col1\" class=\"data row4 col1\" >338184.9584</td>\n",
       "      <td id=\"T_3720e_row4_col2\" class=\"data row4 col2\" >581.5367</td>\n",
       "      <td id=\"T_3720e_row4_col3\" class=\"data row4 col3\" >0.0636</td>\n",
       "      <td id=\"T_3720e_row4_col4\" class=\"data row4 col4\" >1.2915</td>\n",
       "      <td id=\"T_3720e_row4_col5\" class=\"data row4 col5\" >3.5416</td>\n",
       "    </tr>\n",
       "    <tr>\n",
       "      <th id=\"T_3720e_level0_row5\" class=\"row_heading level0 row5\" >Mean</th>\n",
       "      <td id=\"T_3720e_row5_col0\" class=\"data row5 col0\" >305.8841</td>\n",
       "      <td id=\"T_3720e_row5_col1\" class=\"data row5 col1\" >257478.5411</td>\n",
       "      <td id=\"T_3720e_row5_col2\" class=\"data row5 col2\" >501.7831</td>\n",
       "      <td id=\"T_3720e_row5_col3\" class=\"data row5 col3\" >0.2864</td>\n",
       "      <td id=\"T_3720e_row5_col4\" class=\"data row5 col4\" >1.0658</td>\n",
       "      <td id=\"T_3720e_row5_col5\" class=\"data row5 col5\" >2.7264</td>\n",
       "    </tr>\n",
       "    <tr>\n",
       "      <th id=\"T_3720e_level0_row6\" class=\"row_heading level0 row6\" >SD</th>\n",
       "      <td id=\"T_3720e_row6_col0\" class=\"data row6 col0\" >42.7639</td>\n",
       "      <td id=\"T_3720e_row6_col1\" class=\"data row6 col1\" >77390.7023</td>\n",
       "      <td id=\"T_3720e_row6_col2\" class=\"data row6 col2\" >75.4469</td>\n",
       "      <td id=\"T_3720e_row6_col3\" class=\"data row6 col3\" >0.1673</td>\n",
       "      <td id=\"T_3720e_row6_col4\" class=\"data row6 col4\" >0.1798</td>\n",
       "      <td id=\"T_3720e_row6_col5\" class=\"data row6 col5\" >0.8700</td>\n",
       "    </tr>\n",
       "  </tbody>\n",
       "</table>\n"
      ],
      "text/plain": [
       "<pandas.io.formats.style.Styler at 0x19977397d90>"
      ]
     },
     "metadata": {},
     "output_type": "display_data"
    },
    {
     "data": {
      "text/plain": [
       "HuberRegressor(alpha=0.5, epsilon=1.4, fit_intercept=True, max_iter=100,\n",
       "               tol=1e-05, warm_start=False)"
      ]
     },
     "execution_count": 143,
     "metadata": {},
     "output_type": "execute_result"
    }
   ],
   "source": [
    "tune_model(best_models, optimize=\"RMSE\")"
   ]
  },
  {
   "cell_type": "code",
   "execution_count": null,
   "metadata": {},
   "outputs": [],
   "source": []
  }
 ],
 "metadata": {
  "kernelspec": {
   "display_name": "Python 3 (ipykernel)",
   "language": "python",
   "name": "python3"
  },
  "language_info": {
   "codemirror_mode": {
    "name": "ipython",
    "version": 3
   },
   "file_extension": ".py",
   "mimetype": "text/x-python",
   "name": "python",
   "nbconvert_exporter": "python",
   "pygments_lexer": "ipython3",
   "version": "3.7.4"
  },
  "varInspector": {
   "cols": {
    "lenName": 16,
    "lenType": 16,
    "lenVar": 40
   },
   "kernels_config": {
    "python": {
     "delete_cmd_postfix": "",
     "delete_cmd_prefix": "del ",
     "library": "var_list.py",
     "varRefreshCmd": "print(var_dic_list())"
    },
    "r": {
     "delete_cmd_postfix": ") ",
     "delete_cmd_prefix": "rm(",
     "library": "var_list.r",
     "varRefreshCmd": "cat(var_dic_list()) "
    }
   },
   "types_to_exclude": [
    "module",
    "function",
    "builtin_function_or_method",
    "instance",
    "_Feature"
   ],
   "window_display": false
  }
 },
 "nbformat": 4,
 "nbformat_minor": 4
}

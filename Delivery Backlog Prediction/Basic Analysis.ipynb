{
 "cells": [
  {
   "cell_type": "code",
   "execution_count": 3,
   "id": "5cff4099",
   "metadata": {},
   "outputs": [
    {
     "data": {
      "text/html": [
       "<style>.container { width:90% !important; }</style>"
      ],
      "text/plain": [
       "<IPython.core.display.HTML object>"
      ]
     },
     "metadata": {},
     "output_type": "display_data"
    },
    {
     "data": {
      "text/html": [
       "<style>.rendered_html { font-size: 16px; }</style>"
      ],
      "text/plain": [
       "<IPython.core.display.HTML object>"
      ]
     },
     "metadata": {},
     "output_type": "display_data"
    },
    {
     "data": {
      "text/html": [
       "<style>table {float:left}</style>"
      ],
      "text/plain": [
       "<IPython.core.display.HTML object>"
      ]
     },
     "metadata": {},
     "output_type": "display_data"
    }
   ],
   "source": [
    "# JUPYTER NOTEBOOK SETTINGS\n",
    "from IPython.core.display import display, HTML\n",
    "import random\n",
    "display(HTML(\"<style>.container { width:90% !important; }</style>\"))\n",
    "display(HTML(\"<style>.rendered_html { font-size: 16px; }</style>\"))\n",
    "display(HTML(\"<style>table {float:left}</style>\"))\n",
    "import warnings\n",
    "warnings.filterwarnings('ignore')\n",
    "import matplotlib\n",
    "%matplotlib inline\n",
    "%config Completer.use_jedi = False"
   ]
  },
  {
   "cell_type": "code",
   "execution_count": 4,
   "id": "00e226c8",
   "metadata": {},
   "outputs": [],
   "source": [
    "# LIBRARIES\n",
    "import numpy as np\n",
    "import pandas as pd\n",
    "import matplotlib.pyplot as plt\n",
    "import seaborn as sns\n",
    "from pandas_profiling import ProfileReport\n",
    "import statsmodels\n",
    "from skforecast.ForecasterAutoreg import ForecasterAutoreg\n",
    "from sklearn.ensemble import RandomForestRegressor\n",
    "from sklearn.metrics import mean_squared_error\n",
    "\n",
    "random_state = 123\n",
    "np.random.seed(random_state)"
   ]
  },
  {
   "cell_type": "markdown",
   "id": "3d1e4e82",
   "metadata": {},
   "source": [
    "# Newset Datathon"
   ]
  },
  {
   "cell_type": "markdown",
   "id": "1285a823",
   "metadata": {},
   "source": [
    "### Problem Definition\n",
    "**Target:** `Earlies_Exp` - `MNR_SNR_Exp`\n",
    "\n",
    "**Metric:** RMSE"
   ]
  },
  {
   "cell_type": "markdown",
   "id": "1e32e375",
   "metadata": {},
   "source": [
    "### Importing Data"
   ]
  },
  {
   "cell_type": "code",
   "execution_count": 5,
   "id": "c2ab4a06",
   "metadata": {},
   "outputs": [
    {
     "data": {
      "text/html": [
       "<div>\n",
       "<style scoped>\n",
       "    .dataframe tbody tr th:only-of-type {\n",
       "        vertical-align: middle;\n",
       "    }\n",
       "\n",
       "    .dataframe tbody tr th {\n",
       "        vertical-align: top;\n",
       "    }\n",
       "\n",
       "    .dataframe thead th {\n",
       "        text-align: right;\n",
       "    }\n",
       "</style>\n",
       "<table border=\"1\" class=\"dataframe\">\n",
       "  <thead>\n",
       "    <tr style=\"text-align: right;\">\n",
       "      <th></th>\n",
       "      <th>ofd_date</th>\n",
       "      <th>country_code</th>\n",
       "      <th>fc_codes</th>\n",
       "      <th>station_code</th>\n",
       "      <th>OFD</th>\n",
       "      <th>Slam</th>\n",
       "      <th>Earlies_Exp</th>\n",
       "      <th>Earlies_Rec</th>\n",
       "      <th>MNR_SNR_Exp</th>\n",
       "      <th>Rollover</th>\n",
       "      <th>Returns</th>\n",
       "      <th>R_Sideline</th>\n",
       "      <th>Sideline</th>\n",
       "    </tr>\n",
       "  </thead>\n",
       "  <tbody>\n",
       "    <tr>\n",
       "      <th>0</th>\n",
       "      <td>2021-06-30</td>\n",
       "      <td>C</td>\n",
       "      <td>F6, F8, F14, F17</td>\n",
       "      <td>D33</td>\n",
       "      <td>14594</td>\n",
       "      <td>14568</td>\n",
       "      <td>782</td>\n",
       "      <td>896</td>\n",
       "      <td>615</td>\n",
       "      <td>767</td>\n",
       "      <td>35</td>\n",
       "      <td>2</td>\n",
       "      <td>4</td>\n",
       "    </tr>\n",
       "    <tr>\n",
       "      <th>1</th>\n",
       "      <td>2021-06-30</td>\n",
       "      <td>C</td>\n",
       "      <td>F6, F8, F9, F14, F17, F18</td>\n",
       "      <td>D37</td>\n",
       "      <td>12736</td>\n",
       "      <td>13111</td>\n",
       "      <td>655</td>\n",
       "      <td>823</td>\n",
       "      <td>211</td>\n",
       "      <td>29</td>\n",
       "      <td>17</td>\n",
       "      <td>2</td>\n",
       "      <td>1</td>\n",
       "    </tr>\n",
       "    <tr>\n",
       "      <th>2</th>\n",
       "      <td>2021-06-30</td>\n",
       "      <td>C</td>\n",
       "      <td>F1, F4, F6, F7, F13, F15, F16</td>\n",
       "      <td>D34</td>\n",
       "      <td>14562</td>\n",
       "      <td>15651</td>\n",
       "      <td>1028</td>\n",
       "      <td>1910</td>\n",
       "      <td>225</td>\n",
       "      <td>35</td>\n",
       "      <td>47</td>\n",
       "      <td>3</td>\n",
       "      <td>1</td>\n",
       "    </tr>\n",
       "    <tr>\n",
       "      <th>3</th>\n",
       "      <td>2021-06-30</td>\n",
       "      <td>C</td>\n",
       "      <td>F2, F6, F7, F10, F12, F13, F14, F15, F19</td>\n",
       "      <td>D45</td>\n",
       "      <td>11165</td>\n",
       "      <td>11467</td>\n",
       "      <td>514</td>\n",
       "      <td>769</td>\n",
       "      <td>56</td>\n",
       "      <td>39</td>\n",
       "      <td>29</td>\n",
       "      <td>0</td>\n",
       "      <td>1</td>\n",
       "    </tr>\n",
       "    <tr>\n",
       "      <th>4</th>\n",
       "      <td>2021-06-30</td>\n",
       "      <td>C</td>\n",
       "      <td>F6, F8, F13, F14, F17</td>\n",
       "      <td>D50</td>\n",
       "      <td>10006</td>\n",
       "      <td>10423</td>\n",
       "      <td>399</td>\n",
       "      <td>842</td>\n",
       "      <td>52</td>\n",
       "      <td>60</td>\n",
       "      <td>65</td>\n",
       "      <td>1</td>\n",
       "      <td>1</td>\n",
       "    </tr>\n",
       "  </tbody>\n",
       "</table>\n",
       "</div>"
      ],
      "text/plain": [
       "     ofd_date country_code                                  fc_codes  \\\n",
       "0  2021-06-30            C                          F6, F8, F14, F17   \n",
       "1  2021-06-30            C                 F6, F8, F9, F14, F17, F18   \n",
       "2  2021-06-30            C             F1, F4, F6, F7, F13, F15, F16   \n",
       "3  2021-06-30            C  F2, F6, F7, F10, F12, F13, F14, F15, F19   \n",
       "4  2021-06-30            C                     F6, F8, F13, F14, F17   \n",
       "\n",
       "  station_code    OFD   Slam  Earlies_Exp  Earlies_Rec  MNR_SNR_Exp  Rollover  \\\n",
       "0          D33  14594  14568          782          896          615       767   \n",
       "1          D37  12736  13111          655          823          211        29   \n",
       "2          D34  14562  15651         1028         1910          225        35   \n",
       "3          D45  11165  11467          514          769           56        39   \n",
       "4          D50  10006  10423          399          842           52        60   \n",
       "\n",
       "   Returns  R_Sideline  Sideline  \n",
       "0       35           2         4  \n",
       "1       17           2         1  \n",
       "2       47           3         1  \n",
       "3       29           0         1  \n",
       "4       65           1         1  "
      ]
     },
     "execution_count": 5,
     "metadata": {},
     "output_type": "execute_result"
    }
   ],
   "source": [
    "raw_train_data = pd.read_csv('data/train_data.csv')\n",
    "raw_test_data = pd.read_csv('data/test.csv')\n",
    "raw_train_data.head()"
   ]
  },
  {
   "cell_type": "code",
   "execution_count": 6,
   "id": "2314c1e8",
   "metadata": {},
   "outputs": [
    {
     "name": "stdout",
     "output_type": "stream",
     "text": [
      "<class 'pandas.core.frame.DataFrame'>\n",
      "RangeIndex: 11309 entries, 0 to 11308\n",
      "Data columns (total 13 columns):\n",
      " #   Column        Non-Null Count  Dtype \n",
      "---  ------        --------------  ----- \n",
      " 0   ofd_date      11309 non-null  object\n",
      " 1   country_code  11309 non-null  object\n",
      " 2   fc_codes      11309 non-null  object\n",
      " 3   station_code  11309 non-null  object\n",
      " 4   OFD           11309 non-null  int64 \n",
      " 5   Slam          11309 non-null  int64 \n",
      " 6   Earlies_Exp   11309 non-null  int64 \n",
      " 7   Earlies_Rec   11309 non-null  int64 \n",
      " 8   MNR_SNR_Exp   11309 non-null  int64 \n",
      " 9   Rollover      11309 non-null  int64 \n",
      " 10  Returns       11309 non-null  int64 \n",
      " 11  R_Sideline    11309 non-null  int64 \n",
      " 12  Sideline      11309 non-null  int64 \n",
      "dtypes: int64(9), object(4)\n",
      "memory usage: 1.1+ MB\n"
     ]
    }
   ],
   "source": [
    "raw_train_data.info()"
   ]
  },
  {
   "cell_type": "code",
   "execution_count": null,
   "id": "2b99da8c",
   "metadata": {
    "scrolled": true
   },
   "outputs": [],
   "source": [
    "# report = ProfileReport(raw_train_data, minimal=True)\n",
    "# report"
   ]
  },
  {
   "cell_type": "markdown",
   "id": "78704e2b",
   "metadata": {},
   "source": [
    "#### Submission Format"
   ]
  },
  {
   "cell_type": "code",
   "execution_count": 9,
   "id": "a4e1ba23",
   "metadata": {},
   "outputs": [
    {
     "data": {
      "text/html": [
       "<div>\n",
       "<style scoped>\n",
       "    .dataframe tbody tr th:only-of-type {\n",
       "        vertical-align: middle;\n",
       "    }\n",
       "\n",
       "    .dataframe tbody tr th {\n",
       "        vertical-align: top;\n",
       "    }\n",
       "\n",
       "    .dataframe thead th {\n",
       "        text-align: right;\n",
       "    }\n",
       "</style>\n",
       "<table border=\"1\" class=\"dataframe\">\n",
       "  <thead>\n",
       "    <tr style=\"text-align: right;\">\n",
       "      <th></th>\n",
       "      <th>Id</th>\n",
       "      <th>Expected</th>\n",
       "    </tr>\n",
       "  </thead>\n",
       "  <tbody>\n",
       "    <tr>\n",
       "      <th>0</th>\n",
       "      <td>2021-07-31_D33</td>\n",
       "      <td>200</td>\n",
       "    </tr>\n",
       "    <tr>\n",
       "      <th>1</th>\n",
       "      <td>2021-07-31_D37</td>\n",
       "      <td>281</td>\n",
       "    </tr>\n",
       "    <tr>\n",
       "      <th>2</th>\n",
       "      <td>2021-07-31_D34</td>\n",
       "      <td>312</td>\n",
       "    </tr>\n",
       "    <tr>\n",
       "      <th>3</th>\n",
       "      <td>2021-07-31_D45</td>\n",
       "      <td>44</td>\n",
       "    </tr>\n",
       "    <tr>\n",
       "      <th>4</th>\n",
       "      <td>2021-07-31_D50</td>\n",
       "      <td>-20</td>\n",
       "    </tr>\n",
       "    <tr>\n",
       "      <th>...</th>\n",
       "      <td>...</td>\n",
       "      <td>...</td>\n",
       "    </tr>\n",
       "    <tr>\n",
       "      <th>2384</th>\n",
       "      <td>2021-07-01_D60</td>\n",
       "      <td>-161</td>\n",
       "    </tr>\n",
       "    <tr>\n",
       "      <th>2385</th>\n",
       "      <td>2021-07-01_D54</td>\n",
       "      <td>140</td>\n",
       "    </tr>\n",
       "    <tr>\n",
       "      <th>2386</th>\n",
       "      <td>2021-07-01_D69</td>\n",
       "      <td>-86</td>\n",
       "    </tr>\n",
       "    <tr>\n",
       "      <th>2387</th>\n",
       "      <td>2021-07-01_D59</td>\n",
       "      <td>-44</td>\n",
       "    </tr>\n",
       "    <tr>\n",
       "      <th>2388</th>\n",
       "      <td>2021-07-01_D57</td>\n",
       "      <td>114</td>\n",
       "    </tr>\n",
       "  </tbody>\n",
       "</table>\n",
       "<p>2389 rows × 2 columns</p>\n",
       "</div>"
      ],
      "text/plain": [
       "                  Id  Expected\n",
       "0     2021-07-31_D33       200\n",
       "1     2021-07-31_D37       281\n",
       "2     2021-07-31_D34       312\n",
       "3     2021-07-31_D45        44\n",
       "4     2021-07-31_D50       -20\n",
       "...              ...       ...\n",
       "2384  2021-07-01_D60      -161\n",
       "2385  2021-07-01_D54       140\n",
       "2386  2021-07-01_D69       -86\n",
       "2387  2021-07-01_D59       -44\n",
       "2388  2021-07-01_D57       114\n",
       "\n",
       "[2389 rows x 2 columns]"
      ]
     },
     "execution_count": 9,
     "metadata": {},
     "output_type": "execute_result"
    }
   ],
   "source": [
    "submission = pd.read_csv('data/SampleSubmission.csv')\n",
    "submission"
   ]
  },
  {
   "cell_type": "markdown",
   "id": "5cef151a",
   "metadata": {},
   "source": [
    "In the submission there are some missing stations for some dates..."
   ]
  },
  {
   "cell_type": "code",
   "execution_count": 84,
   "id": "fff3c778",
   "metadata": {},
   "outputs": [
    {
     "data": {
      "image/png": "[encoded data removed]",
      "text/plain": [
       "<Figure size 1080x360 with 1 Axes>"
      ]
     },
     "metadata": {},
     "output_type": "display_data"
    }
   ],
   "source": [
    "station_count = pd.DataFrame(list(submission.Id.str.split('_')), columns=['date','station']).groupby('date', as_index=False).agg('count')\n",
    "station_count['date'] = pd.to_datetime(station_count.date, format='%Y-%m-%d').dt.day\n",
    "\n",
    "sns.set()\n",
    "ax, fig = plt.subplots(figsize=(15,5))\n",
    "sns.barplot(data=station_count, x='date', y='station', color='steelblue')\n",
    "plt.xlabel('July')\n",
    "plt.ylabel('Number of Stations');"
   ]
  },
  {
   "cell_type": "markdown",
   "id": "2affb4fe",
   "metadata": {},
   "source": [
    "### Data Issues\n",
    "- `OFD` is combination of other variables and also includes part of the target variable so it cannot be used.\n",
    "- Incorrect data types (`ofd_date`)\n",
    "- What to do with `fc_codes` variable? One-hot-encode or aggregate or drop?\n",
    "- High amount of zeros in `R_Sideline` and `Sideline`"
   ]
  },
  {
   "cell_type": "markdown",
   "id": "3f3f5d7d",
   "metadata": {},
   "source": [
    "### Data Preprocessing\n",
    "Please create a function for each step to be able to apply it to both train and test set easily and use doc strings to describe what the function does."
   ]
  },
  {
   "cell_type": "code",
   "execution_count": 60,
   "id": "0a33703a",
   "metadata": {},
   "outputs": [],
   "source": [
    "def set_data_types(data):\n",
    "    '''Changes data types to correct type.'''\n",
    "    \n",
    "    data['ofd_date'] = pd.to_datetime(data.ofd_date, format='%Y-%m-%d')\n",
    "    return data\n",
    "\n",
    "\n",
    "def drop_useless(data):\n",
    "    '''Drops unneed variables.'''\n",
    "    \n",
    "    data = data.drop(['OFD'],axis=1)\n",
    "    return data\n",
    "\n",
    "\n",
    "def create_target(data):\n",
    "    '''Creates target variable (Earlies_Exp - MNR_SNR_Exp) and drops those variables.'''\n",
    "    \n",
    "    data['target'] = data['Earlies_Exp'] - data['MNR_SNR_Exp']\n",
    "    data = data.drop(['Earlies_Exp','MNR_SNR_Exp'], axis=1)\n",
    "    return data\n",
    "\n",
    "\n",
    "def apply_preprocessing(data, train=True):\n",
    "    '''Takes all basic preprocessing functions and applies them in one function. Set train to false for test set as no target can be created.'''\n",
    "    \n",
    "    data = set_data_types(data)\n",
    "    data = drop_useless(data)\n",
    "    if train:\n",
    "        data = create_target(data)\n",
    "    return data"
   ]
  },
  {
   "cell_type": "code",
   "execution_count": 61,
   "id": "95d86b0e",
   "metadata": {},
   "outputs": [],
   "source": [
    "train_data = apply_preprocessing(raw_train_data)\n",
    "test_data = apply_preprocessing(raw_test_data, train=False)"
   ]
  },
  {
   "cell_type": "markdown",
   "id": "610d06bb",
   "metadata": {},
   "source": [
    "### Exploratory Data Analysis"
   ]
  },
  {
   "cell_type": "markdown",
   "id": "64911a9c",
   "metadata": {},
   "source": [
    "All of the stations combined:"
   ]
  },
  {
   "cell_type": "code",
   "execution_count": 62,
   "id": "1e9b31af",
   "metadata": {},
   "outputs": [
    {
     "data": {
      "image/png": "[encoded data removed]",
      "text/plain": [
       "<Figure size 576x396 with 1 Axes>"
      ]
     },
     "metadata": {},
     "output_type": "display_data"
    }
   ],
   "source": [
    "sns.set()\n",
    "sns.lineplot(data=train_data, x='ofd_date', y='target');"
   ]
  },
  {
   "cell_type": "markdown",
   "id": "d54f0b61",
   "metadata": {},
   "source": [
    "Just station 1 as an example:"
   ]
  },
  {
   "cell_type": "code",
   "execution_count": 63,
   "id": "35544f25",
   "metadata": {},
   "outputs": [
    {
     "data": {
      "image/png": "[encoded data removed]",
      "text/plain": [
       "<Figure size 576x396 with 1 Axes>"
      ]
     },
     "metadata": {},
     "output_type": "display_data"
    }
   ],
   "source": [
    "sns.lineplot(data=train_data[train_data.station_code=='D1'], x='ofd_date', y='target');"
   ]
  },
  {
   "cell_type": "markdown",
   "id": "e6823f9d",
   "metadata": {},
   "source": [
    "#### Taking care of outliers\n",
    "\n",
    "This will have to be done individually for all 80 timeseries but based on the same rule like all outliers that are 3 standard deviations away from the mean or so..."
   ]
  },
  {
   "cell_type": "code",
   "execution_count": null,
   "id": "a076f5e7",
   "metadata": {},
   "outputs": [],
   "source": []
  },
  {
   "cell_type": "markdown",
   "id": "759cbe23",
   "metadata": {},
   "source": [
    "### Base Model: Seasonal Naive"
   ]
  },
  {
   "cell_type": "code",
   "execution_count": null,
   "id": "425ab834",
   "metadata": {},
   "outputs": [],
   "source": [
    "results = pd.DataFrame()"
   ]
  },
  {
   "cell_type": "code",
   "execution_count": null,
   "id": "b6e5bd35",
   "metadata": {},
   "outputs": [],
   "source": [
    "for station in train_data.station_code:\n",
    "    "
   ]
  }
 ],
 "metadata": {
  "kernelspec": {
   "display_name": "Python 3 (ipykernel)",
   "language": "python",
   "name": "python3"
  },
  "language_info": {
   "codemirror_mode": {
    "name": "ipython",
    "version": 3
   },
   "file_extension": ".py",
   "mimetype": "text/x-python",
   "name": "python",
   "nbconvert_exporter": "python",
   "pygments_lexer": "ipython3",
   "version": "3.9.7"
  },
  "varInspector": {
   "cols": {
    "lenName": 16,
    "lenType": 16,
    "lenVar": 40
   },
   "kernels_config": {
    "python": {
     "delete_cmd_postfix": "",
     "delete_cmd_prefix": "del ",
     "library": "var_list.py",
     "varRefreshCmd": "print(var_dic_list())"
    },
    "r": {
     "delete_cmd_postfix": ") ",
     "delete_cmd_prefix": "rm(",
     "library": "var_list.r",
     "varRefreshCmd": "cat(var_dic_list()) "
    }
   },
   "types_to_exclude": [
    "module",
    "function",
    "builtin_function_or_method",
    "instance",
    "_Feature"
   ],
   "window_display": false
  }
 },
 "nbformat": 4,
 "nbformat_minor": 5
}
